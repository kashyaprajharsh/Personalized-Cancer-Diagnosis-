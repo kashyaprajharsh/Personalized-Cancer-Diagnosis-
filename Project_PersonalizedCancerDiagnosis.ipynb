{
 "cells": [
  {
   "cell_type": "markdown",
   "id": "17a22863",
   "metadata": {},
   "source": [
    "# PersonalizedCancerDiagonosis"
   ]
  },
  {
   "cell_type": "markdown",
   "id": "3cfa925b",
   "metadata": {},
   "source": [
    "## Data : Memorial Sloan Kettering Cancer Center (MSKCC) \n"
   ]
  },
  {
   "cell_type": "markdown",
   "id": "2f21260c",
   "metadata": {},
   "source": [
    "## Real World Problem \n",
    "### Once sequenced, a cancer tumor can have thousands of genetic mutations. But the challenge is distinguishing the mutations that contribute to tumor growth (drivers) from the neutral mutations (passengers). \n",
    " <p>Till now it  has been done Manually which takes lots of time and effort</p>"
   ]
  },
  {
   "cell_type": "markdown",
   "id": "9706f899",
   "metadata": {},
   "source": [
    "## What is Gene Sequencing?\n",
    "<p> <h3>Every gene has an ID(name) and variation associated with it and based on that we can perform classification  of each and every gene into 9 different classes and some of which refers to cancer tumour.</h3>\n",
    "\n",
    "1. Molecular pathologist select a genetic variation to analyze(consider genetic variation as a catogrical random variable).\n",
    "2. Pathologist Searches for evidence in medical literature that are relevant to genetic variation he picked\n",
    "3. Analyzing each text literature corresponding to particular genes(this process is time consuming)\n",
    "<h3>our work is to automate step 3 with a machine learning model</h3>.</p>"
   ]
  },
  {
   "cell_type": "markdown",
   "id": "6f2cd662",
   "metadata": {},
   "source": [
    "# Problem Statement\n",
    "## Classify the given genetic variations/Mutation based on evidence from text-based literature."
   ]
  },
  {
   "cell_type": "markdown",
   "id": "fd8e0c86",
   "metadata": {},
   "source": [
    "<h1>2. Machine Learning Problem Formulation</h1>"
   ]
  },
  {
   "cell_type": "markdown",
   "id": "3853288a",
   "metadata": {},
   "source": [
    "<h3>2.1.1. Data Overview</h3>"
   ]
  },
  {
   "cell_type": "markdown",
   "id": "7d636f22",
   "metadata": {},
   "source": [
    "<h2>2.1. Data</h2>"
   ]
  },
  {
   "cell_type": "markdown",
   "id": "770d8058",
   "metadata": {},
   "source": [
    "- Source: https://www.kaggle.com/c/msk-redefining-cancer-treatment/data\n",
    "- We have two data files: one conatins the information about the genetic mutations and the other contains the clinical evidence (text) that  human experts/pathologists use to classify the genetic mutations. \n",
    "- Both these data files are have a common column called ID\n",
    "- <p> \n",
    "    Data file's information:\n",
    "    <ul> \n",
    "        <li>\n",
    "        training_variants (ID , Gene, Variations, Class)\n",
    "        </li>\n",
    "        <li>\n",
    "        training_text (ID, Text)\n",
    "        </li>\n",
    "    </ul>\n",
    "</p>"
   ]
  },
  {
   "cell_type": "markdown",
   "id": "fc1f0548",
   "metadata": {},
   "source": [
    "<h2>2.2. Mapping the real-world problem to an ML problem</h2>"
   ]
  },
  {
   "cell_type": "markdown",
   "id": "1a960b2d",
   "metadata": {},
   "source": [
    "<h3>2.2.1. Type of Machine Learning Problem</h3>"
   ]
  },
  {
   "cell_type": "markdown",
   "id": "78a655b0",
   "metadata": {},
   "source": [
    "<p>\n",
    "    \n",
    "            There are nine different classes a genetic mutation can be classified into => Multi class classification problem \n",
    "    \n",
    "</p>"
   ]
  },
  {
   "cell_type": "markdown",
   "id": "8a916642",
   "metadata": {},
   "source": [
    "<h3>2.2.2. Performance Metric</h3>"
   ]
  },
  {
   "cell_type": "markdown",
   "id": "fc4a2e7a",
   "metadata": {},
   "source": [
    "Source: https://www.kaggle.com/c/msk-redefining-cancer-treatment#evaluation\n",
    "\n",
    "Metric(s): \n",
    "* Multi class log-loss \n",
    "* Confusion matrix \n"
   ]
  },
  {
   "cell_type": "markdown",
   "id": "fa58fac6",
   "metadata": {},
   "source": [
    "<h3>2.2.3. Machine Learing Objectives and Constraints</h3>"
   ]
  },
  {
   "cell_type": "markdown",
   "id": "f1a4c352",
   "metadata": {},
   "source": [
    "<p> Objective: Predict the probability of each data-point belonging to each of the nine classes.\n",
    "</p>\n",
    "<p> Constraints:\n",
    "</p>\n",
    "* Interpretability\n",
    "* Class probabilities are needed.\n",
    "* Penalize the errors in class probabilites => Metric is Log-loss.\n",
    "* No Latency constraints."
   ]
  },
  {
   "cell_type": "markdown",
   "id": "675c2b02",
   "metadata": {},
   "source": [
    "<h2>2.3. Train, CV and Test Datasets</h2>"
   ]
  },
  {
   "cell_type": "markdown",
   "id": "2d1c74f2",
   "metadata": {},
   "source": [
    " Split the dataset randomly into three parts train, cross validation and test with 64%,16%, 20% of data respectively"
   ]
  },
  {
   "cell_type": "markdown",
   "id": "20540b26",
   "metadata": {},
   "source": [
    "<h1>3. Exploratory Data Analysis</h1>"
   ]
  },
  {
   "cell_type": "code",
   "execution_count": 1,
   "id": "d4e7d1f2",
   "metadata": {},
   "outputs": [
    {
     "name": "stderr",
     "output_type": "stream",
     "text": [
      "[nltk_data] Downloading package stopwords to C:\\Users\\reetu raj\n",
      "[nltk_data]     harsh\\AppData\\Roaming\\nltk_data...\n",
      "[nltk_data]   Package stopwords is already up-to-date!\n"
     ]
    }
   ],
   "source": [
    "import pandas as pd\n",
    "import matplotlib.pyplot as plt\n",
    "import re\n",
    "import time\n",
    "import warnings\n",
    "import numpy as np\n",
    "import nltk\n",
    "nltk.download('stopwords')\n",
    "from nltk.corpus import stopwords \n",
    "from sklearn.decomposition import TruncatedSVD\n",
    "from sklearn.preprocessing import normalize\n",
    "from sklearn.feature_extraction.text import CountVectorizer\n",
    "from sklearn.manifold import TSNE\n",
    "import seaborn as sns\n",
    "from sklearn.neighbors import KNeighborsClassifier\n",
    "from sklearn.metrics import confusion_matrix\n",
    "from sklearn.metrics import classification_report\n",
    "from sklearn.feature_extraction.text import TfidfVectorizer\n",
    "from sklearn.linear_model import SGDClassifier\n",
    "from imblearn.over_sampling import SMOTE\n",
    "from collections import Counter\n",
    "from scipy.sparse import hstack\n",
    "from sklearn.multiclass import OneVsRestClassifier\n",
    "from sklearn.svm import SVC\n",
    "from sklearn.model_selection import StratifiedKFold\n",
    "from collections import Counter, defaultdict\n",
    "from sklearn.calibration import CalibratedClassifierCV\n",
    "from sklearn.naive_bayes import MultinomialNB\n",
    "from sklearn.naive_bayes import GaussianNB\n",
    "from sklearn.model_selection import train_test_split\n",
    "from sklearn.model_selection import GridSearchCV\n",
    "import math\n",
    "from sklearn.metrics import normalized_mutual_info_score\n",
    "from sklearn.ensemble import RandomForestClassifier\n",
    "warnings.filterwarnings(\"ignore\")\n",
    "\n",
    "from mlxtend.classifier import StackingClassifier\n",
    "from sklearn.metrics import log_loss\n",
    "\n",
    "from sklearn import model_selection\n",
    "from sklearn.linear_model import LogisticRegression\n"
   ]
  },
  {
   "cell_type": "markdown",
   "id": "2de64e1e",
   "metadata": {},
   "source": [
    "<h2>3.1. Loading and Reading Data</h2>"
   ]
  },
  {
   "cell_type": "markdown",
   "id": "bb389970",
   "metadata": {},
   "source": [
    "<h3>3.1.1. Reading Gene and Variation Data</h3>"
   ]
  },
  {
   "cell_type": "code",
   "execution_count": 2,
   "id": "2c9c2e7a",
   "metadata": {},
   "outputs": [
    {
     "name": "stdout",
     "output_type": "stream",
     "text": [
      "Number of data points :  3321\n",
      "Number of features :  4\n",
      "Features :  ['ID' 'Gene' 'Variation' 'Class']\n",
      "(3321, 4)\n"
     ]
    },
    {
     "data": {
      "text/html": [
       "<div>\n",
       "<style scoped>\n",
       "    .dataframe tbody tr th:only-of-type {\n",
       "        vertical-align: middle;\n",
       "    }\n",
       "\n",
       "    .dataframe tbody tr th {\n",
       "        vertical-align: top;\n",
       "    }\n",
       "\n",
       "    .dataframe thead th {\n",
       "        text-align: right;\n",
       "    }\n",
       "</style>\n",
       "<table border=\"1\" class=\"dataframe\">\n",
       "  <thead>\n",
       "    <tr style=\"text-align: right;\">\n",
       "      <th></th>\n",
       "      <th>ID</th>\n",
       "      <th>Gene</th>\n",
       "      <th>Variation</th>\n",
       "      <th>Class</th>\n",
       "    </tr>\n",
       "  </thead>\n",
       "  <tbody>\n",
       "    <tr>\n",
       "      <th>0</th>\n",
       "      <td>0</td>\n",
       "      <td>FAM58A</td>\n",
       "      <td>Truncating Mutations</td>\n",
       "      <td>1</td>\n",
       "    </tr>\n",
       "    <tr>\n",
       "      <th>1</th>\n",
       "      <td>1</td>\n",
       "      <td>CBL</td>\n",
       "      <td>W802*</td>\n",
       "      <td>2</td>\n",
       "    </tr>\n",
       "    <tr>\n",
       "      <th>2</th>\n",
       "      <td>2</td>\n",
       "      <td>CBL</td>\n",
       "      <td>Q249E</td>\n",
       "      <td>2</td>\n",
       "    </tr>\n",
       "    <tr>\n",
       "      <th>3</th>\n",
       "      <td>3</td>\n",
       "      <td>CBL</td>\n",
       "      <td>N454D</td>\n",
       "      <td>3</td>\n",
       "    </tr>\n",
       "    <tr>\n",
       "      <th>4</th>\n",
       "      <td>4</td>\n",
       "      <td>CBL</td>\n",
       "      <td>L399V</td>\n",
       "      <td>4</td>\n",
       "    </tr>\n",
       "  </tbody>\n",
       "</table>\n",
       "</div>"
      ],
      "text/plain": [
       "   ID    Gene             Variation  Class\n",
       "0   0  FAM58A  Truncating Mutations      1\n",
       "1   1     CBL                 W802*      2\n",
       "2   2     CBL                 Q249E      2\n",
       "3   3     CBL                 N454D      3\n",
       "4   4     CBL                 L399V      4"
      ]
     },
     "execution_count": 2,
     "metadata": {},
     "output_type": "execute_result"
    }
   ],
   "source": [
    "data = pd.read_csv('training_variants')\n",
    "print('Number of data points : ', data.shape[0])\n",
    "print('Number of features : ', data.shape[1])\n",
    "print('Features : ', data.columns.values)\n",
    "print(data.shape)\n",
    "data.head()"
   ]
  },
  {
   "cell_type": "markdown",
   "id": "1d70dff3",
   "metadata": {},
   "source": [
    "<p>\n",
    "    training_variants is a comma separated file containing the description of the genetic mutations used for training. <br>\n",
    "    Fields are \n",
    "    <ul>\n",
    "        <li><b>ID : </b>the id of the row used to link the mutation to the clinical evidence</li>\n",
    "        <li><b>Gene : </b>the gene where this genetic mutation is located </li>\n",
    "        <li><b>Variation : </b>the aminoacid change for this mutations </li>\n",
    "        <li><b>Class :</b> 1-9 the class this genetic mutation has been classified on</li>\n",
    "    </ul>"
   ]
  },
  {
   "cell_type": "markdown",
   "id": "8ce9d854",
   "metadata": {},
   "source": [
    "<h3>3.1.2. Reading Text Data</h3>"
   ]
  },
  {
   "cell_type": "code",
   "execution_count": 3,
   "id": "fa6b39e6",
   "metadata": {},
   "outputs": [
    {
     "name": "stdout",
     "output_type": "stream",
     "text": [
      "Number of data points :  3321\n",
      "Number of features :  2\n",
      "Features :  ['ID' 'TEXT']\n",
      "(3321, 2)\n"
     ]
    },
    {
     "data": {
      "text/html": [
       "<div>\n",
       "<style scoped>\n",
       "    .dataframe tbody tr th:only-of-type {\n",
       "        vertical-align: middle;\n",
       "    }\n",
       "\n",
       "    .dataframe tbody tr th {\n",
       "        vertical-align: top;\n",
       "    }\n",
       "\n",
       "    .dataframe thead th {\n",
       "        text-align: right;\n",
       "    }\n",
       "</style>\n",
       "<table border=\"1\" class=\"dataframe\">\n",
       "  <thead>\n",
       "    <tr style=\"text-align: right;\">\n",
       "      <th></th>\n",
       "      <th>ID</th>\n",
       "      <th>TEXT</th>\n",
       "    </tr>\n",
       "  </thead>\n",
       "  <tbody>\n",
       "    <tr>\n",
       "      <th>0</th>\n",
       "      <td>0</td>\n",
       "      <td>Cyclin-dependent kinases (CDKs) regulate a var...</td>\n",
       "    </tr>\n",
       "    <tr>\n",
       "      <th>1</th>\n",
       "      <td>1</td>\n",
       "      <td>Abstract Background  Non-small cell lung canc...</td>\n",
       "    </tr>\n",
       "    <tr>\n",
       "      <th>2</th>\n",
       "      <td>2</td>\n",
       "      <td>Abstract Background  Non-small cell lung canc...</td>\n",
       "    </tr>\n",
       "    <tr>\n",
       "      <th>3</th>\n",
       "      <td>3</td>\n",
       "      <td>Recent evidence has demonstrated that acquired...</td>\n",
       "    </tr>\n",
       "    <tr>\n",
       "      <th>4</th>\n",
       "      <td>4</td>\n",
       "      <td>Oncogenic mutations in the monomeric Casitas B...</td>\n",
       "    </tr>\n",
       "  </tbody>\n",
       "</table>\n",
       "</div>"
      ],
      "text/plain": [
       "   ID                                               TEXT\n",
       "0   0  Cyclin-dependent kinases (CDKs) regulate a var...\n",
       "1   1   Abstract Background  Non-small cell lung canc...\n",
       "2   2   Abstract Background  Non-small cell lung canc...\n",
       "3   3  Recent evidence has demonstrated that acquired...\n",
       "4   4  Oncogenic mutations in the monomeric Casitas B..."
      ]
     },
     "execution_count": 3,
     "metadata": {},
     "output_type": "execute_result"
    }
   ],
   "source": [
    "# note the seprator in this file\n",
    "data_text =pd.read_csv(\"training_text\",sep=\"\\|\\|\",engine=\"python\",names=[\"ID\",\"TEXT\"],skiprows=1)\n",
    "print('Number of data points : ', data_text.shape[0])\n",
    "print('Number of features : ', data_text.shape[1])\n",
    "print('Features : ', data_text.columns.values)\n",
    "print(data_text.shape)\n",
    "data_text.head()"
   ]
  },
  {
   "cell_type": "markdown",
   "id": "15ac6b38",
   "metadata": {},
   "source": [
    "<h3>3.1.3. Preprocessing of text</h3>"
   ]
  },
  {
   "cell_type": "code",
   "execution_count": 4,
   "id": "a78122d8",
   "metadata": {},
   "outputs": [],
   "source": [
    "# loading stop words from nltk library\n",
    "stop_words = set(stopwords.words('english'))\n",
    "\n",
    "\n",
    "def nlp_preprocessing(total_text, index, column):\n",
    "    if type(total_text) is not int:\n",
    "        string = \"\"\n",
    "        # replace every special char with space\n",
    "        total_text = re.sub('[^a-zA-Z0-9\\n]', ' ', total_text)\n",
    "        # replace multiple spaces with single space\n",
    "        total_text = re.sub('\\s+',' ', total_text)\n",
    "        # converting all the chars into lower-case.\n",
    "        total_text = total_text.lower()\n",
    "        \n",
    "        for word in total_text.split():\n",
    "        # if the word is a not a stop word then retain that word from the data\n",
    "            if not word in stop_words:\n",
    "                string += word + \" \"\n",
    "        \n",
    "        data_text[column][index] = string"
   ]
  },
  {
   "cell_type": "code",
   "execution_count": 5,
   "id": "f370f403",
   "metadata": {},
   "outputs": [
    {
     "name": "stdout",
     "output_type": "stream",
     "text": [
      "there is no text description for id: 1109\n",
      "there is no text description for id: 1277\n",
      "there is no text description for id: 1407\n",
      "there is no text description for id: 1639\n",
      "there is no text description for id: 2755\n",
      "Time took for preprocessing the text : 111.53125 seconds\n"
     ]
    }
   ],
   "source": [
    "#text processing stage.\n",
    "start_time = time.process_time()\n",
    "for index, row in data_text.iterrows():\n",
    "    if type(row['TEXT']) is str:\n",
    "        nlp_preprocessing(row['TEXT'], index, 'TEXT')\n",
    "    else:\n",
    "        print(\"there is no text description for id:\",index)\n",
    "print('Time took for preprocessing the text :',time.process_time() - start_time, \"seconds\")"
   ]
  },
  {
   "cell_type": "code",
   "execution_count": 6,
   "id": "d160d7fe",
   "metadata": {},
   "outputs": [
    {
     "data": {
      "text/html": [
       "<div>\n",
       "<style scoped>\n",
       "    .dataframe tbody tr th:only-of-type {\n",
       "        vertical-align: middle;\n",
       "    }\n",
       "\n",
       "    .dataframe tbody tr th {\n",
       "        vertical-align: top;\n",
       "    }\n",
       "\n",
       "    .dataframe thead th {\n",
       "        text-align: right;\n",
       "    }\n",
       "</style>\n",
       "<table border=\"1\" class=\"dataframe\">\n",
       "  <thead>\n",
       "    <tr style=\"text-align: right;\">\n",
       "      <th></th>\n",
       "      <th>ID</th>\n",
       "      <th>Gene</th>\n",
       "      <th>Variation</th>\n",
       "      <th>Class</th>\n",
       "      <th>TEXT</th>\n",
       "    </tr>\n",
       "  </thead>\n",
       "  <tbody>\n",
       "    <tr>\n",
       "      <th>0</th>\n",
       "      <td>0</td>\n",
       "      <td>FAM58A</td>\n",
       "      <td>Truncating Mutations</td>\n",
       "      <td>1</td>\n",
       "      <td>cyclin dependent kinases cdks regulate variety...</td>\n",
       "    </tr>\n",
       "    <tr>\n",
       "      <th>1</th>\n",
       "      <td>1</td>\n",
       "      <td>CBL</td>\n",
       "      <td>W802*</td>\n",
       "      <td>2</td>\n",
       "      <td>abstract background non small cell lung cancer...</td>\n",
       "    </tr>\n",
       "    <tr>\n",
       "      <th>2</th>\n",
       "      <td>2</td>\n",
       "      <td>CBL</td>\n",
       "      <td>Q249E</td>\n",
       "      <td>2</td>\n",
       "      <td>abstract background non small cell lung cancer...</td>\n",
       "    </tr>\n",
       "    <tr>\n",
       "      <th>3</th>\n",
       "      <td>3</td>\n",
       "      <td>CBL</td>\n",
       "      <td>N454D</td>\n",
       "      <td>3</td>\n",
       "      <td>recent evidence demonstrated acquired uniparen...</td>\n",
       "    </tr>\n",
       "    <tr>\n",
       "      <th>4</th>\n",
       "      <td>4</td>\n",
       "      <td>CBL</td>\n",
       "      <td>L399V</td>\n",
       "      <td>4</td>\n",
       "      <td>oncogenic mutations monomeric casitas b lineag...</td>\n",
       "    </tr>\n",
       "  </tbody>\n",
       "</table>\n",
       "</div>"
      ],
      "text/plain": [
       "   ID    Gene             Variation  Class  \\\n",
       "0   0  FAM58A  Truncating Mutations      1   \n",
       "1   1     CBL                 W802*      2   \n",
       "2   2     CBL                 Q249E      2   \n",
       "3   3     CBL                 N454D      3   \n",
       "4   4     CBL                 L399V      4   \n",
       "\n",
       "                                                TEXT  \n",
       "0  cyclin dependent kinases cdks regulate variety...  \n",
       "1  abstract background non small cell lung cancer...  \n",
       "2  abstract background non small cell lung cancer...  \n",
       "3  recent evidence demonstrated acquired uniparen...  \n",
       "4  oncogenic mutations monomeric casitas b lineag...  "
      ]
     },
     "execution_count": 6,
     "metadata": {},
     "output_type": "execute_result"
    }
   ],
   "source": [
    "#merging both gene_variations and text data based on ID\n",
    "result = pd.merge(data, data_text,on='ID', how='left')\n",
    "result.head()"
   ]
  },
  {
   "cell_type": "code",
   "execution_count": 7,
   "id": "7fc75487",
   "metadata": {},
   "outputs": [
    {
     "data": {
      "text/html": [
       "<div>\n",
       "<style scoped>\n",
       "    .dataframe tbody tr th:only-of-type {\n",
       "        vertical-align: middle;\n",
       "    }\n",
       "\n",
       "    .dataframe tbody tr th {\n",
       "        vertical-align: top;\n",
       "    }\n",
       "\n",
       "    .dataframe thead th {\n",
       "        text-align: right;\n",
       "    }\n",
       "</style>\n",
       "<table border=\"1\" class=\"dataframe\">\n",
       "  <thead>\n",
       "    <tr style=\"text-align: right;\">\n",
       "      <th></th>\n",
       "      <th>ID</th>\n",
       "      <th>Gene</th>\n",
       "      <th>Variation</th>\n",
       "      <th>Class</th>\n",
       "      <th>TEXT</th>\n",
       "    </tr>\n",
       "  </thead>\n",
       "  <tbody>\n",
       "    <tr>\n",
       "      <th>1109</th>\n",
       "      <td>1109</td>\n",
       "      <td>FANCA</td>\n",
       "      <td>S1088F</td>\n",
       "      <td>1</td>\n",
       "      <td>NaN</td>\n",
       "    </tr>\n",
       "    <tr>\n",
       "      <th>1277</th>\n",
       "      <td>1277</td>\n",
       "      <td>ARID5B</td>\n",
       "      <td>Truncating Mutations</td>\n",
       "      <td>1</td>\n",
       "      <td>NaN</td>\n",
       "    </tr>\n",
       "    <tr>\n",
       "      <th>1407</th>\n",
       "      <td>1407</td>\n",
       "      <td>FGFR3</td>\n",
       "      <td>K508M</td>\n",
       "      <td>6</td>\n",
       "      <td>NaN</td>\n",
       "    </tr>\n",
       "    <tr>\n",
       "      <th>1639</th>\n",
       "      <td>1639</td>\n",
       "      <td>FLT1</td>\n",
       "      <td>Amplification</td>\n",
       "      <td>6</td>\n",
       "      <td>NaN</td>\n",
       "    </tr>\n",
       "    <tr>\n",
       "      <th>2755</th>\n",
       "      <td>2755</td>\n",
       "      <td>BRAF</td>\n",
       "      <td>G596C</td>\n",
       "      <td>7</td>\n",
       "      <td>NaN</td>\n",
       "    </tr>\n",
       "  </tbody>\n",
       "</table>\n",
       "</div>"
      ],
      "text/plain": [
       "        ID    Gene             Variation  Class TEXT\n",
       "1109  1109   FANCA                S1088F      1  NaN\n",
       "1277  1277  ARID5B  Truncating Mutations      1  NaN\n",
       "1407  1407   FGFR3                 K508M      6  NaN\n",
       "1639  1639    FLT1         Amplification      6  NaN\n",
       "2755  2755    BRAF                 G596C      7  NaN"
      ]
     },
     "execution_count": 7,
     "metadata": {},
     "output_type": "execute_result"
    }
   ],
   "source": [
    "result[result.isnull().any(axis=1)]"
   ]
  },
  {
   "cell_type": "code",
   "execution_count": 8,
   "id": "8c79c4d8",
   "metadata": {},
   "outputs": [],
   "source": [
    "result.loc[result['TEXT'].isnull(),'TEXT'] = result['Gene'] +' '+result['Variation']"
   ]
  },
  {
   "cell_type": "code",
   "execution_count": 9,
   "id": "494237bb",
   "metadata": {},
   "outputs": [
    {
     "data": {
      "text/html": [
       "<div>\n",
       "<style scoped>\n",
       "    .dataframe tbody tr th:only-of-type {\n",
       "        vertical-align: middle;\n",
       "    }\n",
       "\n",
       "    .dataframe tbody tr th {\n",
       "        vertical-align: top;\n",
       "    }\n",
       "\n",
       "    .dataframe thead th {\n",
       "        text-align: right;\n",
       "    }\n",
       "</style>\n",
       "<table border=\"1\" class=\"dataframe\">\n",
       "  <thead>\n",
       "    <tr style=\"text-align: right;\">\n",
       "      <th></th>\n",
       "      <th>ID</th>\n",
       "      <th>Gene</th>\n",
       "      <th>Variation</th>\n",
       "      <th>Class</th>\n",
       "      <th>TEXT</th>\n",
       "    </tr>\n",
       "  </thead>\n",
       "  <tbody>\n",
       "    <tr>\n",
       "      <th>1109</th>\n",
       "      <td>1109</td>\n",
       "      <td>FANCA</td>\n",
       "      <td>S1088F</td>\n",
       "      <td>1</td>\n",
       "      <td>FANCA S1088F</td>\n",
       "    </tr>\n",
       "  </tbody>\n",
       "</table>\n",
       "</div>"
      ],
      "text/plain": [
       "        ID   Gene Variation  Class          TEXT\n",
       "1109  1109  FANCA    S1088F      1  FANCA S1088F"
      ]
     },
     "execution_count": 9,
     "metadata": {},
     "output_type": "execute_result"
    }
   ],
   "source": [
    "result[result['ID']==1109]"
   ]
  },
  {
   "cell_type": "markdown",
   "id": "03e14e52",
   "metadata": {},
   "source": [
    "<h3>3.1.4. Test, Train and Cross Validation Split</h3>"
   ]
  },
  {
   "cell_type": "markdown",
   "id": "5b85e9cd",
   "metadata": {},
   "source": [
    "<h4>3.1.4.1. Splitting data into train, test and cross validation (64:20:16)</h4>"
   ]
  },
  {
   "cell_type": "code",
   "execution_count": 10,
   "id": "e966d81b",
   "metadata": {},
   "outputs": [],
   "source": [
    "y_true = result['Class'].values\n",
    "result.Gene      = result.Gene.str.replace('\\s+', '_')\n",
    "result.Variation = result.Variation.str.replace('\\s+', '_')\n",
    "\n",
    "# split the data into test and train by maintaining same distribution of output varaible 'y_true' [stratify=y_true]\n",
    "X_train, test_df, y_train, y_test = train_test_split(result, y_true, stratify=y_true, test_size=0.2)\n",
    "# split the train data into train and cross validation by maintaining same distribution of output varaible 'y_train' [stratify=y_train]\n",
    "train_df, cv_df, y_train, y_cv = train_test_split(X_train, y_train, stratify=y_train, test_size=0.2)"
   ]
  },
  {
   "cell_type": "markdown",
   "id": "ad538193",
   "metadata": {},
   "source": [
    "<p> We split the data into train, test and cross validation data sets, preserving the ratio of class distribution in the original data set  </p>"
   ]
  },
  {
   "cell_type": "code",
   "execution_count": 11,
   "id": "5871a48f",
   "metadata": {},
   "outputs": [
    {
     "name": "stdout",
     "output_type": "stream",
     "text": [
      "Number of data points in train data: 2124\n",
      "Number of data points in test data: 665\n",
      "Number of data points in cross validation data: 532\n"
     ]
    }
   ],
   "source": [
    "print('Number of data points in train data:', train_df.shape[0])\n",
    "print('Number of data points in test data:', test_df.shape[0])\n",
    "print('Number of data points in cross validation data:', cv_df.shape[0])"
   ]
  },
  {
   "cell_type": "markdown",
   "id": "82941ad6",
   "metadata": {},
   "source": [
    "<h4>3.1.4.2. Distribution of y_i's in Train, Test and Cross Validation datasets</h4>"
   ]
  },
  {
   "cell_type": "code",
   "execution_count": 12,
   "id": "8f29fe02",
   "metadata": {},
   "outputs": [
    {
     "data": {
      "image/png": "[encoded data removed]",
      "text/plain": [
       "<Figure size 432x288 with 1 Axes>"
      ]
     },
     "metadata": {
      "needs_background": "light"
     },
     "output_type": "display_data"
    },
    {
     "name": "stdout",
     "output_type": "stream",
     "text": [
      "Number of data points in class 7 : 609 ( 28.672 %)\n",
      "Number of data points in class 4 : 439 ( 20.669 %)\n",
      "Number of data points in class 1 : 363 ( 17.09 %)\n",
      "Number of data points in class 2 : 289 ( 13.606 %)\n",
      "Number of data points in class 6 : 176 ( 8.286 %)\n",
      "Number of data points in class 5 : 155 ( 7.298 %)\n",
      "Number of data points in class 3 : 57 ( 2.684 %)\n",
      "Number of data points in class 9 : 24 ( 1.13 %)\n",
      "Number of data points in class 8 : 12 ( 0.565 %)\n",
      "--------------------------------------------------------------------------------\n"
     ]
    },
    {
     "data": {
      "image/png": "[encoded data removed]",
      "text/plain": [
       "<Figure size 432x288 with 1 Axes>"
      ]
     },
     "metadata": {
      "needs_background": "light"
     },
     "output_type": "display_data"
    },
    {
     "name": "stdout",
     "output_type": "stream",
     "text": [
      "Number of data points in class 7 : 191 ( 28.722 %)\n",
      "Number of data points in class 4 : 137 ( 20.602 %)\n",
      "Number of data points in class 1 : 114 ( 17.143 %)\n",
      "Number of data points in class 2 : 91 ( 13.684 %)\n",
      "Number of data points in class 6 : 55 ( 8.271 %)\n",
      "Number of data points in class 5 : 48 ( 7.218 %)\n",
      "Number of data points in class 3 : 18 ( 2.707 %)\n",
      "Number of data points in class 9 : 7 ( 1.053 %)\n",
      "Number of data points in class 8 : 4 ( 0.602 %)\n",
      "--------------------------------------------------------------------------------\n"
     ]
    },
    {
     "data": {
      "image/png": "[encoded data removed]",
      "text/plain": [
       "<Figure size 432x288 with 1 Axes>"
      ]
     },
     "metadata": {
      "needs_background": "light"
     },
     "output_type": "display_data"
    },
    {
     "name": "stdout",
     "output_type": "stream",
     "text": [
      "Number of data points in class 7 : 153 ( 28.759 %)\n",
      "Number of data points in class 4 : 110 ( 20.677 %)\n",
      "Number of data points in class 1 : 91 ( 17.105 %)\n",
      "Number of data points in class 2 : 72 ( 13.534 %)\n",
      "Number of data points in class 6 : 44 ( 8.271 %)\n",
      "Number of data points in class 5 : 39 ( 7.331 %)\n",
      "Number of data points in class 3 : 14 ( 2.632 %)\n",
      "Number of data points in class 9 : 6 ( 1.128 %)\n",
      "Number of data points in class 8 : 3 ( 0.564 %)\n"
     ]
    }
   ],
   "source": [
    "# it returns a dict, keys as class labels and values as the number of data points in that class\n",
    "train_class_distribution = train_df['Class'].value_counts().sort_index()\n",
    "test_class_distribution = test_df['Class'].value_counts().sort_index()\n",
    "cv_class_distribution = cv_df['Class'].value_counts().sort_index()\n",
    "\n",
    "my_colors = 'rgbkymc'\n",
    "train_class_distribution.plot(kind='bar',color=['black', 'red', 'green', 'blue', 'cyan','orange','brown','magenta','yellow'])\n",
    "plt.xlabel('Class')\n",
    "plt.ylabel('Data points per Class')\n",
    "plt.title('Distribution of yi in train data')\n",
    "plt.grid()\n",
    "plt.show()\n",
    "\n",
    "\n",
    "sorted_yi = np.argsort(-train_class_distribution.values)\n",
    "for i in sorted_yi:\n",
    "    print('Number of data points in class', i+1, ':',train_class_distribution.values[i], '(', np.round((train_class_distribution.values[i]/train_df.shape[0]*100), 3), '%)')\n",
    "\n",
    "    \n",
    "    \n",
    "print('-'*80)\n",
    "my_colors = 'rgbkymc'\n",
    "test_class_distribution.plot(kind='bar',color=['black', 'red', 'green', 'blue', 'cyan','orange','brown','magenta','yellow'])\n",
    "plt.xlabel('Class')\n",
    "plt.ylabel('Data points per Class')\n",
    "plt.title('Distribution of yi in test data')\n",
    "plt.grid()\n",
    "plt.show()\n",
    "\n",
    "\n",
    "\n",
    "sorted_yi = np.argsort(-test_class_distribution.values)\n",
    "for i in sorted_yi:\n",
    "    print('Number of data points in class', i+1, ':',test_class_distribution.values[i], '(', np.round((test_class_distribution.values[i]/test_df.shape[0]*100), 3), '%)')\n",
    "\n",
    "print('-'*80)\n",
    "my_colors = 'rgbkymc'\n",
    "cv_class_distribution.plot(kind='bar',color=['black', 'red', 'green', 'blue', 'cyan','orange','brown','magenta','yellow'])\n",
    "plt.xlabel('Class')\n",
    "plt.ylabel('Data points per Class')\n",
    "plt.title('Distribution of yi in cross validation data')\n",
    "plt.grid()\n",
    "plt.show()\n",
    "\n",
    "sorted_yi = np.argsort(-train_class_distribution.values)\n",
    "for i in sorted_yi:\n",
    "    print('Number of data points in class', i+1, ':',cv_class_distribution.values[i], '(', np.round((cv_class_distribution.values[i]/cv_df.shape[0]*100), 3), '%)')"
   ]
  },
  {
   "cell_type": "markdown",
   "id": "4a58ce17",
   "metadata": {},
   "source": [
    "<h2>3.2 Prediction using a 'Random' Model</h2>"
   ]
  },
  {
   "cell_type": "markdown",
   "id": "416fcd70",
   "metadata": {},
   "source": [
    "<p style=\"font-size:16px\"> In a 'Random' Model, we generate the NINE class probabilites randomly such that they sum to 1. </p>"
   ]
  },
  {
   "cell_type": "code",
   "execution_count": 13,
   "id": "af6f2ab4",
   "metadata": {},
   "outputs": [],
   "source": [
    "# This function plots the confusion matrices given y_i, y_i_hat.\n",
    "def plot_confusion_matrix(test_y, predict_y):\n",
    "    C = confusion_matrix(test_y, predict_y)\n",
    "    # C = 9,9 matrix, each cell (i,j) represents number of points of class i are predicted class j\n",
    "    \n",
    "    A =(((C.T)/(C.sum(axis=1))).T)\n",
    "    #divid each element of the confusion matrix with the sum of elements in that column\n",
    "    \n",
    "    # C = [[1, 2],\n",
    "    #     [3, 4]]\n",
    "    # C.T = [[1, 3],\n",
    "    #        [2, 4]]\n",
    "    # C.sum(axis = 1)  axis=0 corresonds to columns and axis=1 corresponds to rows in two diamensional array\n",
    "    # C.sum(axix =1) = [[3, 7]]\n",
    "    # ((C.T)/(C.sum(axis=1))) = [[1/3, 3/7]\n",
    "    #                           [2/3, 4/7]]\n",
    "\n",
    "    # ((C.T)/(C.sum(axis=1))).T = [[1/3, 2/3]\n",
    "    #                           [3/7, 4/7]]\n",
    "    # sum of row elements = 1\n",
    "    \n",
    "    B =(C/C.sum(axis=0))\n",
    "    #divid each element of the confusion matrix with the sum of elements in that row\n",
    "    # C = [[1, 2],\n",
    "    #     [3, 4]]\n",
    "    # C.sum(axis = 0)  axis=0 corresonds to columns and axis=1 corresponds to rows in two diamensional array\n",
    "    # C.sum(axix =0) = [[4, 6]]\n",
    "    # (C/C.sum(axis=0)) = [[1/4, 2/6],\n",
    "    #                      [3/4, 4/6]] \n",
    "    \n",
    "    labels = [1,2,3,4,5,6,7,8,9]\n",
    "    # representing A in heatmap format\n",
    "    print(\"-\"*20, \"Confusion matrix\", \"-\"*20)\n",
    "    plt.figure(figsize=(20,7))\n",
    "    sns.heatmap(C, annot=True, cmap=\"YlGnBu\", fmt=\".3f\", xticklabels=labels, yticklabels=labels)\n",
    "    plt.xlabel('Predicted Class')\n",
    "    plt.ylabel('Original Class')\n",
    "    plt.show()\n",
    "\n",
    "    print(\"-\"*20, \"Precision matrix (Columm Sum=1)\", \"-\"*20)\n",
    "    plt.figure(figsize=(20,7))\n",
    "    sns.heatmap(B, annot=True, cmap=\"YlGnBu\", fmt=\".3f\", xticklabels=labels, yticklabels=labels)\n",
    "    plt.xlabel('Predicted Class')\n",
    "    plt.ylabel('Original Class')\n",
    "    plt.show()\n",
    "    \n",
    "    # representing B in heatmap format\n",
    "    print(\"-\"*20, \"Recall matrix (Row sum=1)\", \"-\"*20)\n",
    "    plt.figure(figsize=(20,7))\n",
    "    sns.heatmap(A, annot=True, cmap=\"YlGnBu\", fmt=\".3f\", xticklabels=labels, yticklabels=labels)\n",
    "    plt.xlabel('Predicted Class')\n",
    "    plt.ylabel('Original Class')\n",
    "    plt.show()"
   ]
  },
  {
   "cell_type": "code",
   "execution_count": 14,
   "id": "3102db80",
   "metadata": {},
   "outputs": [
    {
     "name": "stdout",
     "output_type": "stream",
     "text": [
      "Log loss on Cross Validation Data using Random Model 2.4259235593288304\n",
      "Log loss on Test Data using Random Model 2.4570026613335227\n",
      "-------------------- Confusion matrix --------------------\n"
     ]
    },
    {
     "data": {
      "image/png": "[encoded data removed]",
      "text/plain": [
       "<Figure size 1440x504 with 2 Axes>"
      ]
     },
     "metadata": {
      "needs_background": "light"
     },
     "output_type": "display_data"
    },
    {
     "name": "stdout",
     "output_type": "stream",
     "text": [
      "-------------------- Precision matrix (Columm Sum=1) --------------------\n"
     ]
    },
    {
     "data": {
      "image/png": "[encoded data removed]",
      "text/plain": [
       "<Figure size 1440x504 with 2 Axes>"
      ]
     },
     "metadata": {
      "needs_background": "light"
     },
     "output_type": "display_data"
    },
    {
     "name": "stdout",
     "output_type": "stream",
     "text": [
      "-------------------- Recall matrix (Row sum=1) --------------------\n"
     ]
    },
    {
     "data": {
      "image/png": "[encoded data removed]",
      "text/plain": [
       "<Figure size 1440x504 with 2 Axes>"
      ]
     },
     "metadata": {
      "needs_background": "light"
     },
     "output_type": "display_data"
    }
   ],
   "source": [
    "# we need to generate 9 numbers and the sum of numbers should be 1\n",
    "# one solution is to genarate 9 numbers and divide each of the numbers by their sum\n",
    "test_data_len = test_df.shape[0]\n",
    "cv_data_len = cv_df.shape[0]\n",
    "\n",
    "# we create a output array that has exactly same size as the CV data\n",
    "cv_predicted_y = np.zeros((cv_data_len,9))\n",
    "for i in range(cv_data_len):\n",
    "    rand_probs = np.random.rand(1,9)\n",
    "    cv_predicted_y[i] = ((rand_probs/sum(sum(rand_probs)))[0])\n",
    "print(\"Log loss on Cross Validation Data using Random Model\",log_loss(y_cv,cv_predicted_y, eps=1e-15))\n",
    "\n",
    "\n",
    "# Test-Set error.\n",
    "#we create a output array that has exactly same as the test data\n",
    "test_predicted_y = np.zeros((test_data_len,9))\n",
    "for i in range(test_data_len):\n",
    "    rand_probs = np.random.rand(1,9)\n",
    "    test_predicted_y[i] = ((rand_probs/sum(sum(rand_probs)))[0])\n",
    "print(\"Log loss on Test Data using Random Model\",log_loss(y_test,test_predicted_y, eps=1e-15))\n",
    "\n",
    "predicted_y =np.argmax(test_predicted_y, axis=1)\n",
    "plot_confusion_matrix(y_test, predicted_y+1)"
   ]
  },
  {
   "cell_type": "markdown",
   "id": "0303ffcb",
   "metadata": {},
   "source": [
    "<h2>3.3 Univariate Analysis</h2>"
   ]
  },
  {
   "cell_type": "code",
   "execution_count": 15,
   "id": "5f448dda",
   "metadata": {},
   "outputs": [],
   "source": [
    "# code for response coding with Laplace smoothing.\n",
    "# alpha : used for laplace smoothing\n",
    "# feature: ['gene', 'variation']\n",
    "# df: ['train_df', 'test_df', 'cv_df']\n",
    "# algorithm\n",
    "# ----------\n",
    "# Consider all unique values and the number of occurances of given feature in train data dataframe\n",
    "# build a vector (1*9) , the first element = (number of times it occured in class1 + 10*alpha / number of time it occurred in total data+90*alpha)\n",
    "# gv_dict is like a look up table, for every gene it store a (1*9) representation of it\n",
    "# for a value of feature in df:\n",
    "# if it is in train data:\n",
    "# we add the vector that was stored in 'gv_dict' look up table to 'gv_fea'\n",
    "# if it is not there is train:\n",
    "# we add [1/9, 1/9, 1/9, 1/9,1/9, 1/9, 1/9, 1/9, 1/9] to 'gv_fea'\n",
    "# return 'gv_fea'\n",
    "# ----------------------\n",
    "\n",
    "# get_gv_fea_dict: Get Gene varaition Feature Dict\n",
    "def get_gv_fea_dict(alpha, feature, df):\n",
    "    # value_count: it contains a dict like\n",
    "    # print(train_df['Gene'].value_counts())\n",
    "    # output:\n",
    "    #        {BRCA1      174\n",
    "    #         TP53       106\n",
    "    #         EGFR        86\n",
    "    #         BRCA2       75\n",
    "    #         PTEN        69\n",
    "    #         KIT         61\n",
    "    #         BRAF        60\n",
    "    #         ERBB2       47\n",
    "    #         PDGFRA      46\n",
    "    #         ...}\n",
    "    # print(train_df['Variation'].value_counts())\n",
    "    # output:\n",
    "    # {\n",
    "    # Truncating_Mutations                     63\n",
    "    # Deletion                                 43\n",
    "    # Amplification                            43\n",
    "    # Fusions                                  22\n",
    "    # Overexpression                            3\n",
    "    # E17K                                      3\n",
    "    # Q61L                                      3\n",
    "    # S222D                                     2\n",
    "    # P130S                                     2\n",
    "    # ...\n",
    "    # }\n",
    "    value_count = train_df[feature].value_counts()\n",
    "    \n",
    "    # gv_dict : Gene Variation Dict, which contains the probability array for each gene/variation\n",
    "    gv_dict = dict()\n",
    "    \n",
    "    # denominator will contain the number of time that particular feature occured in whole data\n",
    "    for i, denominator in value_count.items():\n",
    "        # vec will contain (p(yi==1/Gi) probability of gene/variation belongs to perticular class\n",
    "        # vec is 9 diamensional vector\n",
    "        vec = []\n",
    "        for k in range(1,10):\n",
    "            # print(train_df.loc[(train_df['Class']==1) & (train_df['Gene']=='BRCA1')])\n",
    "            #         ID   Gene             Variation  Class  \n",
    "            # 2470  2470  BRCA1                S1715C      1   \n",
    "            # 2486  2486  BRCA1                S1841R      1   \n",
    "            # 2614  2614  BRCA1                   M1R      1   \n",
    "            # 2432  2432  BRCA1                L1657P      1   \n",
    "            # 2567  2567  BRCA1                T1685A      1   \n",
    "            # 2583  2583  BRCA1                E1660G      1   \n",
    "            # 2634  2634  BRCA1                W1718L      1   \n",
    "            # cls_cnt.shape[0] will return the number of rows\n",
    "\n",
    "            cls_cnt = train_df.loc[(train_df['Class']==k) & (train_df[feature]==i)]\n",
    "            \n",
    "            # cls_cnt.shape[0](numerator) will contain the number of time that particular feature occured in whole data\n",
    "            vec.append((cls_cnt.shape[0] + alpha*10)/ (denominator + 90*alpha))\n",
    "\n",
    "        # we are adding the gene/variation to the dict as key and vec as value\n",
    "        gv_dict[i]=vec\n",
    "    return gv_dict\n",
    "\n",
    "# Get Gene variation feature\n",
    "def get_gv_feature(alpha, feature, df):\n",
    "    # print(gv_dict)\n",
    "    #     {'BRCA1': [0.20075757575757575, 0.03787878787878788, 0.068181818181818177, 0.13636363636363635, 0.25, 0.19318181818181818, 0.03787878787878788, 0.03787878787878788, 0.03787878787878788], \n",
    "    #      'TP53': [0.32142857142857145, 0.061224489795918366, 0.061224489795918366, 0.27040816326530615, 0.061224489795918366, 0.066326530612244902, 0.051020408163265307, 0.051020408163265307, 0.056122448979591837], \n",
    "    #      'EGFR': [0.056818181818181816, 0.21590909090909091, 0.0625, 0.068181818181818177, 0.068181818181818177, 0.0625, 0.34659090909090912, 0.0625, 0.056818181818181816], \n",
    "    #      'BRCA2': [0.13333333333333333, 0.060606060606060608, 0.060606060606060608, 0.078787878787878782, 0.1393939393939394, 0.34545454545454546, 0.060606060606060608, 0.060606060606060608, 0.060606060606060608], \n",
    "    #      'PTEN': [0.069182389937106917, 0.062893081761006289, 0.069182389937106917, 0.46540880503144655, 0.075471698113207544, 0.062893081761006289, 0.069182389937106917, 0.062893081761006289, 0.062893081761006289], \n",
    "    #      'KIT': [0.066225165562913912, 0.25165562913907286, 0.072847682119205295, 0.072847682119205295, 0.066225165562913912, 0.066225165562913912, 0.27152317880794702, 0.066225165562913912, 0.066225165562913912], \n",
    "    #      'BRAF': [0.066666666666666666, 0.17999999999999999, 0.073333333333333334, 0.073333333333333334, 0.093333333333333338, 0.080000000000000002, 0.29999999999999999, 0.066666666666666666, 0.066666666666666666],\n",
    "    #      ...\n",
    "    #     }\n",
    "    gv_dict = get_gv_fea_dict(alpha, feature, df)\n",
    "    # value_count is similar in get_gv_fea_dict\n",
    "    value_count = train_df[feature].value_counts()\n",
    "    \n",
    "    # gv_fea: Gene_variation feature, it will contain the feature for each feature value in the data\n",
    "    gv_fea = []\n",
    "    # for every feature values in the given data frame we will check if it is there in the train data then we will add the feature to gv_fea\n",
    "    # if not we will add [1/9,1/9,1/9,1/9,1/9,1/9,1/9,1/9,1/9] to gv_fea\n",
    "    for index, row in df.iterrows():\n",
    "        if row[feature] in dict(value_count).keys():\n",
    "            gv_fea.append(gv_dict[row[feature]])\n",
    "        else:\n",
    "            gv_fea.append([1/9,1/9,1/9,1/9,1/9,1/9,1/9,1/9,1/9])\n",
    "#             gv_fea.append([-1,-1,-1,-1,-1,-1,-1,-1,-1])\n",
    "    return gv_fea"
   ]
  },
  {
   "cell_type": "markdown",
   "id": "65fb2d90",
   "metadata": {},
   "source": [
    "### when we caculate the probability of a feature belongs to any particular class, we apply laplace smoothing\n",
    "<li>(numerator + 10\\*alpha) / (denominator + 90\\*alpha) </li>"
   ]
  },
  {
   "cell_type": "markdown",
   "id": "12ae855c",
   "metadata": {},
   "source": [
    "<h3>3.2.1 Univariate Analysis on Gene Feature</h3>"
   ]
  },
  {
   "cell_type": "markdown",
   "id": "2d5be9b9",
   "metadata": {},
   "source": [
    "<p style=\"font-size:18px;\"> <b>Q1.</b> Gene, What type of feature it is ?</p>\n",
    "<p style=\"font-size:16px;\"><b>Ans.</b> Gene is a categorical variable </p>\n",
    "<p style=\"font-size:18px;\"> <b>Q2.</b> How many categories are there and How they are distributed?</p>"
   ]
  },
  {
   "cell_type": "code",
   "execution_count": 16,
   "id": "9d63bbf0",
   "metadata": {},
   "outputs": [
    {
     "name": "stdout",
     "output_type": "stream",
     "text": [
      "Number of Unique Genes : 232\n",
      "BRCA1     174\n",
      "TP53       93\n",
      "EGFR       88\n",
      "PTEN       80\n",
      "BRCA2      75\n",
      "KIT        63\n",
      "BRAF       62\n",
      "ALK        49\n",
      "ERBB2      45\n",
      "PDGFRA     43\n",
      "Name: Gene, dtype: int64\n"
     ]
    }
   ],
   "source": [
    "unique_genes = train_df['Gene'].value_counts()\n",
    "print('Number of Unique Genes :', unique_genes.shape[0])\n",
    "# the top 10 genes that occured most\n",
    "print(unique_genes.head(10))"
   ]
  },
  {
   "cell_type": "code",
   "execution_count": 17,
   "id": "fa040d60",
   "metadata": {},
   "outputs": [
    {
     "name": "stdout",
     "output_type": "stream",
     "text": [
      "Ans: There are 232 different categories of genes in the train data, and they are distibuted as follows\n"
     ]
    }
   ],
   "source": [
    "print(\"Ans: There are\", unique_genes.shape[0] ,\"different categories of genes in the train data, and they are distibuted as follows\",)"
   ]
  },
  {
   "cell_type": "code",
   "execution_count": 18,
   "id": "9a2ec9b9",
   "metadata": {},
   "outputs": [
    {
     "data": {
      "image/png": "[encoded data removed]",
      "text/plain": [
       "<Figure size 432x288 with 1 Axes>"
      ]
     },
     "metadata": {
      "needs_background": "light"
     },
     "output_type": "display_data"
    }
   ],
   "source": [
    "s = sum(unique_genes.values);\n",
    "h = unique_genes.values/s;\n",
    "plt.plot(h, label=\"Histrogram of Genes\")\n",
    "plt.xlabel('Index of a Gene')\n",
    "plt.ylabel('Number of Occurances')\n",
    "plt.legend()\n",
    "plt.grid()\n",
    "plt.show()\n"
   ]
  },
  {
   "cell_type": "code",
   "execution_count": 19,
   "id": "323460dc",
   "metadata": {},
   "outputs": [
    {
     "data": {
      "image/png": "[encoded data removed]",
      "text/plain": [
       "<Figure size 432x288 with 1 Axes>"
      ]
     },
     "metadata": {
      "needs_background": "light"
     },
     "output_type": "display_data"
    }
   ],
   "source": [
    "c = np.cumsum(h)\n",
    "plt.plot(c,label='Cumulative distribution of Genes')\n",
    "plt.grid()\n",
    "plt.legend()\n",
    "plt.show()"
   ]
  },
  {
   "cell_type": "markdown",
   "id": "6c6c24a0",
   "metadata": {},
   "source": [
    "<p style=\"font-size:18px;\"> <b>Q3.</b> How to featurize this Gene feature ?</p>\n",
    "\n",
    "<p style=\"font-size:16px;\"><b>Ans.</b>there are two ways we can featurize this variable\n",
    "<ol><li>One hot Encoding</li><li>Response coding</li></ol></p>\n",
    "<p> We will choose the appropriate featurization based on the ML model we use.  For this problem of multi-class classification with categorical features, one-hot encoding is better for Logistic regression while response coding is better for Random Forests. </p>"
   ]
  },
  {
   "cell_type": "code",
   "execution_count": 20,
   "id": "7fd038dd",
   "metadata": {},
   "outputs": [],
   "source": [
    "#response-coding of the Gene feature\n",
    "# alpha is used for laplace smoothing\n",
    "alpha = 1\n",
    "# train gene feature\n",
    "train_gene_feature_responseCoding = np.array(get_gv_feature(alpha, \"Gene\", train_df))\n",
    "# test gene feature\n",
    "test_gene_feature_responseCoding = np.array(get_gv_feature(alpha, \"Gene\", test_df))\n",
    "# cross validation gene feature\n",
    "cv_gene_feature_responseCoding = np.array(get_gv_feature(alpha, \"Gene\", cv_df))"
   ]
  },
  {
   "cell_type": "code",
   "execution_count": 21,
   "id": "81abd08c",
   "metadata": {},
   "outputs": [
    {
     "name": "stdout",
     "output_type": "stream",
     "text": [
      "train_gene_feature_responseCoding is converted feature using respone coding method. The shape of gene feature: (2124, 9)\n"
     ]
    }
   ],
   "source": [
    "print(\"train_gene_feature_responseCoding is converted feature using respone coding method. The shape of gene feature:\", train_gene_feature_responseCoding.shape)"
   ]
  },
  {
   "cell_type": "code",
   "execution_count": 22,
   "id": "b054d863",
   "metadata": {},
   "outputs": [],
   "source": [
    "# one-hot encoding of Gene feature.\n",
    "gene_vectorizer = CountVectorizer()\n",
    "train_gene_feature_onehotCoding = gene_vectorizer.fit_transform(train_df['Gene'])\n",
    "test_gene_feature_onehotCoding = gene_vectorizer.transform(test_df['Gene'])\n",
    "cv_gene_feature_onehotCoding = gene_vectorizer.transform(cv_df['Gene'])"
   ]
  },
  {
   "cell_type": "code",
   "execution_count": 23,
   "id": "c3a8e116",
   "metadata": {},
   "outputs": [],
   "source": [
    "dd=train_gene_feature_onehotCoding.todense()"
   ]
  },
  {
   "cell_type": "code",
   "execution_count": 24,
   "id": "a6d65de8",
   "metadata": {},
   "outputs": [
    {
     "data": {
      "text/plain": [
       "(2124, 232)"
      ]
     },
     "execution_count": 24,
     "metadata": {},
     "output_type": "execute_result"
    }
   ],
   "source": [
    "dd[0]\n",
    "dd.shape\n"
   ]
  },
  {
   "cell_type": "code",
   "execution_count": 25,
   "id": "c606ce7d",
   "metadata": {},
   "outputs": [
    {
     "data": {
      "text/plain": [
       "161      EGFR\n",
       "3253    CASP8\n",
       "1403    FGFR3\n",
       "77      CCND3\n",
       "1549      ALK\n",
       "Name: Gene, dtype: object"
      ]
     },
     "execution_count": 25,
     "metadata": {},
     "output_type": "execute_result"
    }
   ],
   "source": [
    "train_df['Gene'].head()"
   ]
  },
  {
   "cell_type": "code",
   "execution_count": 26,
   "id": "5ec8831d",
   "metadata": {},
   "outputs": [
    {
     "data": {
      "text/plain": [
       "['abl1',\n",
       " 'acvr1',\n",
       " 'ago2',\n",
       " 'akt1',\n",
       " 'akt2',\n",
       " 'akt3',\n",
       " 'alk',\n",
       " 'apc',\n",
       " 'ar',\n",
       " 'araf',\n",
       " 'arid1a',\n",
       " 'arid5b',\n",
       " 'asxl1',\n",
       " 'asxl2',\n",
       " 'atm',\n",
       " 'atrx',\n",
       " 'aurka',\n",
       " 'aurkb',\n",
       " 'axin1',\n",
       " 'axl',\n",
       " 'b2m',\n",
       " 'bap1',\n",
       " 'bard1',\n",
       " 'bcl10',\n",
       " 'bcl2',\n",
       " 'bcl2l11',\n",
       " 'bcor',\n",
       " 'braf',\n",
       " 'brca1',\n",
       " 'brca2',\n",
       " 'brd4',\n",
       " 'brip1',\n",
       " 'btk',\n",
       " 'card11',\n",
       " 'carm1',\n",
       " 'casp8',\n",
       " 'cbl',\n",
       " 'ccnd1',\n",
       " 'ccnd3',\n",
       " 'cdh1',\n",
       " 'cdk12',\n",
       " 'cdk4',\n",
       " 'cdk6',\n",
       " 'cdk8',\n",
       " 'cdkn1a',\n",
       " 'cdkn1b',\n",
       " 'cdkn2a',\n",
       " 'cdkn2b',\n",
       " 'cdkn2c',\n",
       " 'cebpa',\n",
       " 'chek2',\n",
       " 'cic',\n",
       " 'crebbp',\n",
       " 'ctcf',\n",
       " 'ctla4',\n",
       " 'ctnnb1',\n",
       " 'ddr2',\n",
       " 'dicer1',\n",
       " 'dnmt3a',\n",
       " 'dnmt3b',\n",
       " 'egfr',\n",
       " 'eif1ax',\n",
       " 'elf3',\n",
       " 'ep300',\n",
       " 'epas1',\n",
       " 'epcam',\n",
       " 'erbb2',\n",
       " 'erbb3',\n",
       " 'erbb4',\n",
       " 'ercc2',\n",
       " 'ercc3',\n",
       " 'ercc4',\n",
       " 'erg',\n",
       " 'errfi1',\n",
       " 'esr1',\n",
       " 'etv1',\n",
       " 'etv6',\n",
       " 'ewsr1',\n",
       " 'ezh2',\n",
       " 'fam58a',\n",
       " 'fanca',\n",
       " 'fat1',\n",
       " 'fbxw7',\n",
       " 'fgf3',\n",
       " 'fgfr1',\n",
       " 'fgfr2',\n",
       " 'fgfr3',\n",
       " 'fgfr4',\n",
       " 'flt1',\n",
       " 'flt3',\n",
       " 'foxa1',\n",
       " 'foxl2',\n",
       " 'foxp1',\n",
       " 'fubp1',\n",
       " 'gata3',\n",
       " 'gli1',\n",
       " 'gnas',\n",
       " 'h3f3a',\n",
       " 'hist1h1c',\n",
       " 'hla',\n",
       " 'hnf1a',\n",
       " 'hras',\n",
       " 'idh1',\n",
       " 'idh2',\n",
       " 'igf1r',\n",
       " 'ikbke',\n",
       " 'il7r',\n",
       " 'inpp4b',\n",
       " 'jak1',\n",
       " 'jak2',\n",
       " 'jun',\n",
       " 'kdm5a',\n",
       " 'kdm5c',\n",
       " 'kdm6a',\n",
       " 'kdr',\n",
       " 'keap1',\n",
       " 'kit',\n",
       " 'klf4',\n",
       " 'kmt2a',\n",
       " 'kmt2c',\n",
       " 'kmt2d',\n",
       " 'knstrn',\n",
       " 'kras',\n",
       " 'map2k1',\n",
       " 'map2k2',\n",
       " 'map2k4',\n",
       " 'map3k1',\n",
       " 'mapk1',\n",
       " 'mdm4',\n",
       " 'med12',\n",
       " 'mef2b',\n",
       " 'men1',\n",
       " 'met',\n",
       " 'mga',\n",
       " 'mlh1',\n",
       " 'mpl',\n",
       " 'msh2',\n",
       " 'msh6',\n",
       " 'mtor',\n",
       " 'myc',\n",
       " 'mycn',\n",
       " 'myd88',\n",
       " 'myod1',\n",
       " 'nf1',\n",
       " 'nf2',\n",
       " 'nfe2l2',\n",
       " 'nfkbia',\n",
       " 'nkx2',\n",
       " 'notch1',\n",
       " 'nras',\n",
       " 'nsd1',\n",
       " 'ntrk1',\n",
       " 'ntrk2',\n",
       " 'ntrk3',\n",
       " 'nup93',\n",
       " 'pak1',\n",
       " 'pbrm1',\n",
       " 'pdgfra',\n",
       " 'pdgfrb',\n",
       " 'pik3ca',\n",
       " 'pik3cb',\n",
       " 'pik3cd',\n",
       " 'pik3r1',\n",
       " 'pik3r2',\n",
       " 'pik3r3',\n",
       " 'pim1',\n",
       " 'pms2',\n",
       " 'pole',\n",
       " 'ppm1d',\n",
       " 'ppp2r1a',\n",
       " 'ppp6c',\n",
       " 'prdm1',\n",
       " 'ptch1',\n",
       " 'pten',\n",
       " 'ptpn11',\n",
       " 'ptprd',\n",
       " 'ptprt',\n",
       " 'rab35',\n",
       " 'rac1',\n",
       " 'rad50',\n",
       " 'rad51b',\n",
       " 'rad51c',\n",
       " 'rad51d',\n",
       " 'raf1',\n",
       " 'rasa1',\n",
       " 'rb1',\n",
       " 'rbm10',\n",
       " 'ret',\n",
       " 'rheb',\n",
       " 'rhoa',\n",
       " 'rit1',\n",
       " 'rnf43',\n",
       " 'ros1',\n",
       " 'rras2',\n",
       " 'runx1',\n",
       " 'rxra',\n",
       " 'rybp',\n",
       " 'sdhb',\n",
       " 'sdhc',\n",
       " 'setd2',\n",
       " 'sf3b1',\n",
       " 'shoc2',\n",
       " 'shq1',\n",
       " 'smad2',\n",
       " 'smad3',\n",
       " 'smad4',\n",
       " 'smarca4',\n",
       " 'smo',\n",
       " 'sos1',\n",
       " 'sox9',\n",
       " 'spop',\n",
       " 'stag2',\n",
       " 'stat3',\n",
       " 'stk11',\n",
       " 'tcf7l2',\n",
       " 'tert',\n",
       " 'tet1',\n",
       " 'tet2',\n",
       " 'tgfbr1',\n",
       " 'tgfbr2',\n",
       " 'tmprss2',\n",
       " 'tp53',\n",
       " 'tp53bp1',\n",
       " 'tsc1',\n",
       " 'tsc2',\n",
       " 'u2af1',\n",
       " 'vegfa',\n",
       " 'vhl',\n",
       " 'whsc1l1',\n",
       " 'xpo1',\n",
       " 'xrcc2',\n",
       " 'yap1']"
      ]
     },
     "execution_count": 26,
     "metadata": {},
     "output_type": "execute_result"
    }
   ],
   "source": [
    "gene_vectorizer.get_feature_names()"
   ]
  },
  {
   "cell_type": "code",
   "execution_count": 27,
   "id": "1c1d87cb",
   "metadata": {},
   "outputs": [
    {
     "name": "stdout",
     "output_type": "stream",
     "text": [
      "train_gene_feature_onehotCoding is converted feature using one-hot encoding method. The shape of gene feature: (2124, 232)\n"
     ]
    }
   ],
   "source": [
    "print(\"train_gene_feature_onehotCoding is converted feature using one-hot encoding method. The shape of gene feature:\", train_gene_feature_onehotCoding.shape)"
   ]
  },
  {
   "cell_type": "markdown",
   "id": "41e79d2a",
   "metadata": {},
   "source": [
    "<p style=\"font-size:18px;\"> <b>Q4.</b> How good is this gene feature  in predicting y_i?</p>"
   ]
  },
  {
   "cell_type": "markdown",
   "id": "bb669460",
   "metadata": {},
   "source": [
    "There are many ways to estimate how good a feature is, in predicting y_i. One of the good methods is to build a proper ML model using just this feature. In this case, we will build a logistic regression model using only Gene feature (one hot encoded) to predict y_i."
   ]
  },
  {
   "cell_type": "code",
   "execution_count": 28,
   "id": "31400bc8",
   "metadata": {},
   "outputs": [
    {
     "name": "stdout",
     "output_type": "stream",
     "text": [
      "For values of alpha =  1e-05 The log loss is: 1.2305618091148574\n",
      "For values of alpha =  0.0001 The log loss is: 1.2176696655622659\n",
      "For values of alpha =  0.001 The log loss is: 1.2460893899387866\n",
      "For values of alpha =  0.01 The log loss is: 1.3534807901503945\n",
      "For values of alpha =  0.1 The log loss is: 1.4653363298863582\n",
      "For values of alpha =  1 The log loss is: 1.5108228381577142\n"
     ]
    },
    {
     "data": {
      "image/png": "[encoded data removed]",
      "text/plain": [
       "<Figure size 432x288 with 1 Axes>"
      ]
     },
     "metadata": {
      "needs_background": "light"
     },
     "output_type": "display_data"
    },
    {
     "name": "stdout",
     "output_type": "stream",
     "text": [
      "For values of best alpha =  0.0001 The train log loss is: 0.976962811306139\n",
      "For values of best alpha =  0.0001 The cross validation log loss is: 1.2176696655622659\n",
      "For values of best alpha =  0.0001 The test log loss is: 1.205049132928867\n"
     ]
    }
   ],
   "source": [
    "alpha = [10 ** x for x in range(-5, 1)] # hyperparam for SGD classifier.\n",
    "\n",
    "# read more about SGDClassifier() at http://scikit-learn.org/stable/modules/generated/sklearn.linear_model.SGDClassifier.html\n",
    "# ------------------------------\n",
    "# default parameters\n",
    "# SGDClassifier(loss=’hinge’, penalty=’l2’, alpha=0.0001, l1_ratio=0.15, fit_intercept=True, max_iter=None, tol=None, \n",
    "# shuffle=True, verbose=0, epsilon=0.1, n_jobs=1, random_state=None, learning_rate=’optimal’, eta0=0.0, power_t=0.5, \n",
    "# class_weight=None, warm_start=False, average=False, n_iter=None)\n",
    "\n",
    "# some of methods\n",
    "# fit(X, y[, coef_init, intercept_init, …])\tFit linear model with Stochastic Gradient Descent.\n",
    "# predict(X)\tPredict class labels for samples in X.\n",
    "\n",
    "#-------------------------------\n",
    "# video link: \n",
    "#------------------------------\n",
    "\n",
    "\n",
    "cv_log_error_array=[]\n",
    "for i in alpha:\n",
    "    clf = SGDClassifier(alpha=i, penalty='l2', loss='log', random_state=42)\n",
    "    clf.fit(train_gene_feature_onehotCoding, y_train)\n",
    "    sig_clf = CalibratedClassifierCV(clf, method=\"sigmoid\")\n",
    "    sig_clf.fit(train_gene_feature_onehotCoding, y_train)\n",
    "    predict_y = sig_clf.predict_proba(cv_gene_feature_onehotCoding)\n",
    "    cv_log_error_array.append(log_loss(y_cv, predict_y, labels=clf.classes_, eps=1e-15))\n",
    "    print('For values of alpha = ', i, \"The log loss is:\",log_loss(y_cv, predict_y, labels=clf.classes_, eps=1e-15))\n",
    "\n",
    "fig, ax = plt.subplots()\n",
    "ax.plot(alpha, cv_log_error_array,c='g')\n",
    "for i, txt in enumerate(np.round(cv_log_error_array,3)):\n",
    "    ax.annotate((alpha[i],np.round(txt,3)), (alpha[i],cv_log_error_array[i]))\n",
    "plt.grid()\n",
    "plt.title(\"Cross Validation Error for each alpha\")\n",
    "plt.xlabel(\"Alpha i's\")\n",
    "plt.ylabel(\"Error measure\")\n",
    "plt.show()\n",
    "\n",
    "\n",
    "best_alpha = np.argmin(cv_log_error_array)\n",
    "clf = SGDClassifier(alpha=alpha[best_alpha], penalty='l2', loss='log', random_state=42)\n",
    "clf.fit(train_gene_feature_onehotCoding, y_train)\n",
    "sig_clf = CalibratedClassifierCV(clf, method=\"sigmoid\")\n",
    "sig_clf.fit(train_gene_feature_onehotCoding, y_train)\n",
    "\n",
    "predict_y = sig_clf.predict_proba(train_gene_feature_onehotCoding)\n",
    "print('For values of best alpha = ', alpha[best_alpha], \"The train log loss is:\",log_loss(y_train, predict_y, labels=clf.classes_, eps=1e-15))\n",
    "predict_y = sig_clf.predict_proba(cv_gene_feature_onehotCoding)\n",
    "print('For values of best alpha = ', alpha[best_alpha], \"The cross validation log loss is:\",log_loss(y_cv, predict_y, labels=clf.classes_, eps=1e-15))\n",
    "predict_y = sig_clf.predict_proba(test_gene_feature_onehotCoding)\n",
    "print('For values of best alpha = ', alpha[best_alpha], \"The test log loss is:\",log_loss(y_test, predict_y, labels=clf.classes_, eps=1e-15))\n"
   ]
  },
  {
   "cell_type": "markdown",
   "id": "afdff487",
   "metadata": {},
   "source": [
    "<p style=\"font-size:18px;\"> <b>Q5.</b> Is the Gene feature stable across all the data sets (Test, Train, Cross validation)?</p>\n",
    "<p style=\"font-size:16px;\"> <b>Ans.</b> Yes, it is. Otherwise, the CV and Test errors would be significantly more than train error. </p>"
   ]
  },
  {
   "cell_type": "code",
   "execution_count": 29,
   "id": "09db3dff",
   "metadata": {},
   "outputs": [
    {
     "name": "stdout",
     "output_type": "stream",
     "text": [
      "Q6. How many data points in Test and CV datasets are covered by the  232  genes in train dataset?\n",
      "Ans\n",
      "1. In test data 643 out of 665 : 96.69172932330827\n",
      "2. In cross validation data 514 out of  532 : 96.61654135338345\n"
     ]
    }
   ],
   "source": [
    "print(\"Q6. How many data points in Test and CV datasets are covered by the \", unique_genes.shape[0], \" genes in train dataset?\")\n",
    "\n",
    "test_coverage=test_df[test_df['Gene'].isin(list(set(train_df['Gene'])))].shape[0]\n",
    "cv_coverage=cv_df[cv_df['Gene'].isin(list(set(train_df['Gene'])))].shape[0]\n",
    "\n",
    "print('Ans\\n1. In test data',test_coverage, 'out of',test_df.shape[0], \":\",(test_coverage/test_df.shape[0])*100)\n",
    "print('2. In cross validation data',cv_coverage, 'out of ',cv_df.shape[0],\":\" ,(cv_coverage/cv_df.shape[0])*100)"
   ]
  },
  {
   "cell_type": "markdown",
   "id": "fd148a69",
   "metadata": {},
   "source": [
    "<h3>3.2.2 Univariate Analysis on Variation Feature</h3>"
   ]
  },
  {
   "cell_type": "markdown",
   "id": "eed26b23",
   "metadata": {},
   "source": [
    "<p style=\"font-size:18px;\"> <b>Q7.</b> Variation, What type of feature is it ?</p>\n",
    "<p style=\"font-size:16px;\"><b>Ans.</b> Variation is a categorical variable </p>\n",
    "<p style=\"font-size:18px;\"> <b>Q8.</b> How many categories are there?</p>"
   ]
  },
  {
   "cell_type": "code",
   "execution_count": 30,
   "id": "199ebed1",
   "metadata": {},
   "outputs": [
    {
     "name": "stdout",
     "output_type": "stream",
     "text": [
      "Number of Unique Variations : 1927\n",
      "Truncating_Mutations    64\n",
      "Deletion                50\n",
      "Amplification           42\n",
      "Fusions                 17\n",
      "Overexpression           5\n",
      "Q61R                     3\n",
      "Q61H                     3\n",
      "P130S                    2\n",
      "F384L                    2\n",
      "EWSR1-ETV1_Fusion        2\n",
      "Name: Variation, dtype: int64\n"
     ]
    }
   ],
   "source": [
    "unique_variations = train_df['Variation'].value_counts()\n",
    "print('Number of Unique Variations :', unique_variations.shape[0])\n",
    "# the top 10 variations that occured most\n",
    "print(unique_variations.head(10))"
   ]
  },
  {
   "cell_type": "code",
   "execution_count": 31,
   "id": "2bced8d0",
   "metadata": {},
   "outputs": [
    {
     "name": "stdout",
     "output_type": "stream",
     "text": [
      "Ans: There are 1927 different categories of variations in the train data, and they are distibuted as follows\n"
     ]
    }
   ],
   "source": [
    "print(\"Ans: There are\", unique_variations.shape[0] ,\"different categories of variations in the train data, and they are distibuted as follows\",)"
   ]
  },
  {
   "cell_type": "code",
   "execution_count": 32,
   "id": "e4a9fbe7",
   "metadata": {},
   "outputs": [
    {
     "data": {
      "image/png": "[encoded data removed]",
      "text/plain": [
       "<Figure size 432x288 with 1 Axes>"
      ]
     },
     "metadata": {
      "needs_background": "light"
     },
     "output_type": "display_data"
    }
   ],
   "source": [
    "s = sum(unique_variations.values);\n",
    "h = unique_variations.values/s;\n",
    "plt.plot(h, label=\"Histrogram of Variations\")\n",
    "plt.xlabel('Index of a Variation')\n",
    "plt.ylabel('Number of Occurances')\n",
    "plt.legend()\n",
    "plt.grid()\n",
    "plt.show()"
   ]
  },
  {
   "cell_type": "code",
   "execution_count": 33,
   "id": "c454c27b",
   "metadata": {},
   "outputs": [
    {
     "name": "stdout",
     "output_type": "stream",
     "text": [
      "[0.03013183 0.05367232 0.07344633 ... 0.99905838 0.99952919 1.        ]\n"
     ]
    },
    {
     "data": {
      "image/png": "[encoded data removed]",
      "text/plain": [
       "<Figure size 432x288 with 1 Axes>"
      ]
     },
     "metadata": {
      "needs_background": "light"
     },
     "output_type": "display_data"
    }
   ],
   "source": [
    "c = np.cumsum(h)\n",
    "print(c)\n",
    "plt.plot(c,label='Cumulative distribution of Variations')\n",
    "plt.grid()\n",
    "plt.legend()\n",
    "plt.show()"
   ]
  },
  {
   "cell_type": "markdown",
   "id": "ffa06e4f",
   "metadata": {},
   "source": [
    "<p style=\"font-size:18px;\"> <b>Q9.</b> How to featurize this Variation feature ?</p>\n",
    "\n",
    "<p style=\"font-size:16px;\"><b>Ans.</b>There are two ways we can featurize this variable\n",
    "<ol><li>One hot Encoding</li><li>Response coding</li></ol></p>\n",
    "<p> We will be using both these methods to featurize the Variation Feature </p>"
   ]
  },
  {
   "cell_type": "markdown",
   "id": "06bf211a",
   "metadata": {},
   "source": [
    "### VARIATION - RESPONSE CODING"
   ]
  },
  {
   "cell_type": "code",
   "execution_count": 34,
   "id": "5861e3b7",
   "metadata": {},
   "outputs": [],
   "source": [
    "# alpha is used for laplace smoothing\n",
    "alpha = 1\n",
    "# train gene feature\n",
    "train_variation_feature_responseCoding = np.array(get_gv_feature(alpha, \"Variation\", train_df))\n",
    "# test gene feature\n",
    "test_variation_feature_responseCoding = np.array(get_gv_feature(alpha, \"Variation\", test_df))\n",
    "# cross validation gene feature\n",
    "cv_variation_feature_responseCoding = np.array(get_gv_feature(alpha, \"Variation\", cv_df))"
   ]
  },
  {
   "cell_type": "code",
   "execution_count": 35,
   "id": "bc9ae406",
   "metadata": {},
   "outputs": [
    {
     "name": "stdout",
     "output_type": "stream",
     "text": [
      "train_variation_feature_responseCoding is a converted feature using the response coding method. The shape of Variation feature: (2124, 9)\n"
     ]
    }
   ],
   "source": [
    "print(\"train_variation_feature_responseCoding is a converted feature using the response coding method. The shape of Variation feature:\", train_variation_feature_responseCoding.shape)"
   ]
  },
  {
   "cell_type": "markdown",
   "id": "f510f417",
   "metadata": {},
   "source": [
    "### VARIATION - TF-IDF CODING"
   ]
  },
  {
   "cell_type": "code",
   "execution_count": 36,
   "id": "553a6ff7",
   "metadata": {},
   "outputs": [],
   "source": [
    "# one-hot encoding of variation feature.\n",
    "variation_vectorizer = CountVectorizer()\n",
    "train_variation_feature_onehotCoding = variation_vectorizer.fit_transform(train_df['Variation'])\n",
    "test_variation_feature_onehotCoding = variation_vectorizer.transform(test_df['Variation'])\n",
    "cv_variation_feature_onehotCoding = variation_vectorizer.transform(cv_df['Variation'])"
   ]
  },
  {
   "cell_type": "code",
   "execution_count": 37,
   "id": "d9d3d4b7",
   "metadata": {},
   "outputs": [
    {
     "name": "stdout",
     "output_type": "stream",
     "text": [
      "train_variation_feature_onehotEncoded is converted feature using the onne-hot encoding method. The shape of Variation feature: (2124, 1962)\n"
     ]
    }
   ],
   "source": [
    "print(\"train_variation_feature_onehotEncoded is converted feature using the onne-hot encoding method. The shape of Variation feature:\", train_variation_feature_onehotCoding.shape)"
   ]
  },
  {
   "cell_type": "markdown",
   "id": "000c176a",
   "metadata": {},
   "source": [
    "<p style=\"font-size:18px;\"> <b>Q10.</b> How good is this Variation feature  in predicting y_i?</p>"
   ]
  },
  {
   "cell_type": "markdown",
   "id": "c3b80dea",
   "metadata": {},
   "source": [
    "### Let's build a model just like the earlier!"
   ]
  },
  {
   "cell_type": "code",
   "execution_count": 38,
   "id": "99a86e94",
   "metadata": {},
   "outputs": [
    {
     "name": "stdout",
     "output_type": "stream",
     "text": [
      "For values of alpha =  1e-05 The log loss is: 1.7284745892291202\n",
      "For values of alpha =  0.0001 The log loss is: 1.7240239147712912\n",
      "For values of alpha =  0.001 The log loss is: 1.7296799845985034\n",
      "For values of alpha =  0.01 The log loss is: 1.7481156236566562\n",
      "For values of alpha =  0.1 The log loss is: 1.76497286861025\n",
      "For values of alpha =  1 The log loss is: 1.7664856068353356\n"
     ]
    },
    {
     "data": {
      "image/png": "[encoded data removed]",
      "text/plain": [
       "<Figure size 432x288 with 1 Axes>"
      ]
     },
     "metadata": {
      "needs_background": "light"
     },
     "output_type": "display_data"
    },
    {
     "name": "stdout",
     "output_type": "stream",
     "text": [
      "For values of best alpha =  0.0001 The train log loss is: 0.6544069367967854\n",
      "For values of best alpha =  0.0001 The cross validation log loss is: 1.7240239147712912\n",
      "For values of best alpha =  0.0001 The test log loss is: 1.7110745863624282\n"
     ]
    }
   ],
   "source": [
    "alpha = [10 ** x for x in range(-5, 1)]\n",
    "\n",
    "# read more about SGDClassifier() at http://scikit-learn.org/stable/modules/generated/sklearn.linear_model.SGDClassifier.html\n",
    "# ------------------------------\n",
    "# default parameters\n",
    "# SGDClassifier(loss=’hinge’, penalty=’l2’, alpha=0.0001, l1_ratio=0.15, fit_intercept=True, max_iter=None, tol=None, \n",
    "# shuffle=True, verbose=0, epsilon=0.1, n_jobs=1, random_state=None, learning_rate=’optimal’, eta0=0.0, power_t=0.5, \n",
    "# class_weight=None, warm_start=False, average=False, n_iter=None)\n",
    "\n",
    "# some of methods\n",
    "# fit(X, y[, coef_init, intercept_init, …])\tFit linear model with Stochastic Gradient Descent.\n",
    "# predict(X)\tPredict class labels for samples in X.\n",
    "\n",
    "#-------------------------------\n",
    "# video link: \n",
    "#------------------------------\n",
    "\n",
    "\n",
    "cv_log_error_array=[]\n",
    "for i in alpha:\n",
    "    clf = SGDClassifier(alpha=i, penalty='l2', loss='log', random_state=42)\n",
    "    clf.fit(train_variation_feature_onehotCoding, y_train)\n",
    "    \n",
    "    sig_clf = CalibratedClassifierCV(clf, method=\"sigmoid\")\n",
    "    sig_clf.fit(train_variation_feature_onehotCoding, y_train)\n",
    "    predict_y = sig_clf.predict_proba(cv_variation_feature_onehotCoding)\n",
    "    \n",
    "    cv_log_error_array.append(log_loss(y_cv, predict_y, labels=clf.classes_, eps=1e-15))\n",
    "    print('For values of alpha = ', i, \"The log loss is:\",log_loss(y_cv, predict_y, labels=clf.classes_, eps=1e-15))\n",
    "\n",
    "fig, ax = plt.subplots()\n",
    "ax.plot(alpha, cv_log_error_array,c='g')\n",
    "for i, txt in enumerate(np.round(cv_log_error_array,3)):\n",
    "    ax.annotate((alpha[i],np.round(txt,3)), (alpha[i],cv_log_error_array[i]))\n",
    "plt.grid()\n",
    "plt.title(\"Cross Validation Error for each alpha\")\n",
    "plt.xlabel(\"Alpha i's\")\n",
    "plt.ylabel(\"Error measure\")\n",
    "plt.show()\n",
    "\n",
    "\n",
    "best_alpha = np.argmin(cv_log_error_array)\n",
    "clf = SGDClassifier(alpha=alpha[best_alpha], penalty='l2', loss='log', random_state=42)\n",
    "clf.fit(train_variation_feature_onehotCoding, y_train)\n",
    "sig_clf = CalibratedClassifierCV(clf, method=\"sigmoid\")\n",
    "sig_clf.fit(train_variation_feature_onehotCoding, y_train)\n",
    "\n",
    "predict_y = sig_clf.predict_proba(train_variation_feature_onehotCoding)\n",
    "print('For values of best alpha = ', alpha[best_alpha], \"The train log loss is:\",log_loss(y_train, predict_y, labels=clf.classes_, eps=1e-15))\n",
    "predict_y = sig_clf.predict_proba(cv_variation_feature_onehotCoding)\n",
    "print('For values of best alpha = ', alpha[best_alpha], \"The cross validation log loss is:\",log_loss(y_cv, predict_y, labels=clf.classes_, eps=1e-15))\n",
    "predict_y = sig_clf.predict_proba(test_variation_feature_onehotCoding)\n",
    "print('For values of best alpha = ', alpha[best_alpha], \"The test log loss is:\",log_loss(y_test, predict_y, labels=clf.classes_, eps=1e-15))\n"
   ]
  },
  {
   "cell_type": "markdown",
   "id": "4dcff3bd",
   "metadata": {},
   "source": [
    "<p style=\"font-size:18px;\"> <b>Q11.</b> Is the Variation feature stable across all the data sets (Test, Train, Cross validation)?</p>\n",
    "<p style=\"font-size:16px;\"> <b>Ans.</b> Not sure! But lets be very sure using the below analysis. </p>"
   ]
  },
  {
   "cell_type": "code",
   "execution_count": 39,
   "id": "97b6faa0",
   "metadata": {},
   "outputs": [
    {
     "name": "stdout",
     "output_type": "stream",
     "text": [
      "Q12. How many data points are covered by total  1927  genes in test and cross validation data sets?\n",
      "Ans\n",
      "1. In test data 78 out of 665 : 11.729323308270677\n",
      "2. In cross validation data 45 out of  532 : 8.458646616541353\n"
     ]
    }
   ],
   "source": [
    "print(\"Q12. How many data points are covered by total \", unique_variations.shape[0], \" genes in test and cross validation data sets?\")\n",
    "test_coverage=test_df[test_df['Variation'].isin(list(set(train_df['Variation'])))].shape[0]\n",
    "cv_coverage=cv_df[cv_df['Variation'].isin(list(set(train_df['Variation'])))].shape[0]\n",
    "print('Ans\\n1. In test data',test_coverage, 'out of',test_df.shape[0], \":\",(test_coverage/test_df.shape[0])*100)\n",
    "print('2. In cross validation data',cv_coverage, 'out of ',cv_df.shape[0],\":\" ,(cv_coverage/cv_df.shape[0])*100)"
   ]
  },
  {
   "cell_type": "markdown",
   "id": "76c99c85",
   "metadata": {},
   "source": [
    "<h3>3.2.3 Univariate Analysis on Text Feature</h3>"
   ]
  },
  {
   "cell_type": "markdown",
   "id": "d751583b",
   "metadata": {},
   "source": [
    "1. How many unique words are present in train data?\n",
    "2. How are word frequencies distributed?\n",
    "3. How to featurize text field?\n",
    "4. Is the text feature useful in predicitng y_i?\n",
    "5. Is the text feature stable across train, test and CV datasets?"
   ]
  },
  {
   "cell_type": "code",
   "execution_count": 40,
   "id": "aadd6390",
   "metadata": {},
   "outputs": [],
   "source": [
    "# cls_text is a data frame\n",
    "# for every row in data fram consider the 'TEXT'\n",
    "# split the words by space\n",
    "# make a dict with those words\n",
    "# increment its count whenever we see that word\n",
    "\n",
    "def extract_dictionary_paddle(cls_text):\n",
    "    dictionary = defaultdict(int)\n",
    "    for index, row in cls_text.iterrows():\n",
    "        for word in row['TEXT'].split():\n",
    "            dictionary[word] +=1\n",
    "    return dictionary"
   ]
  },
  {
   "cell_type": "code",
   "execution_count": 41,
   "id": "8f8dd9f5",
   "metadata": {},
   "outputs": [],
   "source": [
    "import math\n",
    "#https://stackoverflow.com/a/1602964\n",
    "def get_text_responsecoding(df):\n",
    "    text_feature_responseCoding = np.zeros((df.shape[0],9))\n",
    "    for i in range(0,9):\n",
    "        row_index = 0\n",
    "        for index, row in df.iterrows():\n",
    "            sum_prob = 0\n",
    "            for word in row['TEXT'].split():\n",
    "                sum_prob += math.log(((dict_list[i].get(word,0)+10 )/(total_dict.get(word,0)+90)))\n",
    "            text_feature_responseCoding[row_index][i] = math.exp(sum_prob/len(row['TEXT'].split()))\n",
    "            row_index += 1\n",
    "    return text_feature_responseCoding"
   ]
  },
  {
   "cell_type": "code",
   "execution_count": 42,
   "id": "db8fbdce",
   "metadata": {},
   "outputs": [
    {
     "name": "stdout",
     "output_type": "stream",
     "text": [
      "Total number of unique words in train data : 52136\n"
     ]
    }
   ],
   "source": [
    "# building a CountVectorizer with all the words that occured minimum 3 times in train data\n",
    "text_vectorizer = CountVectorizer(min_df=3)\n",
    "train_text_feature_onehotCoding = text_vectorizer.fit_transform(train_df['TEXT'])\n",
    "# getting all the feature names (words)\n",
    "train_text_features= text_vectorizer.get_feature_names()\n",
    "\n",
    "# train_text_feature_onehotCoding.sum(axis=0).A1 will sum every row and returns (1*number of features) vector\n",
    "train_text_fea_counts = train_text_feature_onehotCoding.sum(axis=0).A1\n",
    "\n",
    "# zip(list(text_features),text_fea_counts) will zip a word with its number of times it occured\n",
    "text_fea_dict = dict(zip(list(train_text_features),train_text_fea_counts))\n",
    "\n",
    "\n",
    "print(\"Total number of unique words in train data :\", len(train_text_features))"
   ]
  },
  {
   "cell_type": "code",
   "execution_count": 43,
   "id": "655db93d",
   "metadata": {},
   "outputs": [],
   "source": [
    "dict_list = []\n",
    "# dict_list =[] contains 9 dictoinaries each corresponds to a class\n",
    "for i in range(1,10):\n",
    "    cls_text = train_df[train_df['Class']==i]\n",
    "    # build a word dict based on the words in that class\n",
    "    dict_list.append(extract_dictionary_paddle(cls_text))\n",
    "    # append it to dict_list\n",
    "\n",
    "# dict_list[i] is build on i'th  class text data\n",
    "# total_dict is buid on whole training text data\n",
    "total_dict = extract_dictionary_paddle(train_df)\n",
    "\n",
    "\n",
    "confuse_array = []\n",
    "for i in train_text_features:\n",
    "    ratios = []\n",
    "    max_val = -1\n",
    "    for j in range(0,9):\n",
    "        ratios.append((dict_list[j][i]+10 )/(total_dict[i]+90))\n",
    "    confuse_array.append(ratios)\n",
    "confuse_array = np.array(confuse_array)"
   ]
  },
  {
   "cell_type": "code",
   "execution_count": 44,
   "id": "b7577d6e",
   "metadata": {},
   "outputs": [],
   "source": [
    "#response coding of text features\n",
    "train_text_feature_responseCoding  = get_text_responsecoding(train_df)\n",
    "test_text_feature_responseCoding  = get_text_responsecoding(test_df)\n",
    "cv_text_feature_responseCoding  = get_text_responsecoding(cv_df)"
   ]
  },
  {
   "cell_type": "code",
   "execution_count": 45,
   "id": "0a051ed5",
   "metadata": {},
   "outputs": [],
   "source": [
    "# we convert each row values such that they sum to 1  \n",
    "train_text_feature_responseCoding = (train_text_feature_responseCoding.T/train_text_feature_responseCoding.sum(axis=1)).T\n",
    "test_text_feature_responseCoding = (test_text_feature_responseCoding.T/test_text_feature_responseCoding.sum(axis=1)).T\n",
    "cv_text_feature_responseCoding = (cv_text_feature_responseCoding.T/cv_text_feature_responseCoding.sum(axis=1)).T"
   ]
  },
  {
   "cell_type": "code",
   "execution_count": 46,
   "id": "b9bd91cf",
   "metadata": {},
   "outputs": [],
   "source": [
    "# don't forget to normalize every feature\n",
    "train_text_feature_onehotCoding = normalize(train_text_feature_onehotCoding, axis=0)\n",
    "\n",
    "# we use the same vectorizer that was trained on train data\n",
    "test_text_feature_onehotCoding = text_vectorizer.transform(test_df['TEXT'])\n",
    "# don't forget to normalize every feature\n",
    "test_text_feature_onehotCoding = normalize(test_text_feature_onehotCoding, axis=0)\n",
    "\n",
    "# we use the same vectorizer that was trained on train data\n",
    "cv_text_feature_onehotCoding = text_vectorizer.transform(cv_df['TEXT'])\n",
    "# don't forget to normalize every feature\n",
    "cv_text_feature_onehotCoding = normalize(cv_text_feature_onehotCoding, axis=0)"
   ]
  },
  {
   "cell_type": "code",
   "execution_count": 47,
   "id": "ca32345e",
   "metadata": {},
   "outputs": [],
   "source": [
    "sorted_text_fea_dict = dict(sorted(text_fea_dict.items(), key=lambda x: x[1] , reverse=True))\n",
    "sorted_text_occur = np.array(list(sorted_text_fea_dict.values()))"
   ]
  },
  {
   "cell_type": "code",
   "execution_count": 48,
   "id": "15ce3e92",
   "metadata": {},
   "outputs": [
    {
     "name": "stdout",
     "output_type": "stream",
     "text": [
      "Counter({3: 4720, 4: 3674, 5: 2742, 6: 2606, 7: 2168, 8: 1934, 10: 1669, 9: 1619, 12: 1197, 13: 1129, 11: 1077, 16: 898, 14: 830, 20: 758, 15: 757, 17: 679, 18: 664, 24: 499, 19: 485, 21: 478, 22: 465, 25: 440, 26: 415, 36: 414, 30: 357, 28: 357, 23: 347, 29: 316, 27: 316, 48: 295, 31: 277, 32: 274, 40: 254, 39: 243, 33: 238, 34: 237, 37: 226, 35: 219, 38: 204, 43: 199, 45: 194, 41: 192, 42: 191, 44: 187, 54: 160, 46: 158, 58: 155, 60: 148, 52: 142, 49: 142, 47: 141, 56: 140, 53: 137, 51: 128, 55: 125, 50: 125, 59: 123, 57: 121, 72: 119, 64: 115, 65: 113, 61: 108, 66: 106, 86: 104, 62: 104, 63: 100, 70: 98, 68: 95, 69: 92, 78: 90, 73: 90, 80: 87, 77: 86, 74: 86, 67: 84, 76: 82, 75: 78, 71: 77, 84: 74, 85: 70, 94: 69, 88: 68, 105: 67, 96: 65, 90: 65, 104: 64, 83: 64, 82: 64, 79: 64, 97: 60, 81: 60, 98: 58, 93: 58, 89: 58, 100: 57, 92: 55, 112: 54, 87: 54, 106: 53, 95: 53, 114: 52, 91: 52, 109: 51, 120: 50, 115: 50, 102: 49, 101: 49, 99: 48, 135: 47, 132: 47, 129: 47, 128: 47, 107: 47, 138: 46, 108: 46, 110: 45, 116: 43, 144: 42, 123: 42, 103: 42, 142: 41, 130: 41, 127: 41, 113: 41, 119: 40, 122: 39, 161: 38, 118: 38, 154: 37, 126: 37, 163: 36, 152: 36, 117: 35, 146: 34, 124: 34, 111: 34, 150: 33, 141: 33, 134: 33, 121: 33, 169: 32, 156: 31, 140: 31, 159: 30, 153: 30, 136: 30, 125: 30, 234: 29, 184: 29, 174: 29, 201: 28, 168: 28, 147: 28, 145: 28, 133: 28, 196: 27, 194: 27, 186: 27, 175: 27, 160: 27, 137: 27, 131: 27, 219: 26, 149: 26, 212: 25, 165: 25, 155: 25, 192: 24, 190: 24, 178: 24, 162: 24, 148: 24, 220: 23, 215: 23, 200: 23, 189: 23, 187: 23, 173: 23, 166: 23, 139: 23, 242: 22, 222: 22, 209: 22, 206: 22, 203: 22, 197: 22, 185: 22, 171: 22, 170: 22, 167: 22, 157: 22, 247: 21, 239: 21, 198: 21, 179: 21, 177: 21, 164: 21, 143: 21, 216: 20, 202: 20, 151: 20, 248: 19, 244: 19, 205: 19, 204: 19, 199: 19, 191: 19, 158: 19, 384: 18, 316: 18, 294: 18, 243: 18, 240: 18, 229: 18, 227: 18, 218: 18, 193: 18, 188: 18, 180: 18, 310: 17, 280: 17, 271: 17, 237: 17, 213: 17, 211: 17, 207: 17, 315: 16, 293: 16, 270: 16, 262: 16, 250: 16, 245: 16, 236: 16, 183: 16, 182: 16, 352: 15, 276: 15, 272: 15, 265: 15, 258: 15, 231: 15, 228: 15, 445: 14, 341: 14, 331: 14, 324: 14, 303: 14, 295: 14, 289: 14, 269: 14, 268: 14, 252: 14, 249: 14, 241: 14, 238: 14, 235: 14, 232: 14, 226: 14, 221: 14, 195: 14, 176: 14, 172: 14, 404: 13, 348: 13, 345: 13, 328: 13, 264: 13, 233: 13, 210: 13, 334: 12, 333: 12, 314: 12, 308: 12, 307: 12, 297: 12, 296: 12, 283: 12, 267: 12, 260: 12, 257: 12, 256: 12, 246: 12, 214: 12, 181: 12, 431: 11, 430: 11, 407: 11, 406: 11, 386: 11, 363: 11, 323: 11, 317: 11, 292: 11, 288: 11, 287: 11, 286: 11, 274: 11, 259: 11, 253: 11, 230: 11, 225: 11, 217: 11, 208: 11, 415: 10, 403: 10, 367: 10, 361: 10, 357: 10, 349: 10, 326: 10, 325: 10, 319: 10, 306: 10, 298: 10, 290: 10, 279: 10, 266: 10, 263: 10, 531: 9, 455: 9, 441: 9, 439: 9, 438: 9, 429: 9, 417: 9, 392: 9, 376: 9, 374: 9, 371: 9, 351: 9, 346: 9, 344: 9, 342: 9, 337: 9, 336: 9, 335: 9, 322: 9, 313: 9, 312: 9, 302: 9, 285: 9, 284: 9, 281: 9, 278: 9, 277: 9, 275: 9, 261: 9, 223: 9, 816: 8, 654: 8, 514: 8, 492: 8, 478: 8, 472: 8, 456: 8, 440: 8, 435: 8, 425: 8, 424: 8, 419: 8, 418: 8, 409: 8, 399: 8, 378: 8, 375: 8, 358: 8, 353: 8, 350: 8, 332: 8, 321: 8, 318: 8, 309: 8, 301: 8, 300: 8, 697: 7, 618: 7, 600: 7, 586: 7, 573: 7, 564: 7, 533: 7, 519: 7, 513: 7, 505: 7, 487: 7, 484: 7, 469: 7, 453: 7, 452: 7, 434: 7, 428: 7, 426: 7, 410: 7, 405: 7, 390: 7, 387: 7, 373: 7, 364: 7, 359: 7, 356: 7, 340: 7, 339: 7, 338: 7, 329: 7, 320: 7, 304: 7, 282: 7, 254: 7, 1240: 6, 952: 6, 862: 6, 813: 6, 804: 6, 794: 6, 780: 6, 761: 6, 675: 6, 637: 6, 629: 6, 620: 6, 617: 6, 603: 6, 596: 6, 589: 6, 585: 6, 561: 6, 560: 6, 554: 6, 550: 6, 548: 6, 543: 6, 530: 6, 515: 6, 511: 6, 500: 6, 497: 6, 496: 6, 491: 6, 488: 6, 476: 6, 475: 6, 468: 6, 463: 6, 459: 6, 458: 6, 454: 6, 443: 6, 427: 6, 416: 6, 412: 6, 400: 6, 396: 6, 394: 6, 391: 6, 383: 6, 377: 6, 372: 6, 370: 6, 366: 6, 365: 6, 360: 6, 347: 6, 330: 6, 311: 6, 305: 6, 291: 6, 273: 6, 255: 6, 224: 6, 1245: 5, 1221: 5, 1087: 5, 996: 5, 967: 5, 945: 5, 938: 5, 920: 5, 916: 5, 886: 5, 873: 5, 838: 5, 798: 5, 777: 5, 759: 5, 744: 5, 735: 5, 730: 5, 727: 5, 722: 5, 718: 5, 715: 5, 711: 5, 708: 5, 704: 5, 703: 5, 681: 5, 679: 5, 677: 5, 663: 5, 659: 5, 644: 5, 632: 5, 628: 5, 607: 5, 606: 5, 602: 5, 599: 5, 591: 5, 577: 5, 575: 5, 571: 5, 568: 5, 563: 5, 562: 5, 558: 5, 553: 5, 536: 5, 532: 5, 516: 5, 507: 5, 501: 5, 479: 5, 477: 5, 464: 5, 461: 5, 457: 5, 450: 5, 448: 5, 447: 5, 444: 5, 437: 5, 433: 5, 420: 5, 408: 5, 402: 5, 398: 5, 388: 5, 382: 5, 381: 5, 380: 5, 379: 5, 368: 5, 343: 5, 327: 5, 299: 5, 2058: 4, 2017: 4, 1757: 4, 1629: 4, 1613: 4, 1494: 4, 1493: 4, 1488: 4, 1475: 4, 1469: 4, 1393: 4, 1366: 4, 1350: 4, 1334: 4, 1279: 4, 1256: 4, 1251: 4, 1246: 4, 1237: 4, 1137: 4, 1136: 4, 1132: 4, 1118: 4, 1096: 4, 1061: 4, 1037: 4, 1031: 4, 1021: 4, 994: 4, 951: 4, 930: 4, 913: 4, 889: 4, 876: 4, 872: 4, 867: 4, 863: 4, 859: 4, 840: 4, 835: 4, 808: 4, 789: 4, 778: 4, 774: 4, 771: 4, 755: 4, 754: 4, 753: 4, 752: 4, 742: 4, 741: 4, 739: 4, 726: 4, 720: 4, 719: 4, 698: 4, 693: 4, 683: 4, 682: 4, 671: 4, 669: 4, 662: 4, 658: 4, 652: 4, 635: 4, 634: 4, 627: 4, 626: 4, 625: 4, 619: 4, 605: 4, 593: 4, 582: 4, 570: 4, 566: 4, 547: 4, 544: 4, 542: 4, 538: 4, 537: 4, 535: 4, 529: 4, 522: 4, 517: 4, 510: 4, 509: 4, 506: 4, 502: 4, 494: 4, 485: 4, 474: 4, 471: 4, 467: 4, 462: 4, 460: 4, 451: 4, 436: 4, 432: 4, 423: 4, 421: 4, 411: 4, 369: 4, 362: 4, 354: 4, 251: 4, 4181: 3, 3304: 3, 2567: 3, 2542: 3, 2449: 3, 2249: 3, 2134: 3, 2065: 3, 1971: 3, 1935: 3, 1928: 3, 1906: 3, 1903: 3, 1855: 3, 1832: 3, 1827: 3, 1782: 3, 1760: 3, 1749: 3, 1718: 3, 1684: 3, 1683: 3, 1669: 3, 1586: 3, 1568: 3, 1567: 3, 1565: 3, 1564: 3, 1555: 3, 1543: 3, 1542: 3, 1530: 3, 1517: 3, 1504: 3, 1459: 3, 1456: 3, 1405: 3, 1363: 3, 1349: 3, 1344: 3, 1319: 3, 1313: 3, 1293: 3, 1288: 3, 1281: 3, 1277: 3, 1230: 3, 1226: 3, 1217: 3, 1215: 3, 1210: 3, 1208: 3, 1203: 3, 1201: 3, 1183: 3, 1165: 3, 1164: 3, 1140: 3, 1134: 3, 1128: 3, 1125: 3, 1121: 3, 1111: 3, 1105: 3, 1098: 3, 1081: 3, 1080: 3, 1055: 3, 1048: 3, 1047: 3, 1042: 3, 1032: 3, 1027: 3, 1015: 3, 1001: 3, 997: 3, 993: 3, 984: 3, 977: 3, 966: 3, 958: 3, 950: 3, 943: 3, 941: 3, 928: 3, 925: 3, 919: 3, 911: 3, 908: 3, 906: 3, 903: 3, 895: 3, 892: 3, 883: 3, 878: 3, 877: 3, 871: 3, 868: 3, 864: 3, 857: 3, 854: 3, 853: 3, 850: 3, 846: 3, 843: 3, 842: 3, 841: 3, 839: 3, 833: 3, 832: 3, 820: 3, 817: 3, 815: 3, 810: 3, 801: 3, 800: 3, 799: 3, 796: 3, 792: 3, 788: 3, 786: 3, 784: 3, 773: 3, 772: 3, 767: 3, 765: 3, 758: 3, 757: 3, 746: 3, 745: 3, 732: 3, 729: 3, 728: 3, 716: 3, 714: 3, 713: 3, 710: 3, 706: 3, 701: 3, 699: 3, 696: 3, 690: 3, 688: 3, 687: 3, 685: 3, 672: 3, 668: 3, 660: 3, 655: 3, 650: 3, 649: 3, 646: 3, 643: 3, 641: 3, 638: 3, 631: 3, 623: 3, 621: 3, 613: 3, 610: 3, 608: 3, 597: 3, 594: 3, 592: 3, 588: 3, 584: 3, 583: 3, 580: 3, 576: 3, 567: 3, 556: 3, 555: 3, 552: 3, 549: 3, 541: 3, 539: 3, 527: 3, 525: 3, 523: 3, 521: 3, 508: 3, 499: 3, 498: 3, 495: 3, 490: 3, 481: 3, 480: 3, 473: 3, 470: 3, 442: 3, 414: 3, 393: 3, 12558: 2, 7709: 2, 7075: 2, 6519: 2, 6130: 2, 6111: 2, 5767: 2, 5529: 2, 5489: 2, 5132: 2, 4909: 2, 4742: 2, 4564: 2, 4358: 2, 4211: 2, 4198: 2, 4164: 2, 4074: 2, 4071: 2, 3974: 2, 3969: 2, 3927: 2, 3873: 2, 3816: 2, 3726: 2, 3666: 2, 3651: 2, 3619: 2, 3566: 2, 3550: 2, 3548: 2, 3452: 2, 3436: 2, 3431: 2, 3379: 2, 3342: 2, 3295: 2, 3278: 2, 3266: 2, 3240: 2, 3235: 2, 3227: 2, 3192: 2, 3164: 2, 3152: 2, 3147: 2, 3082: 2, 3057: 2, 3042: 2, 2910: 2, 2903: 2, 2891: 2, 2881: 2, 2854: 2, 2823: 2, 2685: 2, 2668: 2, 2654: 2, 2652: 2, 2636: 2, 2618: 2, 2612: 2, 2610: 2, 2594: 2, 2589: 2, 2579: 2, 2543: 2, 2518: 2, 2505: 2, 2502: 2, 2496: 2, 2456: 2, 2454: 2, 2371: 2, 2343: 2, 2328: 2, 2320: 2, 2308: 2, 2287: 2, 2280: 2, 2276: 2, 2268: 2, 2180: 2, 2168: 2, 2141: 2, 2133: 2, 2131: 2, 2121: 2, 2104: 2, 2099: 2, 2081: 2, 2073: 2, 2066: 2, 2064: 2, 2062: 2, 2049: 2, 2043: 2, 2023: 2, 2000: 2, 1996: 2, 1978: 2, 1964: 2, 1962: 2, 1952: 2, 1951: 2, 1948: 2, 1944: 2, 1939: 2, 1938: 2, 1932: 2, 1896: 2, 1887: 2, 1883: 2, 1879: 2, 1876: 2, 1870: 2, 1868: 2, 1851: 2, 1842: 2, 1828: 2, 1810: 2, 1797: 2, 1793: 2, 1791: 2, 1790: 2, 1788: 2, 1787: 2, 1784: 2, 1779: 2, 1774: 2, 1769: 2, 1768: 2, 1764: 2, 1761: 2, 1738: 2, 1723: 2, 1722: 2, 1716: 2, 1694: 2, 1675: 2, 1666: 2, 1661: 2, 1657: 2, 1645: 2, 1644: 2, 1630: 2, 1628: 2, 1621: 2, 1610: 2, 1606: 2, 1593: 2, 1591: 2, 1560: 2, 1545: 2, 1541: 2, 1529: 2, 1524: 2, 1512: 2, 1508: 2, 1496: 2, 1492: 2, 1446: 2, 1433: 2, 1430: 2, 1423: 2, 1420: 2, 1418: 2, 1412: 2, 1407: 2, 1403: 2, 1401: 2, 1399: 2, 1397: 2, 1395: 2, 1381: 2, 1379: 2, 1370: 2, 1360: 2, 1357: 2, 1355: 2, 1339: 2, 1336: 2, 1322: 2, 1321: 2, 1309: 2, 1307: 2, 1301: 2, 1291: 2, 1287: 2, 1282: 2, 1280: 2, 1276: 2, 1275: 2, 1274: 2, 1272: 2, 1265: 2, 1262: 2, 1258: 2, 1254: 2, 1242: 2, 1236: 2, 1235: 2, 1232: 2, 1225: 2, 1223: 2, 1213: 2, 1212: 2, 1209: 2, 1199: 2, 1198: 2, 1195: 2, 1192: 2, 1191: 2, 1186: 2, 1185: 2, 1180: 2, 1173: 2, 1166: 2, 1163: 2, 1162: 2, 1159: 2, 1148: 2, 1141: 2, 1130: 2, 1126: 2, 1117: 2, 1113: 2, 1109: 2, 1097: 2, 1095: 2, 1094: 2, 1092: 2, 1089: 2, 1084: 2, 1082: 2, 1076: 2, 1072: 2, 1068: 2, 1067: 2, 1062: 2, 1058: 2, 1041: 2, 1036: 2, 1035: 2, 1033: 2, 1029: 2, 1028: 2, 1008: 2, 1007: 2, 1002: 2, 1000: 2, 999: 2, 998: 2, 992: 2, 990: 2, 988: 2, 987: 2, 986: 2, 985: 2, 983: 2, 981: 2, 978: 2, 974: 2, 968: 2, 962: 2, 948: 2, 946: 2, 942: 2, 936: 2, 934: 2, 932: 2, 924: 2, 923: 2, 915: 2, 912: 2, 910: 2, 904: 2, 901: 2, 891: 2, 890: 2, 887: 2, 884: 2, 882: 2, 881: 2, 879: 2, 875: 2, 860: 2, 855: 2, 851: 2, 848: 2, 845: 2, 836: 2, 834: 2, 830: 2, 829: 2, 823: 2, 822: 2, 819: 2, 812: 2, 807: 2, 806: 2, 805: 2, 802: 2, 797: 2, 787: 2, 783: 2, 776: 2, 775: 2, 770: 2, 769: 2, 768: 2, 764: 2, 756: 2, 749: 2, 747: 2, 740: 2, 738: 2, 737: 2, 736: 2, 734: 2, 725: 2, 709: 2, 702: 2, 700: 2, 695: 2, 694: 2, 689: 2, 678: 2, 676: 2, 674: 2, 673: 2, 670: 2, 667: 2, 666: 2, 664: 2, 656: 2, 647: 2, 645: 2, 642: 2, 640: 2, 639: 2, 633: 2, 630: 2, 624: 2, 622: 2, 616: 2, 615: 2, 611: 2, 604: 2, 601: 2, 598: 2, 590: 2, 579: 2, 578: 2, 574: 2, 572: 2, 569: 2, 559: 2, 557: 2, 540: 2, 534: 2, 528: 2, 526: 2, 520: 2, 518: 2, 512: 2, 504: 2, 503: 2, 489: 2, 483: 2, 466: 2, 465: 2, 449: 2, 446: 2, 422: 2, 401: 2, 397: 2, 395: 2, 389: 2, 385: 2, 355: 2, 149699: 1, 116708: 1, 78651: 1, 67375: 1, 65937: 1, 65777: 1, 65759: 1, 62523: 1, 61876: 1, 53554: 1, 53476: 1, 48460: 1, 48449: 1, 46814: 1, 46509: 1, 43265: 1, 42987: 1, 41714: 1, 40957: 1, 40318: 1, 40274: 1, 39533: 1, 39306: 1, 37924: 1, 37432: 1, 37086: 1, 36715: 1, 35325: 1, 34893: 1, 33888: 1, 32991: 1, 32494: 1, 32468: 1, 31591: 1, 31506: 1, 30659: 1, 29072: 1, 27710: 1, 27664: 1, 26240: 1, 25883: 1, 25723: 1, 25658: 1, 25215: 1, 24847: 1, 24274: 1, 24254: 1, 24236: 1, 23962: 1, 23705: 1, 23460: 1, 23358: 1, 22938: 1, 21816: 1, 21645: 1, 21459: 1, 21253: 1, 21192: 1, 21016: 1, 20675: 1, 20483: 1, 20061: 1, 20009: 1, 19702: 1, 19688: 1, 19429: 1, 19125: 1, 19002: 1, 18990: 1, 18906: 1, 18703: 1, 18617: 1, 18454: 1, 18395: 1, 18327: 1, 18242: 1, 18164: 1, 18132: 1, 18083: 1, 18022: 1, 17828: 1, 17719: 1, 17588: 1, 17447: 1, 17417: 1, 17236: 1, 17067: 1, 16980: 1, 16959: 1, 16885: 1, 16828: 1, 16735: 1, 16548: 1, 16503: 1, 16477: 1, 16324: 1, 16313: 1, 16287: 1, 16246: 1, 16071: 1, 15802: 1, 15651: 1, 15536: 1, 15533: 1, 15505: 1, 15414: 1, 15407: 1, 15370: 1, 15337: 1, 14932: 1, 14886: 1, 14742: 1, 14693: 1, 14687: 1, 14512: 1, 14510: 1, 14428: 1, 14291: 1, 14268: 1, 14173: 1, 13797: 1, 13744: 1, 13597: 1, 13585: 1, 13576: 1, 13423: 1, 13300: 1, 13262: 1, 13151: 1, 13057: 1, 13036: 1, 12910: 1, 12818: 1, 12789: 1, 12774: 1, 12770: 1, 12765: 1, 12605: 1, 12585: 1, 12430: 1, 12406: 1, 12393: 1, 12359: 1, 12351: 1, 12269: 1, 12227: 1, 12218: 1, 12210: 1, 12109: 1, 12026: 1, 12016: 1, 12008: 1, 11934: 1, 11924: 1, 11917: 1, 11894: 1, 11889: 1, 11867: 1, 11846: 1, 11782: 1, 11778: 1, 11760: 1, 11757: 1, 11627: 1, 11546: 1, 11508: 1, 11388: 1, 11363: 1, 11357: 1, 11271: 1, 11239: 1, 11216: 1, 11124: 1, 11086: 1, 11037: 1, 10967: 1, 10911: 1, 10878: 1, 10870: 1, 10822: 1, 10814: 1, 10741: 1, 10737: 1, 10666: 1, 10634: 1, 10525: 1, 10520: 1, 10506: 1, 10414: 1, 10316: 1, 10119: 1, 10086: 1, 9931: 1, 9919: 1, 9916: 1, 9908: 1, 9901: 1, 9892: 1, 9856: 1, 9849: 1, 9833: 1, 9829: 1, 9818: 1, 9788: 1, 9744: 1, 9723: 1, 9709: 1, 9674: 1, 9548: 1, 9535: 1, 9500: 1, 9493: 1, 9429: 1, 9425: 1, 9418: 1, 9417: 1, 9411: 1, 9231: 1, 9212: 1, 9203: 1, 9191: 1, 9149: 1, 9143: 1, 9106: 1, 9041: 1, 9033: 1, 9023: 1, 9000: 1, 8993: 1, 8984: 1, 8967: 1, 8954: 1, 8951: 1, 8888: 1, 8820: 1, 8815: 1, 8814: 1, 8802: 1, 8712: 1, 8632: 1, 8610: 1, 8592: 1, 8571: 1, 8497: 1, 8493: 1, 8488: 1, 8458: 1, 8426: 1, 8378: 1, 8337: 1, 8331: 1, 8277: 1, 8254: 1, 8250: 1, 8189: 1, 8184: 1, 8182: 1, 8178: 1, 8153: 1, 8101: 1, 8096: 1, 8041: 1, 8006: 1, 7997: 1, 7995: 1, 7982: 1, 7942: 1, 7933: 1, 7926: 1, 7891: 1, 7882: 1, 7828: 1, 7817: 1, 7804: 1, 7780: 1, 7776: 1, 7769: 1, 7762: 1, 7733: 1, 7719: 1, 7695: 1, 7686: 1, 7685: 1, 7663: 1, 7565: 1, 7561: 1, 7553: 1, 7545: 1, 7499: 1, 7474: 1, 7470: 1, 7436: 1, 7424: 1, 7391: 1, 7389: 1, 7360: 1, 7351: 1, 7337: 1, 7278: 1, 7254: 1, 7171: 1, 7161: 1, 7155: 1, 7129: 1, 7098: 1, 7069: 1, 7044: 1, 7031: 1, 7014: 1, 7009: 1, 6994: 1, 6987: 1, 6979: 1, 6977: 1, 6974: 1, 6968: 1, 6957: 1, 6947: 1, 6938: 1, 6922: 1, 6921: 1, 6917: 1, 6900: 1, 6882: 1, 6876: 1, 6862: 1, 6856: 1, 6848: 1, 6807: 1, 6791: 1, 6783: 1, 6774: 1, 6742: 1, 6730: 1, 6699: 1, 6694: 1, 6678: 1, 6676: 1, 6608: 1, 6582: 1, 6569: 1, 6568: 1, 6558: 1, 6551: 1, 6544: 1, 6541: 1, 6528: 1, 6508: 1, 6506: 1, 6492: 1, 6474: 1, 6430: 1, 6398: 1, 6388: 1, 6362: 1, 6358: 1, 6306: 1, 6303: 1, 6301: 1, 6298: 1, 6291: 1, 6270: 1, 6262: 1, 6259: 1, 6243: 1, 6184: 1, 6181: 1, 6176: 1, 6157: 1, 6154: 1, 6152: 1, 6109: 1, 6085: 1, 6081: 1, 6059: 1, 6030: 1, 6026: 1, 6007: 1, 6003: 1, 6002: 1, 5990: 1, 5986: 1, 5970: 1, 5967: 1, 5966: 1, 5952: 1, 5919: 1, 5906: 1, 5889: 1, 5879: 1, 5874: 1, 5869: 1, 5845: 1, 5831: 1, 5825: 1, 5823: 1, 5811: 1, 5769: 1, 5763: 1, 5742: 1, 5740: 1, 5737: 1, 5679: 1, 5672: 1, 5652: 1, 5628: 1, 5625: 1, 5622: 1, 5621: 1, 5617: 1, 5616: 1, 5615: 1, 5611: 1, 5598: 1, 5572: 1, 5561: 1, 5547: 1, 5542: 1, 5538: 1, 5537: 1, 5512: 1, 5472: 1, 5457: 1, 5450: 1, 5448: 1, 5443: 1, 5431: 1, 5417: 1, 5377: 1, 5375: 1, 5360: 1, 5350: 1, 5311: 1, 5306: 1, 5294: 1, 5293: 1, 5291: 1, 5285: 1, 5275: 1, 5269: 1, 5249: 1, 5244: 1, 5195: 1, 5183: 1, 5174: 1, 5168: 1, 5159: 1, 5103: 1, 5090: 1, 5066: 1, 5054: 1, 5040: 1, 5031: 1, 5030: 1, 5025: 1, 5014: 1, 5012: 1, 5000: 1, 4993: 1, 4992: 1, 4991: 1, 4990: 1, 4980: 1, 4979: 1, 4975: 1, 4956: 1, 4948: 1, 4932: 1, 4918: 1, 4913: 1, 4889: 1, 4884: 1, 4876: 1, 4875: 1, 4868: 1, 4858: 1, 4852: 1, 4850: 1, 4824: 1, 4823: 1, 4810: 1, 4795: 1, 4793: 1, 4787: 1, 4771: 1, 4737: 1, 4727: 1, 4719: 1, 4718: 1, 4710: 1, 4686: 1, 4677: 1, 4675: 1, 4674: 1, 4670: 1, 4666: 1, 4661: 1, 4657: 1, 4654: 1, 4649: 1, 4643: 1, 4629: 1, 4620: 1, 4616: 1, 4608: 1, 4606: 1, 4604: 1, 4603: 1, 4601: 1, 4557: 1, 4550: 1, 4533: 1, 4529: 1, 4520: 1, 4519: 1, 4503: 1, 4502: 1, 4495: 1, 4476: 1, 4460: 1, 4457: 1, 4441: 1, 4439: 1, 4430: 1, 4424: 1, 4421: 1, 4419: 1, 4418: 1, 4408: 1, 4400: 1, 4393: 1, 4392: 1, 4379: 1, 4376: 1, 4374: 1, 4365: 1, 4361: 1, 4349: 1, 4330: 1, 4306: 1, 4304: 1, 4281: 1, 4279: 1, 4259: 1, 4246: 1, 4239: 1, 4225: 1, 4212: 1, 4206: 1, 4201: 1, 4197: 1, 4196: 1, 4195: 1, 4191: 1, 4184: 1, 4183: 1, 4177: 1, 4162: 1, 4160: 1, 4159: 1, 4156: 1, 4155: 1, 4150: 1, 4130: 1, 4123: 1, 4122: 1, 4118: 1, 4111: 1, 4093: 1, 4083: 1, 4081: 1, 4076: 1, 4072: 1, 4070: 1, 4065: 1, 4006: 1, 3997: 1, 3994: 1, 3987: 1, 3986: 1, 3964: 1, 3963: 1, 3960: 1, 3959: 1, 3958: 1, 3951: 1, 3949: 1, 3947: 1, 3935: 1, 3920: 1, 3915: 1, 3914: 1, 3901: 1, 3898: 1, 3874: 1, 3870: 1, 3862: 1, 3854: 1, 3852: 1, 3851: 1, 3839: 1, 3822: 1, 3819: 1, 3815: 1, 3814: 1, 3809: 1, 3804: 1, 3801: 1, 3794: 1, 3788: 1, 3786: 1, 3772: 1, 3761: 1, 3758: 1, 3757: 1, 3754: 1, 3752: 1, 3721: 1, 3715: 1, 3711: 1, 3707: 1, 3706: 1, 3698: 1, 3697: 1, 3695: 1, 3683: 1, 3681: 1, 3665: 1, 3653: 1, 3652: 1, 3643: 1, 3641: 1, 3639: 1, 3638: 1, 3636: 1, 3623: 1, 3621: 1, 3613: 1, 3608: 1, 3607: 1, 3602: 1, 3598: 1, 3597: 1, 3595: 1, 3591: 1, 3584: 1, 3574: 1, 3573: 1, 3567: 1, 3560: 1, 3546: 1, 3544: 1, 3529: 1, 3522: 1, 3521: 1, 3520: 1, 3515: 1, 3505: 1, 3501: 1, 3493: 1, 3490: 1, 3484: 1, 3483: 1, 3479: 1, 3476: 1, 3472: 1, 3467: 1, 3464: 1, 3462: 1, 3458: 1, 3455: 1, 3453: 1, 3448: 1, 3446: 1, 3444: 1, 3442: 1, 3438: 1, 3429: 1, 3428: 1, 3425: 1, 3419: 1, 3412: 1, 3406: 1, 3402: 1, 3400: 1, 3391: 1, 3389: 1, 3384: 1, 3383: 1, 3382: 1, 3378: 1, 3371: 1, 3366: 1, 3354: 1, 3347: 1, 3345: 1, 3344: 1, 3340: 1, 3337: 1, 3330: 1, 3329: 1, 3326: 1, 3320: 1, 3313: 1, 3310: 1, 3299: 1, 3292: 1, 3287: 1, 3286: 1, 3284: 1, 3272: 1, 3269: 1, 3259: 1, 3258: 1, 3255: 1, 3247: 1, 3245: 1, 3226: 1, 3225: 1, 3223: 1, 3220: 1, 3208: 1, 3206: 1, 3204: 1, 3198: 1, 3196: 1, 3195: 1, 3187: 1, 3183: 1, 3182: 1, 3159: 1, 3158: 1, 3157: 1, 3143: 1, 3137: 1, 3135: 1, 3134: 1, 3132: 1, 3124: 1, 3123: 1, 3116: 1, 3109: 1, 3108: 1, 3103: 1, 3100: 1, 3095: 1, 3091: 1, 3087: 1, 3074: 1, 3073: 1, 3065: 1, 3058: 1, 3056: 1, 3043: 1, 3041: 1, 3032: 1, 3030: 1, 3029: 1, 3028: 1, 3026: 1, 3021: 1, 3018: 1, 3017: 1, 3012: 1, 3010: 1, 3008: 1, 2995: 1, 2992: 1, 2990: 1, 2989: 1, 2987: 1, 2986: 1, 2984: 1, 2981: 1, 2980: 1, 2979: 1, 2976: 1, 2955: 1, 2950: 1, 2942: 1, 2938: 1, 2937: 1, 2933: 1, 2931: 1, 2921: 1, 2918: 1, 2915: 1, 2905: 1, 2904: 1, 2896: 1, 2890: 1, 2868: 1, 2850: 1, 2845: 1, 2844: 1, 2841: 1, 2839: 1, 2819: 1, 2818: 1, 2811: 1, 2809: 1, 2805: 1, 2803: 1, 2802: 1, 2794: 1, 2791: 1, 2785: 1, 2783: 1, 2779: 1, 2774: 1, 2766: 1, 2762: 1, 2760: 1, 2747: 1, 2738: 1, 2737: 1, 2730: 1, 2726: 1, 2718: 1, 2715: 1, 2711: 1, 2699: 1, 2682: 1, 2680: 1, 2675: 1, 2673: 1, 2669: 1, 2667: 1, 2666: 1, 2664: 1, 2663: 1, 2662: 1, 2655: 1, 2653: 1, 2650: 1, 2649: 1, 2648: 1, 2647: 1, 2646: 1, 2644: 1, 2639: 1, 2635: 1, 2616: 1, 2615: 1, 2608: 1, 2602: 1, 2601: 1, 2599: 1, 2598: 1, 2593: 1, 2592: 1, 2588: 1, 2583: 1, 2581: 1, 2578: 1, 2572: 1, 2564: 1, 2563: 1, 2560: 1, 2556: 1, 2552: 1, 2550: 1, 2549: 1, 2548: 1, 2547: 1, 2534: 1, 2532: 1, 2531: 1, 2528: 1, 2523: 1, 2515: 1, 2513: 1, 2511: 1, 2507: 1, 2506: 1, 2501: 1, 2494: 1, 2491: 1, 2484: 1, 2481: 1, 2479: 1, 2477: 1, 2474: 1, 2471: 1, 2470: 1, 2466: 1, 2465: 1, 2463: 1, 2462: 1, 2461: 1, 2457: 1, 2452: 1, 2451: 1, 2450: 1, 2448: 1, 2446: 1, 2445: 1, 2441: 1, 2439: 1, 2432: 1, 2430: 1, 2427: 1, 2425: 1, 2423: 1, 2422: 1, 2415: 1, 2414: 1, 2412: 1, 2411: 1, 2408: 1, 2407: 1, 2406: 1, 2391: 1, 2390: 1, 2386: 1, 2384: 1, 2380: 1, 2374: 1, 2368: 1, 2367: 1, 2361: 1, 2358: 1, 2356: 1, 2352: 1, 2350: 1, 2347: 1, 2346: 1, 2341: 1, 2340: 1, 2338: 1, 2335: 1, 2331: 1, 2329: 1, 2327: 1, 2322: 1, 2319: 1, 2318: 1, 2315: 1, 2314: 1, 2310: 1, 2307: 1, 2305: 1, 2304: 1, 2303: 1, 2300: 1, 2298: 1, 2293: 1, 2289: 1, 2284: 1, 2283: 1, 2274: 1, 2272: 1, 2271: 1, 2263: 1, 2259: 1, 2258: 1, 2252: 1, 2251: 1, 2248: 1, 2246: 1, 2244: 1, 2241: 1, 2239: 1, 2238: 1, 2236: 1, 2234: 1, 2232: 1, 2228: 1, 2224: 1, 2217: 1, 2210: 1, 2204: 1, 2203: 1, 2199: 1, 2197: 1, 2196: 1, 2194: 1, 2192: 1, 2190: 1, 2185: 1, 2167: 1, 2163: 1, 2158: 1, 2154: 1, 2153: 1, 2148: 1, 2143: 1, 2139: 1, 2136: 1, 2129: 1, 2128: 1, 2126: 1, 2112: 1, 2111: 1, 2108: 1, 2107: 1, 2106: 1, 2102: 1, 2100: 1, 2098: 1, 2096: 1, 2094: 1, 2091: 1, 2086: 1, 2085: 1, 2082: 1, 2078: 1, 2077: 1, 2075: 1, 2072: 1, 2069: 1, 2059: 1, 2057: 1, 2052: 1, 2046: 1, 2042: 1, 2038: 1, 2037: 1, 2035: 1, 2032: 1, 2029: 1, 2027: 1, 2022: 1, 2021: 1, 2020: 1, 2019: 1, 2018: 1, 2016: 1, 2014: 1, 2013: 1, 2011: 1, 2010: 1, 2007: 1, 2005: 1, 1995: 1, 1986: 1, 1984: 1, 1979: 1, 1970: 1, 1969: 1, 1967: 1, 1961: 1, 1958: 1, 1957: 1, 1954: 1, 1949: 1, 1946: 1, 1937: 1, 1933: 1, 1931: 1, 1929: 1, 1927: 1, 1925: 1, 1922: 1, 1921: 1, 1920: 1, 1918: 1, 1910: 1, 1901: 1, 1900: 1, 1898: 1, 1897: 1, 1893: 1, 1882: 1, 1880: 1, 1875: 1, 1874: 1, 1873: 1, 1862: 1, 1860: 1, 1857: 1, 1854: 1, 1852: 1, 1849: 1, 1847: 1, 1845: 1, 1838: 1, 1836: 1, 1829: 1, 1826: 1, 1825: 1, 1824: 1, 1823: 1, 1821: 1, 1820: 1, 1817: 1, 1816: 1, 1813: 1, 1809: 1, 1801: 1, 1800: 1, 1798: 1, 1794: 1, 1792: 1, 1789: 1, 1783: 1, 1778: 1, 1777: 1, 1771: 1, 1770: 1, 1767: 1, 1765: 1, 1763: 1, 1756: 1, 1752: 1, 1751: 1, 1748: 1, 1743: 1, 1740: 1, 1730: 1, 1728: 1, 1727: 1, 1725: 1, 1724: 1, 1720: 1, 1717: 1, 1713: 1, 1712: 1, 1711: 1, 1704: 1, 1702: 1, 1701: 1, 1699: 1, 1693: 1, 1692: 1, 1689: 1, 1685: 1, 1679: 1, 1678: 1, 1672: 1, 1668: 1, 1664: 1, 1662: 1, 1656: 1, 1655: 1, 1653: 1, 1651: 1, 1649: 1, 1648: 1, 1646: 1, 1643: 1, 1637: 1, 1636: 1, 1633: 1, 1632: 1, 1627: 1, 1625: 1, 1623: 1, 1622: 1, 1619: 1, 1616: 1, 1615: 1, 1611: 1, 1607: 1, 1605: 1, 1603: 1, 1601: 1, 1600: 1, 1590: 1, 1589: 1, 1584: 1, 1583: 1, 1580: 1, 1579: 1, 1577: 1, 1575: 1, 1569: 1, 1562: 1, 1559: 1, 1558: 1, 1553: 1, 1552: 1, 1549: 1, 1548: 1, 1546: 1, 1544: 1, 1534: 1, 1533: 1, 1532: 1, 1528: 1, 1527: 1, 1526: 1, 1525: 1, 1520: 1, 1518: 1, 1515: 1, 1513: 1, 1510: 1, 1509: 1, 1507: 1, 1505: 1, 1499: 1, 1495: 1, 1491: 1, 1489: 1, 1487: 1, 1485: 1, 1481: 1, 1479: 1, 1478: 1, 1477: 1, 1474: 1, 1473: 1, 1472: 1, 1471: 1, 1470: 1, 1468: 1, 1467: 1, 1466: 1, 1465: 1, 1464: 1, 1462: 1, 1458: 1, 1455: 1, 1454: 1, 1453: 1, 1449: 1, 1448: 1, 1447: 1, 1445: 1, 1443: 1, 1442: 1, 1438: 1, 1431: 1, 1429: 1, 1427: 1, 1426: 1, 1424: 1, 1417: 1, 1415: 1, 1411: 1, 1409: 1, 1408: 1, 1406: 1, 1402: 1, 1400: 1, 1398: 1, 1388: 1, 1387: 1, 1380: 1, 1377: 1, 1372: 1, 1371: 1, 1369: 1, 1367: 1, 1362: 1, 1359: 1, 1358: 1, 1356: 1, 1354: 1, 1353: 1, 1351: 1, 1345: 1, 1343: 1, 1341: 1, 1338: 1, 1333: 1, 1332: 1, 1331: 1, 1330: 1, 1327: 1, 1323: 1, 1320: 1, 1316: 1, 1314: 1, 1312: 1, 1311: 1, 1310: 1, 1308: 1, 1305: 1, 1304: 1, 1299: 1, 1298: 1, 1297: 1, 1295: 1, 1292: 1, 1290: 1, 1286: 1, 1285: 1, 1284: 1, 1278: 1, 1273: 1, 1269: 1, 1264: 1, 1263: 1, 1261: 1, 1257: 1, 1255: 1, 1253: 1, 1248: 1, 1247: 1, 1244: 1, 1243: 1, 1239: 1, 1234: 1, 1231: 1, 1229: 1, 1228: 1, 1227: 1, 1224: 1, 1219: 1, 1214: 1, 1211: 1, 1207: 1, 1202: 1, 1200: 1, 1197: 1, 1193: 1, 1190: 1, 1189: 1, 1188: 1, 1187: 1, 1184: 1, 1182: 1, 1181: 1, 1178: 1, 1177: 1, 1174: 1, 1172: 1, 1169: 1, 1168: 1, 1167: 1, 1160: 1, 1158: 1, 1157: 1, 1155: 1, 1150: 1, 1149: 1, 1144: 1, 1143: 1, 1139: 1, 1138: 1, 1133: 1, 1131: 1, 1129: 1, 1127: 1, 1120: 1, 1119: 1, 1115: 1, 1104: 1, 1102: 1, 1101: 1, 1100: 1, 1093: 1, 1091: 1, 1090: 1, 1085: 1, 1083: 1, 1079: 1, 1077: 1, 1074: 1, 1073: 1, 1070: 1, 1066: 1, 1064: 1, 1063: 1, 1060: 1, 1059: 1, 1057: 1, 1054: 1, 1053: 1, 1051: 1, 1049: 1, 1046: 1, 1043: 1, 1039: 1, 1038: 1, 1026: 1, 1025: 1, 1024: 1, 1022: 1, 1019: 1, 1018: 1, 1014: 1, 1013: 1, 1012: 1, 1011: 1, 1009: 1, 1004: 1, 1003: 1, 995: 1, 991: 1, 989: 1, 982: 1, 980: 1, 979: 1, 973: 1, 972: 1, 971: 1, 970: 1, 965: 1, 959: 1, 957: 1, 956: 1, 954: 1, 953: 1, 947: 1, 944: 1, 940: 1, 939: 1, 937: 1, 933: 1, 929: 1, 927: 1, 922: 1, 918: 1, 909: 1, 907: 1, 900: 1, 897: 1, 896: 1, 894: 1, 893: 1, 888: 1, 865: 1, 861: 1, 858: 1, 856: 1, 831: 1, 826: 1, 825: 1, 824: 1, 821: 1, 818: 1, 814: 1, 803: 1, 795: 1, 793: 1, 790: 1, 779: 1, 766: 1, 763: 1, 762: 1, 750: 1, 748: 1, 743: 1, 731: 1, 724: 1, 723: 1, 721: 1, 717: 1, 712: 1, 707: 1, 705: 1, 692: 1, 691: 1, 686: 1, 684: 1, 680: 1, 665: 1, 661: 1, 657: 1, 653: 1, 651: 1, 648: 1, 636: 1, 614: 1, 612: 1, 595: 1, 587: 1, 581: 1, 551: 1, 545: 1, 524: 1, 493: 1, 486: 1, 482: 1, 413: 1})\n"
     ]
    }
   ],
   "source": [
    "# Number of words for a given frequency.\n",
    "print(Counter(sorted_text_occur))"
   ]
  },
  {
   "cell_type": "code",
   "execution_count": 49,
   "id": "32d37f08",
   "metadata": {},
   "outputs": [
    {
     "name": "stdout",
     "output_type": "stream",
     "text": [
      "For values of alpha =  1e-05 The log loss is: 1.2255881264700366\n",
      "For values of alpha =  0.0001 The log loss is: 1.085142962941408\n",
      "For values of alpha =  0.001 The log loss is: 1.088874069852681\n",
      "For values of alpha =  0.01 The log loss is: 1.1723191556115666\n",
      "For values of alpha =  0.1 The log loss is: 1.4872867381002508\n",
      "For values of alpha =  1 The log loss is: 1.6905196576636428\n"
     ]
    },
    {
     "data": {
      "image/png": "[encoded data removed]",
      "text/plain": [
       "<Figure size 432x288 with 1 Axes>"
      ]
     },
     "metadata": {
      "needs_background": "light"
     },
     "output_type": "display_data"
    },
    {
     "name": "stdout",
     "output_type": "stream",
     "text": [
      "For values of best alpha =  0.0001 The train log loss is: 0.6769469966199614\n",
      "For values of best alpha =  0.0001 The cross validation log loss is: 1.085142962941408\n",
      "For values of best alpha =  0.0001 The test log loss is: 1.2070582540694386\n"
     ]
    }
   ],
   "source": [
    "# Train a Logistic regression+Calibration model using text features whicha re on-hot encoded\n",
    "alpha = [10 ** x for x in range(-5, 1)]\n",
    "\n",
    "# read more about SGDClassifier() at http://scikit-learn.org/stable/modules/generated/sklearn.linear_model.SGDClassifier.html\n",
    "# ------------------------------\n",
    "# default parameters\n",
    "# SGDClassifier(loss=’hinge’, penalty=’l2’, alpha=0.0001, l1_ratio=0.15, fit_intercept=True, max_iter=None, tol=None, \n",
    "# shuffle=True, verbose=0, epsilon=0.1, n_jobs=1, random_state=None, learning_rate=’optimal’, eta0=0.0, power_t=0.5, \n",
    "# class_weight=None, warm_start=False, average=False, n_iter=None)\n",
    "\n",
    "# some of methods\n",
    "# fit(X, y[, coef_init, intercept_init, …])\tFit linear model with Stochastic Gradient Descent.\n",
    "# predict(X)\tPredict class labels for samples in X.\n",
    "\n",
    "#-------------------------------\n",
    "# video link: \n",
    "#------------------------------\n",
    "\n",
    "\n",
    "cv_log_error_array=[]\n",
    "for i in alpha:\n",
    "    clf = SGDClassifier(alpha=i, penalty='l2', loss='log', random_state=42)\n",
    "    clf.fit(train_text_feature_onehotCoding, y_train)\n",
    "    \n",
    "    sig_clf = CalibratedClassifierCV(clf, method=\"sigmoid\")\n",
    "    sig_clf.fit(train_text_feature_onehotCoding, y_train)\n",
    "    predict_y = sig_clf.predict_proba(cv_text_feature_onehotCoding)\n",
    "    cv_log_error_array.append(log_loss(y_cv, predict_y, labels=clf.classes_, eps=1e-15))\n",
    "    print('For values of alpha = ', i, \"The log loss is:\",log_loss(y_cv, predict_y, labels=clf.classes_, eps=1e-15))\n",
    "\n",
    "fig, ax = plt.subplots()\n",
    "ax.plot(alpha, cv_log_error_array,c='g')\n",
    "for i, txt in enumerate(np.round(cv_log_error_array,3)):\n",
    "    ax.annotate((alpha[i],np.round(txt,3)), (alpha[i],cv_log_error_array[i]))\n",
    "plt.grid()\n",
    "plt.title(\"Cross Validation Error for each alpha\")\n",
    "plt.xlabel(\"Alpha i's\")\n",
    "plt.ylabel(\"Error measure\")\n",
    "plt.show()\n",
    "\n",
    "\n",
    "best_alpha = np.argmin(cv_log_error_array)\n",
    "clf = SGDClassifier(alpha=alpha[best_alpha], penalty='l2', loss='log', random_state=42)\n",
    "clf.fit(train_text_feature_onehotCoding, y_train)\n",
    "sig_clf = CalibratedClassifierCV(clf, method=\"sigmoid\")\n",
    "sig_clf.fit(train_text_feature_onehotCoding, y_train)\n",
    "\n",
    "predict_y = sig_clf.predict_proba(train_text_feature_onehotCoding)\n",
    "print('For values of best alpha = ', alpha[best_alpha], \"The train log loss is:\",log_loss(y_train, predict_y, labels=clf.classes_, eps=1e-15))\n",
    "predict_y = sig_clf.predict_proba(cv_text_feature_onehotCoding)\n",
    "print('For values of best alpha = ', alpha[best_alpha], \"The cross validation log loss is:\",log_loss(y_cv, predict_y, labels=clf.classes_, eps=1e-15))\n",
    "predict_y = sig_clf.predict_proba(test_text_feature_onehotCoding)\n",
    "print('For values of best alpha = ', alpha[best_alpha], \"The test log loss is:\",log_loss(y_test, predict_y, labels=clf.classes_, eps=1e-15))\n"
   ]
  },
  {
   "cell_type": "markdown",
   "id": "7d36127d",
   "metadata": {},
   "source": [
    "<p style=\"font-size:18px;\"> <b>Q.</b> Is the Text feature stable across all the data sets (Test, Train, Cross validation)?</p>\n",
    "<p style=\"font-size:16px;\"> <b>Ans.</b> Yes, it seems like! </p>"
   ]
  },
  {
   "cell_type": "code",
   "execution_count": 50,
   "id": "a4a759e2",
   "metadata": {},
   "outputs": [],
   "source": [
    "def get_intersec_text(df):\n",
    "    df_text_vec = CountVectorizer(min_df=3)\n",
    "    df_text_fea = df_text_vec.fit_transform(df['TEXT'])\n",
    "    df_text_features = df_text_vec.get_feature_names()\n",
    "\n",
    "    df_text_fea_counts = df_text_fea.sum(axis=0).A1\n",
    "    df_text_fea_dict = dict(zip(list(df_text_features),df_text_fea_counts))\n",
    "    len1 = len(set(df_text_features))\n",
    "    len2 = len(set(train_text_features) & set(df_text_features))\n",
    "    return len1,len2"
   ]
  },
  {
   "cell_type": "code",
   "execution_count": 51,
   "id": "7104a868",
   "metadata": {},
   "outputs": [
    {
     "name": "stdout",
     "output_type": "stream",
     "text": [
      "95.904 % of word of test data appeared in train data\n",
      "98.117 % of word of Cross Validation appeared in train data\n"
     ]
    }
   ],
   "source": [
    "len1,len2 = get_intersec_text(test_df)\n",
    "print(np.round((len2/len1)*100, 3), \"% of word of test data appeared in train data\")\n",
    "len1,len2 = get_intersec_text(cv_df)\n",
    "print(np.round((len2/len1)*100, 3), \"% of word of Cross Validation appeared in train data\")"
   ]
  },
  {
   "cell_type": "markdown",
   "id": "63012fc7",
   "metadata": {},
   "source": [
    "<h1>4. Machine Learning Models</h1>"
   ]
  },
  {
   "cell_type": "code",
   "execution_count": null,
   "id": "cd2dc849",
   "metadata": {},
   "outputs": [],
   "source": []
  }
 ],
 "metadata": {
  "kernelspec": {
   "display_name": "Python 3 (ipykernel)",
   "language": "python",
   "name": "python3"
  },
  "language_info": {
   "codemirror_mode": {
    "name": "ipython",
    "version": 3
   },
   "file_extension": ".py",
   "mimetype": "text/x-python",
   "name": "python",
   "nbconvert_exporter": "python",
   "pygments_lexer": "ipython3",
   "version": "3.9.12"
  }
 },
 "nbformat": 4,
 "nbformat_minor": 5
}
