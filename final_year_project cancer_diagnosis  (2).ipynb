{
 "cells": [
  {
   "cell_type": "markdown",
   "id": "a3570098",
   "metadata": {},
   "source": [
    "\n",
    "\n",
    "\n",
    "<p style=\"font-size:36px;text-align:center\"> <b>Personalized cancer diagnosis</b> </p>"
   ]
  },
  {
   "cell_type": "markdown",
   "id": "cf8fd318",
   "metadata": {},
   "source": [
    "## Data : Memorial Sloan Kettering Cancer Center (MSKCC) \n"
   ]
  },
  {
   "cell_type": "markdown",
   "id": "2a867d39",
   "metadata": {},
   "source": [
    "### Real World Problem "
   ]
  },
  {
   "cell_type": "markdown",
   "id": "6c6b375f",
   "metadata": {},
   "source": [
    "<h3 >A malignant tumour can contain hundreds of genomic alterations after being sequenced. But the difficulty is separating the neutral mutations from the drivers, or those that lead to tumour development (passengers).\n",
    "The method used up until now was manual, which requires a lot of time and work. </h3>"
   ]
  },
  {
   "cell_type": "markdown",
   "id": "3473b0b1",
   "metadata": {},
   "source": [
    "# 1. Objective\n",
    "<p> <h3>Based on the ID (name) and variant that each gene carries, we may classify each gene into one of nine categories, some of which are related to cancerous tumours.</h3>\n",
    "\n",
    "1. Molecular pathologist select a genetic variation to analyze(consider genetic variation as a catogrical random variable).\n",
    "2. Pathologist Searches for evidence in medical literature that are relevant to genetic variation he picked\n",
    "3. Analyzing each text literature corresponding to particular genes(this process is time consuming)\n",
    "<h3>our work is to automate step 3 with a machine learning model</h3>.</p>"
   ]
  },
  {
   "cell_type": "markdown",
   "id": "628a52db",
   "metadata": {},
   "source": [
    "## Problem Statement\n",
    "## Task: Develop algorithms for classifying genetic mutations based on clinical data (text). Predict the class in which there was a genetic mutation."
   ]
  },
  {
   "cell_type": "markdown",
   "id": "1dfcb3bb",
   "metadata": {},
   "source": [
    "<h2> Real-world/Business objectives and constraints.</h2>"
   ]
  },
  {
   "cell_type": "markdown",
   "id": "c7b8cf11",
   "metadata": {},
   "source": [
    "* No requirements for low latency.\n",
    "* The ability to interpret is extremely important.\n",
    "* Mistakes may be quite expensive.\n",
    "* The likelihood that a data point belongs to each class is required."
   ]
  },
  {
   "cell_type": "markdown",
   "id": "9db1c632",
   "metadata": {},
   "source": [
    "<h1>2. Machine Learning Problem Formulation</h1>"
   ]
  },
  {
   "cell_type": "markdown",
   "id": "c3fbd3ff",
   "metadata": {},
   "source": [
    "<h3> Data </h3>"
   ]
  },
  {
   "cell_type": "markdown",
   "id": "13bf488e",
   "metadata": {},
   "source": [
    "- Source: https://www.kaggle.com/c/msk-redefining-cancer-treatment/data\n",
    "-Description of files:\n",
    "#### training_variants - contains a description of the genetic mutations used for training.\n",
    "-Fields: ID - string identifier that is used to associate the mutation with clinical data,\n",
    "-Gene - the gene in which this genetic mutation is located, \n",
    "-Variation - amino acid change for this mutation, \n",
    "-Class - 1-9 class in which this genetic mutation was classified\n",
    "#### training_text- is a double-pipe (||) delimited file containing clinical data (text) used to classify genetic mutations. \n",
    "-Fields: ID - identifier of the string used to associate clinical data with a genetic mutation.\n",
    "-Text - clinical data used to classify a genetic mutation)\n",
    "#### test_variants - contains a description of the genetic mutations used for training. \n",
    "-ID - string identifier that is used to associate the mutation with clinical data\n",
    "-Gene - the gene in which this genetic mutation is located, \n",
    "-Variation - amino acid change for this mutation\n",
    "#### test_text is a double pipe delimited file (||) containing clinical data (text) used to classify genetic mutations.\n",
    "-Fields: ID - identifier of the string used to associate clinical data with a genetic mutation, \n",
    "-Text - clinical data used to classify a genetic mutation)\n",
    "-<p> \n",
    "    Data file's information:\n",
    "    <ul> \n",
    "        <li>\n",
    "        training_variants (ID , Gene, Variations, Class)\n",
    "        </li>\n",
    "        <li>\n",
    "        training_text (ID, Text)\n",
    "        </li>\n",
    "    </ul>\n",
    "</p>"
   ]
  },
  {
   "cell_type": "markdown",
   "id": "d686784f",
   "metadata": {},
   "source": [
    "<h3>Type of Machine Learning Problem</h3>"
   ]
  },
  {
   "cell_type": "markdown",
   "id": "ed5fee67",
   "metadata": {},
   "source": [
    "<p>\n",
    "     Genetic mutations can be categorised into nine separate classes. => Multi class classification Problem.\n",
    "    \n",
    "</p>"
   ]
  },
  {
   "cell_type": "markdown",
   "id": "e7af029f",
   "metadata": {},
   "source": [
    "<h3>Performance Metric</h3>"
   ]
  },
  {
   "cell_type": "markdown",
   "id": "78c9b273",
   "metadata": {},
   "source": [
    "Source: https://www.kaggle.com/c/msk-redefining-cancer-treatment#evaluation\n",
    "\n",
    "Metric(s): \n",
    "* Multi class log-loss \n",
    "* Confusion matrix \n"
   ]
  },
  {
   "cell_type": "markdown",
   "id": "5d443681",
   "metadata": {},
   "source": [
    "## 2.1 Loading Data:"
   ]
  },
  {
   "cell_type": "markdown",
   "id": "f5aa106f",
   "metadata": {},
   "source": [
    "<p> A csv file containing the features is created and stored.\n",
    "This notebook's dataframe contains the generated csv file.</p>"
   ]
  },
  {
   "cell_type": "code",
   "execution_count": 1,
   "id": "3cc3b86e",
   "metadata": {
    "scrolled": true
   },
   "outputs": [],
   "source": [
    "import pandas as pd\n",
    "import numpy as np\n",
    "import matplotlib.pyplot as plt\n",
    "import seaborn as sns\n",
    "import re\n",
    "import time\n",
    "import warnings\n",
    "import string\n",
    "from nltk.corpus import stopwords\n",
    "import nltk\n",
    "from collections import Counter\n",
    "from nltk.stem.porter import PorterStemmer\n",
    "from nltk.corpus import wordnet\n",
    "from nltk.stem import WordNetLemmatizer\n",
    "pd.set_option('display.max_columns', None)\n",
    "plt.rcParams['figure.figsize'] = (12,6)"
   ]
  },
  {
   "cell_type": "code",
   "execution_count": 2,
   "id": "c60374e1",
   "metadata": {
    "scrolled": true
   },
   "outputs": [
    {
     "data": {
      "text/html": [
       "<div>\n",
       "<style scoped>\n",
       "    .dataframe tbody tr th:only-of-type {\n",
       "        vertical-align: middle;\n",
       "    }\n",
       "\n",
       "    .dataframe tbody tr th {\n",
       "        vertical-align: top;\n",
       "    }\n",
       "\n",
       "    .dataframe thead th {\n",
       "        text-align: right;\n",
       "    }\n",
       "</style>\n",
       "<table border=\"1\" class=\"dataframe\">\n",
       "  <thead>\n",
       "    <tr style=\"text-align: right;\">\n",
       "      <th></th>\n",
       "      <th>ID</th>\n",
       "      <th>Gene</th>\n",
       "      <th>Variation</th>\n",
       "      <th>Class</th>\n",
       "    </tr>\n",
       "  </thead>\n",
       "  <tbody>\n",
       "    <tr>\n",
       "      <th>2307</th>\n",
       "      <td>2307</td>\n",
       "      <td>JAK1</td>\n",
       "      <td>V658F</td>\n",
       "      <td>7</td>\n",
       "    </tr>\n",
       "    <tr>\n",
       "      <th>3148</th>\n",
       "      <td>3148</td>\n",
       "      <td>KRAS</td>\n",
       "      <td>P34R</td>\n",
       "      <td>7</td>\n",
       "    </tr>\n",
       "    <tr>\n",
       "      <th>2395</th>\n",
       "      <td>2395</td>\n",
       "      <td>NF1</td>\n",
       "      <td>Y489C</td>\n",
       "      <td>4</td>\n",
       "    </tr>\n",
       "    <tr>\n",
       "      <th>531</th>\n",
       "      <td>531</td>\n",
       "      <td>TP53</td>\n",
       "      <td>G266E</td>\n",
       "      <td>1</td>\n",
       "    </tr>\n",
       "    <tr>\n",
       "      <th>472</th>\n",
       "      <td>472</td>\n",
       "      <td>TP53</td>\n",
       "      <td>A347T</td>\n",
       "      <td>1</td>\n",
       "    </tr>\n",
       "    <tr>\n",
       "      <th>364</th>\n",
       "      <td>364</td>\n",
       "      <td>EPAS1</td>\n",
       "      <td>P531S</td>\n",
       "      <td>2</td>\n",
       "    </tr>\n",
       "    <tr>\n",
       "      <th>2882</th>\n",
       "      <td>2882</td>\n",
       "      <td>BRCA2</td>\n",
       "      <td>D2723G</td>\n",
       "      <td>1</td>\n",
       "    </tr>\n",
       "  </tbody>\n",
       "</table>\n",
       "</div>"
      ],
      "text/plain": [
       "        ID   Gene Variation  Class\n",
       "2307  2307   JAK1     V658F      7\n",
       "3148  3148   KRAS      P34R      7\n",
       "2395  2395    NF1     Y489C      4\n",
       "531    531   TP53     G266E      1\n",
       "472    472   TP53     A347T      1\n",
       "364    364  EPAS1     P531S      2\n",
       "2882  2882  BRCA2    D2723G      1"
      ]
     },
     "execution_count": 2,
     "metadata": {},
     "output_type": "execute_result"
    }
   ],
   "source": [
    "data_variant = pd.read_csv('training_variants')\n",
    "data_variant.sample(7)"
   ]
  },
  {
   "cell_type": "code",
   "execution_count": 3,
   "id": "37a0bcfd",
   "metadata": {
    "scrolled": true
   },
   "outputs": [
    {
     "data": {
      "text/html": [
       "<div>\n",
       "<style scoped>\n",
       "    .dataframe tbody tr th:only-of-type {\n",
       "        vertical-align: middle;\n",
       "    }\n",
       "\n",
       "    .dataframe tbody tr th {\n",
       "        vertical-align: top;\n",
       "    }\n",
       "\n",
       "    .dataframe thead th {\n",
       "        text-align: right;\n",
       "    }\n",
       "</style>\n",
       "<table border=\"1\" class=\"dataframe\">\n",
       "  <thead>\n",
       "    <tr style=\"text-align: right;\">\n",
       "      <th></th>\n",
       "      <th>ID</th>\n",
       "      <th>TEXT</th>\n",
       "    </tr>\n",
       "  </thead>\n",
       "  <tbody>\n",
       "    <tr>\n",
       "      <th>164</th>\n",
       "      <td>164</td>\n",
       "      <td>Oncogenic mutations in the epidermal growth fa...</td>\n",
       "    </tr>\n",
       "    <tr>\n",
       "      <th>2281</th>\n",
       "      <td>2281</td>\n",
       "      <td>Oligodendroglioma is characterized by unique c...</td>\n",
       "    </tr>\n",
       "    <tr>\n",
       "      <th>1813</th>\n",
       "      <td>1813</td>\n",
       "      <td>Mutational hotspots indicate selective pressur...</td>\n",
       "    </tr>\n",
       "    <tr>\n",
       "      <th>1660</th>\n",
       "      <td>1660</td>\n",
       "      <td>Mutations in the juxtamembrane and kinase doma...</td>\n",
       "    </tr>\n",
       "    <tr>\n",
       "      <th>3024</th>\n",
       "      <td>3024</td>\n",
       "      <td>The pathogenesis of most gastrointestinal stro...</td>\n",
       "    </tr>\n",
       "    <tr>\n",
       "      <th>1976</th>\n",
       "      <td>1976</td>\n",
       "      <td>We screened 75 primary hepatocellular carcinom...</td>\n",
       "    </tr>\n",
       "    <tr>\n",
       "      <th>373</th>\n",
       "      <td>373</td>\n",
       "      <td>Genotoxic stress triggers a rapid translocatio...</td>\n",
       "    </tr>\n",
       "  </tbody>\n",
       "</table>\n",
       "</div>"
      ],
      "text/plain": [
       "        ID                                               TEXT\n",
       "164    164  Oncogenic mutations in the epidermal growth fa...\n",
       "2281  2281  Oligodendroglioma is characterized by unique c...\n",
       "1813  1813  Mutational hotspots indicate selective pressur...\n",
       "1660  1660  Mutations in the juxtamembrane and kinase doma...\n",
       "3024  3024  The pathogenesis of most gastrointestinal stro...\n",
       "1976  1976  We screened 75 primary hepatocellular carcinom...\n",
       "373    373  Genotoxic stress triggers a rapid translocatio..."
      ]
     },
     "execution_count": 3,
     "metadata": {},
     "output_type": "execute_result"
    }
   ],
   "source": [
    "data_text =pd.read_csv(\"training_text\",sep=\"\\|\\|\",engine=\"python\",names=[\"ID\",\"TEXT\"],skiprows=1)\n",
    "data_text.sample(7)"
   ]
  },
  {
   "cell_type": "markdown",
   "id": "44186cf7",
   "metadata": {},
   "source": [
    "## 3. Familiarizing with Data\n",
    "#### In this step, few dataframe methods are used to look into the data and its features."
   ]
  },
  {
   "cell_type": "code",
   "execution_count": 4,
   "id": "d2dc6043",
   "metadata": {
    "scrolled": true
   },
   "outputs": [
    {
     "name": "stdout",
     "output_type": "stream",
     "text": [
      "Number of data points :  3321\n",
      "Number of features :  4\n",
      "Features :  ['ID' 'Gene' 'Variation' 'Class']\n",
      "(3321, 4)\n"
     ]
    }
   ],
   "source": [
    "print('Number of data points : ', data_variant.shape[0])\n",
    "print('Number of features : ', data_variant.shape[1])\n",
    "print('Features : ', data_variant.columns.values)\n",
    "print(data_variant.shape)"
   ]
  },
  {
   "cell_type": "code",
   "execution_count": 5,
   "id": "eee6a337",
   "metadata": {
    "scrolled": true
   },
   "outputs": [
    {
     "name": "stdout",
     "output_type": "stream",
     "text": [
      "Number of data points :  3321\n",
      "Number of features :  2\n",
      "Features :  ['ID' 'TEXT']\n",
      "(3321, 2)\n"
     ]
    }
   ],
   "source": [
    "print('Number of data points : ', data_text.shape[0])\n",
    "print('Number of features : ', data_text.shape[1])\n",
    "print('Features : ', data_text.columns.values)\n",
    "print(data_text.shape)"
   ]
  },
  {
   "cell_type": "markdown",
   "id": "3fcb09a3",
   "metadata": {},
   "source": [
    "## 3.1. Text Data Preprocessing\n",
    "##### We have a tonne of textual information. Therefore, we must preprocess it. Therefore, let's create a function for it.\n",
    "\n",
    "- reference https://www.kaggle.com/code/sudalairajkumar/getting-started-with-text-preprocessing/notebook"
   ]
  },
  {
   "cell_type": "code",
   "execution_count": 6,
   "id": "67a77ed0",
   "metadata": {
    "scrolled": true
   },
   "outputs": [
    {
     "name": "stdout",
     "output_type": "stream",
     "text": [
      "ID,Text\n",
      "\n",
      "0||Cyclin-dependent kinases (CDKs) regulate a variety of fundamental cellular processes. CDK10 stands out as one of the last orphan CDKs for which no activating cyclin has been identified and no kinase activity revealed. Previous work has shown that CDK10 silencing increases ETS2 (v-ets erythroblastosis virus E26 oncogene homolog 2)-driven activation of the MAPK pathway, which confers tamoxifen resistance to breast cancer cells. The precise mechanisms by which CDK10 modulates ETS2 activity, and more generally the functions of CDK10, remain elusive. Here we demonstrate that CDK10 is a cyclin-dependent kinase by identifying cyclin M as an activating cyclin. Cyclin M, an orphan cyclin, is the product of FAM58A, whose mutations cause STAR syndrome, a human developmental anomaly whose features include toe syndactyly, telecanthus, and anogenital and renal malformations. We show that STAR syndrome-associated cyclin M mutants are unable to interact with CDK10. Cyclin M silencing phenocopies CDK10 silencing in increasing c-Raf and in conferring tamoxifen resistance to breast cancer cells. CDK10/cyclin M phosphorylates ETS2 in vitro, and in cells it positively controls ETS2 degradation by the proteasome. ETS2 protein levels are increased in cells derived from a STAR patient, and this increase is attributable to decreased cyclin M levels. Altogether, our results reveal an additional regulatory mechanism for ETS2, which plays key roles in cancer and development. They also shed light on the molecular mechanisms underlying STAR syndrome.Cyclin-dependent kinases (CDKs) play a pivotal role in the control of a number of fundamental cellular processes (1). The human genome contains 21 genes encoding proteins that can be considered as members of the CDK family owing to their sequence similarity with bona fide CDKs, those known to be activated by cyclins (2). Although discovered almost 20 y ago (3, 4), CDK10 remains one of the two CDKs without an identified cyclin partner. This knowledge gap has largely impeded the exploration of its biological functions. CDK10 can act as a positive cell cycle regulator in some cells (5, 6) or as a tumor suppressor in others (7, 8). CDK10 interacts with the ETS2 (v-ets erythroblastosis virus E26 oncogene homolog 2) transcription factor and inhibits its transcriptional activity through an unknown mechanism (9). CDK10 knockdown derepresses ETS2, which increases the expression of the c-Raf protein kinase, activates the MAPK pathway, and induces resistance of MCF7 cells to tamoxifen (6).Here, we deorphanize CDK10 by identifying cyclin M, the product of FAM58A, as a binding partner. Mutations in this gene that predict absence or truncation of cyclin M are associated with STAR syndrome, whose features include toe syndactyly, telecanthus, and anogenital and renal malformations in heterozygous females (10). However, both the functions of cyclin M and the pathogenesis of STAR syndrome remain unknown. We show that a recombinant CDK10/cyclin M heterodimer is an active protein kinase that phosphorylates ETS2 in vitro. Cyclin M silencing phenocopies CDK10 silencing in increasing c-Raf and phospho-ERK expression levels and in inducing tamoxifen resistance in estrogen receptor (ER)+ breast cancer cells. We show that CDK10/cyclin M positively controls ETS2 degradation by the proteasome, through the phosphorylation of two neighboring serines. Finally, we detect an increased ETS2 expression level in cells derived from a STAR patient, and we demonstrate that it is attributable to the decreased cyclin M expression level observed in these cells.Previous SectionNext SectionResultsA yeast two-hybrid (Y2H) screen unveiled an interaction signal between CDK10 and a mouse protein whose C-terminal half presents a strong sequence homology with the human FAM58A gene product [whose proposed name is cyclin M (11)]. We thus performed Y2H mating assays to determine whether human CDK10 interacts with human cyclin M (Fig. 1 A–C). The longest CDK10 isoform (P1) expressed as a bait protein produced a strong interaction phenotype with full-length cyclin M (expressed as a prey protein) but no detectable phenotype with cyclin D1, p21 (CIP1), and Cdi1 (KAP), which are known binding partners of other CDKs (Fig. 1B). CDK1 and CDK3 also produced Y2H signals with cyclin M, albeit notably weaker than that observed with CDK10 (Fig. 1B). An interaction phenotype was also observed between full-length cyclin M and CDK10 proteins expressed as bait and prey, respectively (Fig. S1A). We then tested different isoforms of CDK10 and cyclin M originating from alternative gene splicing, and two truncated cyclin M proteins corresponding to the hypothetical products of two mutated FAM58A genes found in STAR syndrome patients (10). None of these shorter isoforms produced interaction phenotypes (Fig. 1 A and C and Fig. S1A).Fig. 1.In a new window Download PPTFig. 1.CDK10 and cyclin M form an interaction complex. (A) Schematic representation of the different protein isoforms analyzed by Y2H assays. Amino acid numbers are indicated. Black boxes indicate internal deletions. The red box indicates a differing amino acid sequence compared with CDK10 P1. (B) Y2H assay between a set of CDK proteins expressed as baits (in fusion to the LexA DNA binding domain) and CDK interacting proteins expressed as preys (in fusion to the B42 transcriptional activator). pEG202 and pJG4-5 are the empty bait and prey plasmids expressing LexA and B42, respectively. lacZ was used as a reporter gene, and blue yeast are indicative of a Y2H interaction phenotype. (C) Y2H assay between the different CDK10 and cyclin M isoforms. The amino-terminal region of ETS2, known to interact with CDK10 (9), was also assayed. (D) Western blot analysis of Myc-CDK10 (wt or kd) and CycM-V5-6His expression levels in transfected HEK293 cells. (E) Western blot analysis of Myc-CDK10 (wt or kd) immunoprecipitates obtained using the anti-Myc antibody. “Inputs” correspond to 10 μg total lysates obtained from HEK293 cells coexpressing Myc-CDK10 (wt or kd) and CycM-V5-6His. (F) Western blot analysis of immunoprecipitates obtained using the anti-CDK10 antibody or a control goat antibody, from human breast cancer MCF7 cells. “Input” corresponds to 30 μg MCF7 total cell lysates. The lower band of the doublet observed on the upper panel comigrates with the exogenously expressed untagged CDK10 and thus corresponds to endogenous CDK10. The upper band of the doublet corresponds to a nonspecific signal, as demonstrated by it insensitivity to either overexpression of CDK10 (as seen on the left lane) or silencing of CDK10 (Fig. S2B). Another experiment with a longer gel migration is shown in Fig. S1D.Next we examined the ability of CDK10 and cyclin M to interact when expressed in human cells (Fig. 1 D and E). We tested wild-type CDK10 (wt) and a kinase dead (kd) mutant bearing a D181A amino acid substitution that abolishes ATP binding (12). We expressed cyclin M-V5-6His and/or Myc-CDK10 (wt or kd) in a human embryonic kidney cell line (HEK293). The expression level of cyclin M-V5-6His was significantly increased upon coexpression with Myc-CDK10 (wt or kd) and, to a lesser extent, that of Myc-CDK10 (wt or kd) was increased upon coexpression with cyclin M-V5-6His (Fig. 1D). We then immunoprecipitated Myc-CDK10 proteins and detected the presence of cyclin M in the CDK10 (wt) and (kd) immunoprecipitates only when these proteins were coexpressed pair-wise (Fig. 1E). We confirmed these observations by detecting the presence of Myc-CDK10 in cyclin M-V5-6His immunoprecipitates (Fig. S1B). These experiments confirmed the lack of robust interaction between the CDK10.P2 isoform and cyclin M (Fig. S1C). To detect the interaction between endogenous proteins, we performed immunoprecipitations on nontransfected MCF7 cells derived from a human breast cancer. CDK10 and cyclin M antibodies detected their cognate endogenous proteins by Western blotting. We readily detected cyclin M in immunoprecipitates obtained with the CDK10 antibody but not with a control antibody (Fig. 1F). These results confirm the physical interaction between CDK10 and cyclin M in human cells.To unveil a hypothesized CDK10/cyclin M protein kinase activity, we produced GST-CDK10 and StrepII-cyclin M fusion proteins in insect cells, either individually or in combination. We observed that GST-CDK10 and StrepII-cyclin M copurified, thus confirming their interaction in yet another cellular model (Fig. 2A). We then performed in vitro kinase assays with purified proteins, using histone H1 as a generic substrate. Histone H1 phosphorylation was detected only from lysates of cells coexpressing GST-CDK10 and StrepII-cyclin M. No phosphorylation was detected when GST-CDK10 or StrepII-cyclin M were expressed alone, or when StrepII-cyclin M was coexpressed with GST-CDK10(kd) (Fig. 2A). Next we investigated whether ETS2, which is known to interact with CDK10 (9) (Fig. 1C), is a phosphorylation substrate of CDK10/cyclin M. We detected strong phosphorylation of ETS2 by the GST-CDK10/StrepII-cyclin M purified heterodimer, whereas no phosphorylation was detected using GST-CDK10 alone or GST-CDK10(kd)/StrepII-cyclin M heterodimer (Fig. 2B).Fig. 2.In a new window Download PPTFig. 2.CDK10 is a cyclin M-dependent protein kinase. (A) In vitro protein kinase assay on histone H1. Lysates from insect cells expressing different proteins were purified on a glutathione Sepharose matrix to capture GST-CDK10(wt or kd) fusion proteins alone, or in complex with STR-CycM fusion protein. Purified protein expression levels were analyzed by Western blots (Top and Upper Middle). The kinase activity was determined by autoradiography of histone H1, whose added amounts were visualized by Coomassie staining (Lower Middle and Bottom). (B) Same as in A, using purified recombinant 6His-ETS2 as a substrate.CDK10 silencing has been shown to increase ETS2-driven c-RAF transcription and to activate the MAPK pathway (6). We investigated whether cyclin M is also involved in this regulatory pathway. To aim at a highly specific silencing, we used siRNA pools (mix of four different siRNAs) at low final concentration (10 nM). Both CDK10 and cyclin M siRNA pools silenced the expression of their cognate targets (Fig. 3 A and C and Fig. S2) and, interestingly, the cyclin M siRNA pool also caused a marked decrease in CDK10 protein level (Fig. 3A and Fig. S2B). These results, and those shown in Fig. 1D, suggest that cyclin M binding stabilizes CDK10. Cyclin M silencing induced an increase in c-Raf protein and mRNA levels (Fig. 3 B and C) and in phosphorylated ERK1 and ERK2 protein levels (Fig. S3B), similarly to CDK10 silencing. As expected from these effects (6), CDK10 and cyclin M silencing both decreased the sensitivity of ER+ MCF7 cells to tamoxifen, to a similar extent. The combined silencing of both genes did not result in a higher resistance to the drug (Fig. S3C). Altogether, these observations demonstrate a functional interaction between cyclin M and CDK10, which negatively controls ETS2.Fig. 3.In a new window Download PPTFig. 3.Cyclin M silencing up-regulates c-Raf expression. (A) Western blot analysis of endogenous CDK10 and cyclin M expression levels in MCF7 cells, in response to siRNA-mediated gene silencing. (B) Western blot analysis of endogenous c-Raf expression levels in MCF7 cells, in response to CDK10 or cyclin M silencing. A quantification is shown in Fig. S3A. (C) Quantitative RT-PCR analysis of CDK10, cyclin M, and c-Raf mRNA levels, in response to CDK10 (Upper) or cyclin M (Lower) silencing. **P ≤ 0.01; ***P ≤ 0.001.We then wished to explore the mechanism by which CDK10/cyclin M controls ETS2. ETS2 is a short-lived protein degraded by the proteasome (13). A straightforward hypothesis is that CDK10/cyclin M positively controls ETS2 degradation. We thus examined the impact of CDK10 or cyclin M silencing on ETS2 expression levels. The silencing of CDK10 and that of cyclin M caused an increase in the expression levels of an exogenously expressed Flag-ETS2 protein (Fig. S4A), as well as of the endogenous ETS2 protein (Fig. 4A). This increase is not attributable to increased ETS2 mRNA levels, which marginally fluctuated in response to CDK10 or cyclin M silencing (Fig. S4B). We then examined the expression levels of the Flag-tagged ETS2 protein when expressed alone or in combination with Myc-CDK10 or -CDK10(kd), with or without cyclin M-V5-6His. Flag-ETS2 was readily detected when expressed alone or, to a lesser extent, when coexpressed with CDK10(kd). However, its expression level was dramatically decreased when coexpressed with CDK10 alone, or with CDK10 and cyclin M (Fig. 4B). These observations suggest that endogenous cyclin M levels are in excess compared with those of CDK10 in MCF7 cells, and they show that the major decrease in ETS2 levels observed upon CDK10 coexpression involves CDK10 kinase activity. Treatment of cells coexpressing Flag-ETS2, CDK10, and cyclin M with the proteasome inhibitor MG132 largely rescued Flag-ETS2 expression levels (Fig. 4B).Fig. 4.In a new window Download PPTFig. 4.CDK10/cyclin M controls ETS2 stability in human cancer derived cells. (A) Western blot analysis of endogenous ETS2 expression levels in MCF7 cells, in response to siRNA-mediated CDK10 and/or cyclin M silencing. A quantification is shown in Fig. S4B. (B) Western blot analysis of exogenously expressed Flag-ETS2 protein levels in MCF7 cells cotransfected with empty vectors or coexpressing Myc-CDK10 (wt or kd), or Myc-CDK10/CycM-V5-6His. The latter cells were treated for 16 h with the MG132 proteasome inhibitor. Proper expression of CDK10 and cyclin M tagged proteins was verified by Western blot analysis. (C and D) Western blot analysis of expression levels of exogenously expressed Flag-ETS2 wild-type or mutant proteins in MCF7 cells, in the absence of (C) or in response to (D) Myc-CDK10/CycM-V5-6His expression. Quantifications are shown in Fig. S4 C and D.A mass spectrometry analysis of recombinant ETS2 phosphorylated by CDK10/cyclin M in vitro revealed the existence of multiple phosphorylated residues, among which are two neighboring phospho-serines (at positions 220 and 225) that may form a phosphodegron (14) (Figs. S5–S8). To confirm this finding, we compared the phosphorylation level of recombinant ETS2wt with that of ETS2SASA protein, a mutant bearing alanine substitutions of these two serines. As expected from the existence of multiple phosphorylation sites, we detected a small but reproducible, significant decrease of phosphorylation level of ETS2SASA compared with ETS2wt (Fig. S9), thus confirming that Ser220/Ser225 are phosphorylated by CDK10/cyclin M. To establish a direct link between ETS2 phosphorylation by CDK10/cyclin M and degradation, we examined the expression levels of Flag-ETS2SASA. In the absence of CDK10/cyclin M coexpression, it did not differ significantly from that of Flag-ETS2. This is contrary to that of Flag-ETS2DBM, bearing a deletion of the N-terminal destruction (D-) box that was previously shown to be involved in APC-Cdh1–mediated degradation of ETS2 (13) (Fig. 4C). However, contrary to Flag-ETS2 wild type, the expression level of Flag-ETS2SASA remained insensitive to CDK10/cyclin M coexpression (Fig. 4D). Altogether, these results suggest that CDK10/cyclin M directly controls ETS2 degradation through the phosphorylation of these two serines.Finally, we studied a lymphoblastoid cell line derived from a patient with STAR syndrome, bearing FAM58A mutation c.555+1G>A, predicted to result in aberrant splicing (10). In accordance with incomplete skewing of X chromosome inactivation previously found in this patient, we detected a decreased expression level of cyclin M protein in the STAR cell line, compared with a control lymphoblastoid cell line. In line with our preceding observations, we detected an increased expression level of ETS2 protein in the STAR cell line compared with the control (Fig. 5A and Fig. S10A). We then examined by quantitative RT-PCR the mRNA expression levels of the corresponding genes. The STAR cell line showed a decreased expression level of cyclin M mRNA but an expression level of ETS2 mRNA similar to that of the control cell line (Fig. 5B). To demonstrate that the increase in ETS2 protein expression is indeed a result of the decreased cyclin M expression observed in the STAR patient-derived cell line, we expressed cyclin M-V5-6His in this cell line. This expression caused a decrease in ETS2 protein levels (Fig. 5C).Fig. 5.In a new window Download PPTFig. 5.Decreased cyclin M expression in STAR patient-derived cells results in increased ETS2 protein level. (A) Western blot analysis of cyclin M and ETS2 protein levels in a STAR patient-derived lymphoblastoid cell line and in a control lymphoblastoid cell line, derived from a healthy individual. A quantification is shown in Fig. S10A. (B) Quantitative RT-PCR analysis of cyclin M and ETS2 mRNA levels in the same cells. ***P ≤ 0.001. (C) Western blot analysis of ETS2 protein levels in the STAR patient-derived lymphoblastoid cell line transfected with an empty vector or a vector directing the expression of cyclin M-V5-6His. Another Western blot revealing endogenously and exogenously expressed cyclin M levels is shown in Fig. S10B. A quantification of ETS2 protein levels is shown in Fig. S10C.Previous SectionNext SectionDiscussionIn this work, we unveil the interaction between CDK10, the last orphan CDK discovered in the pregenomic era (2), and cyclin M, the only cyclin associated with a human genetic disease so far, and whose functions remain unknown (10). The closest paralogs of CDK10 within the CDK family are the CDK11 proteins, which interact with L-type cyclins (15). Interestingly, the closest paralog of these cyclins within the cyclin family is cyclin M (Fig. S11). The fact that none of the shorter CDK10 isoforms interact robustly with cyclin M suggests that alternative splicing of the CDK10 gene (16, 17) plays an important role in regulating CDK10 functions.The functional relevance of the interaction between CDK10 and cyclin M is supported by different observations. Both proteins seem to enhance each other’s stability, as judged from their increased expression levels when their partner is exogenously coexpressed (Fig. 1D) and from the much reduced endogenous CDK10 expression level observed in response to cyclin M silencing (Fig. 3A and Fig. S2B). CDK10 is subject to ubiquitin-mediated degradation (18). Our observations suggest that cyclin M protects CDK10 from such degradation and that it is the only cyclin partner of CDK10, at least in MCF7 cells. They also suggest that cyclin M stability is enhanced upon binding to CDK10, independently from its kinase activity, as seen for cyclin C and CDK8 (19). We uncover a cyclin M-dependent CDK10 protein kinase activity in vitro, thus demonstrating that this protein, which was named a CDK on the sole basis of its amino acid sequence, is indeed a genuine cyclin-dependent kinase. Our Y2H assays reveal that truncated cyclin M proteins corresponding to the hypothetical products of two STAR syndrome-associated FAM58A mutations do not produce an interaction phenotype with CDK10. Hence, regardless of whether these mutated mRNAs undergo nonsense-mediated decay (as suggested from the decreased cyclin M mRNA levels in STAR cells, shown in Fig. 5B) or give rise to truncated cyclin M proteins, females affected by the STAR syndrome must exhibit compromised CDK10/cyclin M kinase activity at least in some tissues and during specific developmental stages.We show that ETS2, a known interactor of CDK10, is a phosphorylation substrate of CDK10/cyclin M in vitro and that CDK10/cyclin M kinase activity positively controls ETS2 degradation by the proteasome. This control seems to be exerted through a very fine mechanism, as judged from the sensitivity of ETS2 levels to partially decreased CDK10 and cyclin M levels, achieved in MCF7 cells and observed in STAR cells, respectively. These findings offer a straightforward explanation for the already reported up-regulation of ETS2-driven transcription of c-RAF in response to CDK10 silencing (6). We bring evidence that CDK10/cyclin M directly controls ETS2 degradation through the phosphorylation of two neighboring serines, which may form a noncanonical β-TRCP phosphodegron (DSMCPAS) (14). Because none of these two serines precede a proline, they do not conform to usual CDK phosphorylation sites. However, multiple so-called transcriptional CDKs (CDK7, -8, -9, and -11) (to which CDK10 may belong; Fig. S11) have been shown to phosphorylate a variety of motifs in a non–proline-directed fashion, especially in the context of molecular docking with the substrate (20). Here, it can be hypothesized that the high-affinity interaction between CDK10 and the Pointed domain of ETS2 (6, 9) (Fig. 1C) would allow docking-mediated phosphorylation of atypical sites. The control of ETS2 degradation involves a number of players, including APC-Cdh1 (13) and the cullin-RING ligase CRL4 (21). The formal identification of the ubiquitin ligase involved in the CDK10/cyclin M pathway and the elucidation of its concerted action with the other ubiquitin ligases to regulate ETS2 degradation will require further studies.Our results present a number of significant biological and medical implications. First, they shed light on the regulation of ETS2, which plays an important role in development (22) and is frequently deregulated in many cancers (23). Second, our results contribute to the understanding of the molecular mechanisms causing tamoxifen resistance associated with reduced CDK10 expression levels, and they suggest that, like CDK10 (6), cyclin M could also be a predictive clinical marker of hormone therapy response of ERα-positive breast cancer patients. Third, our findings offer an interesting hypothesis on the molecular mechanisms underlying STAR syndrome. Ets2 transgenic mice showing a less than twofold overexpression of Ets2 present severe cranial abnormalities (24), and those observed in STAR patients could thus be caused at least in part by increased ETS2 protein levels. Another expected consequence of enhanced ETS2 expression levels would be a decreased risk to develop certain types of cancers and an increased risk to develop others. Studies on various mouse models (including models of Down syndrome, in which three copies of ETS2 exist) have revealed that ETS2 dosage can repress or promote tumor growth and, hence, that ETS2 exerts noncell autonomous functions in cancer (25). Intringuingly, one of the very few STAR patients identified so far has been diagnosed with a nephroblastoma (26). Finally, our findings will facilitate the general exploration of the biological functions of CDK10 and, in particular, its role in the control of cell division. Previous studies have suggested either a positive role in cell cycle control (5, 6) or a tumor-suppressive activity in some cancers (7, 8). The severe growth retardation exhibited by STAR patients strongly suggests that CDK10/cyclin M plays an important role in the control of cell proliferation.Previous SectionNext SectionMaterials and MethodsCloning of CDK10 and cyclin M cDNAs, plasmid constructions, tamoxifen response analysis, quantitative RT-PCR, mass spectrometry experiments, and antibody production are detailed in SI Materials and Methods.Yeast Two-Hybrid Interaction Assays. We performed yeast interaction mating assays as previously described (27).Mammalian Cell Cultures and Transfections. We grew human HEK293 and MCF7 cells in DMEM supplemented with 10% (vol/vol) FBS (Invitrogen), and we grew lymphoblastoid cells in RPMI 1640 GlutaMAX supplemented with 15% (vol/vol) FBS. We transfected HEK293 and MCF7 cells using Lipofectamine 2000 (Invitrogen) for plasmids, Lipofectamine RNAiMAX (Invitrogen) for siRNAs, and Jetprime (Polyplus) for plasmids/siRNAs combinations according to the manufacturers’ instructions. We transfected lymphoblastoid cells by electroporation (Neon, Invitrogen). For ETS2 stability studies we treated MCF7 cells 32 h after transfection with 10 μM MG132 (Fisher Scientific) for 16 h.Coimmunoprecipitation and Western Blot Experiments. We collected cells by scraping in PBS (or centrifugation for lymphoblastoid cells) and lysed them by sonication in a lysis buffer containing 60 mM β-glycerophosphate, 15 mM p-nitrophenylphosphate, 25 mM 3-(N-morpholino)propanesulfonic acid (Mops) (pH 7.2), 15 mM EGTA, 15 mM MgCl2, 1 mM Na vanadate, 1 mM NaF, 1mM phenylphosphate, 0.1% Nonidet P-40, and a protease inhibitor mixture (Roche). We spun the lysates 15 min at 20,000 × g at 4 °C, collected the supernatants, and determined the protein content using a Bradford assay. We performed the immunoprecipitation experiments on 500 μg of total proteins, in lysis buffer. We precleared the lysates with 20 μL of protein A or G-agarose beads, incubated 1 h 4 °C on a rotating wheel. We added 5 μg of antibody to the supernatants, incubated 1 h 4 °C on a rotating wheel, added 20 μL of protein A or G-agarose beads, and incubated 1 h 4 °C on a rotating wheel. We collected the beads by centrifugation 30 s at 18,000 × g at 4 °C and washed three times in a bead buffer containing 50 mM Tris (pH 7.4), 5 mM NaF, 250 mM NaCl, 5 mM EDTA, 5 mM EGTA, 0.1% Nonidet P-40, and a protease inhibitor coktail (Roche). We directly added sample buffer to the washed pellets, heat-denatured the proteins, and ran the samples on 10% Bis-Tris SDS/PAGE. We transferred the proteins onto Hybond nitrocellulose membranes and processed the blots according to standard procedures. For Western blot experiments, we used the following primary antibodies: anti-Myc (Abcam ab9106, 1:2,000), anti-V5 (Invitrogen R960, 1:5,000), anti-tubulin (Santa Cruz Biotechnology B-7, 1:500), anti-CDK10 (Covalab pab0847p, 1:500 or Santa Cruz Biotechnology C-19, 1:500), anti-CycM (home-made, dilution 1:500 or Covalab pab0882-P, dilution 1:500), anti-Raf1 (Santa Cruz Biotechnology C-20, 1:1,000), anti-ETS2 (Santa Cruz Biotechnology C-20, 1:1,000), anti-Flag (Sigma F7425, 1:1,000), and anti-actin (Sigma A5060, 1:5,000). We used HRP-coupled anti-goat (Santa Cruz Biotechnology SC-2033, dilution 1:2,000), anti-mouse (Bio-Rad 170–6516, dilution 1:3,000) or anti-rabbit (Bio-Rad 172–1019, 1:5,000) as secondary antibodies. We revealed the blots by enhanced chemiluminescence (SuperSignal West Femto, Thermo Scientific).Production and Purification of Recombinant Proteins.GST-CDK10(kd)/StrepII-CycM. We generated recombinant bacmids in DH10Bac Escherichia coli and baculoviruses in Sf9 cells using the Bac-to-Bac system, as described by the provider (Invitrogen). We infected Sf9 cells with GST-CDK10- (or GST-CDK10kd)-producing viruses, or coinfected the cells with StrepII-CycM–producing viruses, and we collected the cells 72 h after infection. To purify GST-fusion proteins, we spun 250 mL cells and resuspended the pellet in 40 mL lysis buffer (PBS, 250 mM NaCl, 0.5% Nonidet P-40, 50 mM NaF, 10 mM β-glycerophosphate, and 0.3 mM Na-vanadate) containing a protease inhibitor mixture (Roche). We lysed the cells by sonication, spun the lysate 30 min at 15,000 × g, collected the soluble fraction, and added it to a 1-mL glutathione-Sepharose matrix. We incubated 1 h at 4 °C, washed four times with lysis buffer, one time with kinase buffer A (see below), and finally resuspended the beads in 100 μL kinase buffer A containing 10% (vol/vol) glycerol for storage.6His-ETS2. We transformed Origami2 DE3 (Novagen) with the 6His-ETS2 expression vector. We induced expression with 0.2 mM isopropyl-β-d-1-thiogalactopyranoside for 3 h at 22 °C. To purify 6His-ETS2, we spun 50 mL cells and resuspended the pellet in 2 mL lysis buffer (PBS, 300 mM NaCl, 10 mM Imidazole, 1 mM DTT, and 0.1% Nonidet P-40) containing a protease inhibitor mixture without EDTA (Roche). We lysed the cells at 1.6 bar using a cell disruptor and spun the lysate 10 min at 20,000 × g. We collected the soluble fraction and added it to 200 μL Cobalt beads (Thermo Scientific). After 1 h incubation at 4 °C on a rotating wheel, we washed four times with lysis buffer. To elute, we incubated beads 30 min with elution buffer (PBS, 250 mM imidazole, pH 7.6) containing the protease inhibitor mixture, spun 30 s at 10,000 × g, and collected the eluted protein.Protein Kinase Assays. We mixed glutathione-Sepharose beads (harboring GST-CDK10 wt or kd, either monomeric or complexed with StrepII-CycM), 22.7 μM BSA, 15 mM DTT, 100 μM ATP, 5 μCi ATP[γ-32P], 7.75 μM histone H1, or 1 μM 6His-ETS2 and added kinase buffer A (25 mM Tris·HCl, 10 mM MgCl2, 1 mM EGTA, 1 mM DTT, and 3.7 μM heparin, pH 7.5) up to a total volume of 30 μL. We incubated the reactions 30 min at 30 °C, added Laemli sample buffer, heat-denatured the samples, and ran 10% Bis-Tris SDS/PAGE. We cut gel slices to detect GST-CDK10 and StrepII-CycM by Western blotting. We stained the gel slices containing the substrate with Coomassie (R-250, Bio-Rad), dried them, and detected the incorporated radioactivity by autoradiography. We identified four unrelated girls with anogenital and renal malformations, dysmorphic facial features, normal intellect and syndactyly of toes. A similar combination of features had been reported previously in a mother–daughter pair1 (Table 1 and Supplementary Note online). These authors noted clinical overlap with Townes-Brocks syndrome but suggested that the phenotype represented a separate autosomal dominant entity (MIM601446). Here we define the cardinal features of this syndrome as a characteristic facial appearance with apparent telecanthus and broad tripartite nasal tip, variable syndactyly of toes 2–5, hypoplastic labia, anal atresia and urogenital malformations (Fig. 1a–h). We also observed a variety of other features (Table 1).  Figure 1: Clinical and molecular characterization of STAR syndrome.  Figure 1 : Clinical and molecular characterization of STAR syndrome. (a–f) Facial appearances of cases 1–3 (apparent telecanthus, dysplastic ears and thin upper lips; a,c,e), and toe syndactyly 2–5, 3–5 or 4–5 (b,d,f) in these cases illustrate recognizable features of STAR syndrome (specific parental consent has been obtained for publication of these photographs). Anal atresia and hypoplastic labia are not shown. (g,h) X-ray films of the feet of case 2 showing only four rays on the left and delta-shaped 4th and 5th metatarsals on the right (h; compare to clinical picture in d). (i) Array-CGH data. Log2 ratio represents copy number loss of six probes spanning between 37.9 and 50.7 kb, with one probe positioned within FAM58A. The deletion does not remove parts of other functional genes. (j) Schematic structure of FAM58A and position of the mutations. FAM58A has five coding exons (boxes). The cyclin domain (green) is encoded by exons 2–4. The horizontal arrow indicates the deletion extending 5' in case 1, which includes exons 1 and 2, whereas the horizontal line below exon 5 indicates the deletion found in case 3, which removes exon 5 and some 3' sequence. The pink horizontal bars above the boxes indicate the amplicons used for qPCR and sequencing (one alternative exon 5 amplicon is not indicated because of space constraints). The mutation 201dupT (case 4) results in an immediate stop codon, and the 555+1G>A and 555-1G>A splice mutations in cases 2, 5 and 6 are predicted to be deleterious because they alter the conserved splice donor and acceptor site of intron 4, respectively.  Full size image (97 KB)  Table 1: Clinical features in STAR syndrome cases  Table 1 - Clinical features in STAR syndrome cases  Full table  On the basis of the phenotypic overlap with Townes-Brocks, Okihiro and Feingold syndromes, we analyzed SALL1 (ref. 2), SALL4 (ref. 3) and MYCN4 but found no mutations in any of these genes (Supplementary Methods online). Next, we carried out genome-wide high-resolution oligonucleotide array comparative genomic hybridization (CGH)5 analysis (Supplementary Methods) of genomic DNA from the most severely affected individual (case 1, with lower lid coloboma, epilepsy and syringomyelia) and identified a heterozygous deletion of 37.9–50.7 kb on Xq28, which removed exons 1 and 2 of FAM58A (Fig. 1i,j). Using real-time PCR, we confirmed the deletion in the child and excluded it in her unaffected parents (Supplementary Fig. 1a online, Supplementary Methods and Supplementary Table 1 online). Through CGH with a customized oligonucleotide array enriched in probes for Xq28, followed by breakpoint cloning, we defined the exact deletion size as 40,068 bp (g.152,514,164_152,554,231del(chromosome X, NCBI Build 36.2); Fig. 1j and Supplementary Figs. 2,3 online). The deletion removes the coding regions of exons 1 and 2 as well as intron 1 (2,774 bp), 492 bp of intron 2, and 36,608 bp of 5' sequence, including the 5' UTR and the entire KRT18P48 pseudogene (NCBI gene ID 340598). Paternity was proven using routine methods. We did not find deletions overlapping FAM58A in the available copy number variation (CNV) databases.  Subsequently, we carried out qPCR analysis of the three other affected individuals (cases 2, 3 and 4) and the mother-daughter pair from the literature (cases 5 and 6). In case 3, we detected a de novo heterozygous deletion of 1.1–10.3 kb overlapping exon 5 (Supplementary Fig. 1b online). Using Xq28-targeted array CGH and breakpoint cloning, we identified a deletion of 4,249 bp (g.152,504,123_152,508,371del(chromosome X, NCBI Build 36.2); Fig. 1j and Supplementary Figs. 2,3), which removed 1,265 bp of intron 4, all of exon 5, including the 3' UTR, and 2,454 bp of 3' sequence.  We found heterozygous FAM58A point mutations in the remaining cases (Fig. 1j, Supplementary Fig. 2, Supplementary Methods and Supplementary Table 1). In case 2, we identified the mutation 555+1G>A, affecting the splice donor site of intron 4. In case 4, we identified the frameshift mutation 201dupT, which immediately results in a premature stop codon N68XfsX1. In cases 5 and 6, we detected the mutation 556-1G>A, which alters the splice acceptor site of intron 4. We validated the point mutations and deletions by independent rounds of PCR and sequencing or by qPCR. We confirmed paternity and de novo status of the point mutations and deletions in all sporadic cases. None of the mutations were seen in the DNA of 60 unaffected female controls, and no larger deletions involving FAM58A were found in 93 unrelated array-CGH investigations.  By analyzing X-chromosome inactivation (Supplementary Methods and Supplementary Fig. 4 online), we found complete skewing of X inactivation in cases 1 and 3–6 and almost complete skewing in case 2, suggesting that cells carrying the mutation on the active X chromosome have a growth disadvantage during fetal development. Using RT-PCR on RNA from lymphoblastoid cells of case 2 (Supplementary Fig. 2), we did not find any aberrant splice products as additional evidence that the mutated allele is inactivated. Furthermore, FAM58A is subjected to X inactivation6. In cases 1 and 3, the parental origin of the deletions could not be determined, as a result of lack of informative SNPs. Case 5, the mother of case 6, gave birth to two boys, both clinically unaffected (samples not available). We cannot exclude that the condition is lethal in males. No fetal losses were reported from any of the families.  The function of FAM58A is unknown. The gene consists of five coding exons, and the 642-bp coding region encodes a protein of 214 amino acids. GenBank lists a mRNA length of 1,257 bp for the reference sequence (NM_152274.2). Expression of the gene (by EST data) was found in 27 of 48 adult tissues including kidney, colon, cervix and uterus, but not heart (NCBI expression viewer, UniGene Hs.496943). Expression was also noted in 24 of 26 listed tumor tissues as well as in embryo and fetus. Genes homologous to FAM58A (NCBI HomoloGene: 13362) are found on the X chromosome in the chimpanzee and the dog. The zebrafish has a similar gene on chromosome 23. However, in the mouse and rat, there are no true homologs. These species have similar but intronless genes on chromosomes 11 (mouse) and 10 (rat), most likely arising from a retrotransposon insertion event. On the murine X chromosome, the flanking genes Atp2b3 and Dusp9 are conserved, but only remnants of the FAM58A sequence can be detected.  FAM58A contains a cyclin-box-fold domain, a protein-binding domain found in cyclins with a role in cell cycle and transcription control. No human phenotype resulting from a cyclin gene mutation has yet been reported. Homozygous knockout mice for Ccnd1 (encoding cyclin D1) are viable but small and have reduced lifespan. They also have dystrophic changes of the retina, likely as a result of decreased cell proliferation and degeneration of photoreceptor cells during embryogenesis7, 8.  Cyclin D1 colocalizes with SALL4 in the nucleus, and both proteins cooperatively mediate transcriptional repression9. As the phenotype of our cases overlaps considerably with that of Townes-Brocks syndrome caused by SALL1 mutations1, we carried out co-immunoprecipitation to find out if SALL1 or SALL4 would interact with FAM58A in a manner similar to that observed for SALL4 and cyclin D1. We found that FAM58A interacts with SALL1 but not with SALL4 (Supplementary Fig. 5 online), supporting the hypothesis that FAM58A and SALL1 participate in the same developmental pathway.  How do FAM58A mutations lead to STAR syndrome? Growth retardation (all cases; Table 1) and retinal abnormalities (three cases) are reminiscent of the reduced body size and retinal anomalies in cyclin D1 knockout mice7, 8. Therefore, a proliferation defect might be partly responsible for STAR syndrome. To address this question, we carried out a knockdown of FAM58A mRNA followed by a proliferation assay. Transfection of HEK293 cells with three different FAM58A-specific RNAi oligonucleotides resulted in a significant reduction of both FAM58A mRNA expression and proliferation of transfected cells (Supplementary Methods and Supplementary Fig. 6 online), supporting the link between FAM58A and cell proliferation.  We found that loss-of-function mutations of FAM58A result in a rather homogeneous clinical phenotype. The additional anomalies in case 1 are likely to result from an effect of the 40-kb deletion on expression of a neighboring gene, possibly ATP2B3 or DUSP9. However, we cannot exclude that the homogeneous phenotype results from an ascertainment bias and that FAM58A mutations, including missense changes, could result in a broader spectrum of malformations. The genes causing the overlapping phenotypes of STAR syndrome and Townes-Brocks syndrome seem to act in the same pathway. Of note, MYCN, a gene mutated in Feingold syndrome, is a direct regulator of cyclin D2 (refs. 10,11); thus, it is worth exploring whether the phenotypic similarities between Feingold and STAR syndrome might be explained by direct regulation of FAM58A by MYCN.  FAM58A is located approximately 0.56 Mb centromeric to MECP2 on Xq28. Duplications overlapping both MECP2 and FAM58A have been described and are not associated with a clinical phenotype in females12, but no deletions overlapping both MECP2 and FAM58A have been observed to date13. Although other genes between FAM58A and MECP2 have been implicated in brain development, FAM58A and MECP2 are the only genes in this region known to result in X-linked dominant phenotypes; thus, deletion of both genes on the same allele might be lethal in both males and females. \n",
      "\n"
     ]
    }
   ],
   "source": [
    "counter = 0\n",
    "with open(\"training_text\",encoding=\"utf8\") as infile:\n",
    "    while True:\n",
    "        counter += 1\n",
    "        line = infile.readline()\n",
    "        print(line)\n",
    "        if counter==2:\n",
    "            break"
   ]
  },
  {
   "cell_type": "markdown",
   "id": "6f1153a5",
   "metadata": {},
   "source": [
    "<h4>Predicting the class of the mutation given the content in the literature is the main task at hand. Then, we'll try different NLP methods to turn the free text into features for an ML classifier to evaluate which ones perform the best.</h4>"
   ]
  },
  {
   "cell_type": "code",
   "execution_count": 7,
   "id": "bdf61157",
   "metadata": {
    "scrolled": true
   },
   "outputs": [],
   "source": [
    "# loading stop words from nltk library\n",
    "    \n",
    "def preprocessing_text(text):\n",
    "    PUNCT_TO_REMOVE = string.punctuation\n",
    "    STOPWORDS = set(stopwords.words('english'))\n",
    "    \n",
    "   # Convert text to lowercase\n",
    "    text = text.lower()\n",
    "    \n",
    "    #Remove punctuation characters, we don't need them\n",
    "    text = text.translate(str.maketrans('', '', PUNCT_TO_REMOVE))\n",
    "    \n",
    "   #Remove stopwords\n",
    "    text = \" \".join([word for word in str(text).split() if word not in STOPWORDS])\n",
    "    # replace every special char with space\n",
    "    text = re.sub('[^a-zA-Z0-9\\n]', ' ', text)\n",
    "    # replace multiple spaces with single space\n",
    "    text = re.sub('\\s+',' ', text)\n",
    "    \n",
    "    \n",
    "    #Remove rare words\n",
    "    cnt = Counter()\n",
    "    n_rare_words = 10\n",
    "    RAREWORDS = set([w for (w, wc) in cnt.most_common()[:-n_rare_words-1:-1]])\n",
    "    text = \" \".join([word for word in str(text).split() if word not in RAREWORDS])\n",
    "    \n",
    "    #Stemming - convert words to base form\n",
    "\n",
    "    #stemmer = PorterStemmer()\n",
    "    #text = \" \".join([stemmer.stem(word) for word in text.split()])\n",
    "    \n",
    "    #Lemmatization - similar to stemming, but guaranteeing that the word belongs to this language is slower\n",
    "    #lemmatizer = WordNetLemmatizer()\n",
    "    return text"
   ]
  },
  {
   "cell_type": "code",
   "execution_count": 8,
   "id": "23fc5988",
   "metadata": {
    "scrolled": true
   },
   "outputs": [
    {
     "name": "stdout",
     "output_type": "stream",
     "text": [
      "Id that doesn't have a text description.: 1109\n",
      "Id that doesn't have a text description.: 1277\n",
      "Id that doesn't have a text description.: 1407\n",
      "Id that doesn't have a text description.: 1639\n",
      "Id that doesn't have a text description.: 2755\n",
      "Duration of text preprocessing : 67.171875 seconds\n"
     ]
    }
   ],
   "source": [
    "#data_text['clean_text']=data_text.TEXT.apply(lambda x: preprocessing_text(x))\n",
    "start_time = time.process_time()\n",
    "for ind, row in data_text.iterrows():\n",
    "    if type(row['TEXT']) is str:\n",
    "        preprocessing_text(row['TEXT'])\n",
    "    else:\n",
    "        print(\"Id that doesn't have a text description.:\",ind)\n",
    "        \n",
    "        \n",
    "print('Duration of text preprocessing :',time.process_time() - start_time, \"seconds\")"
   ]
  },
  {
   "cell_type": "code",
   "execution_count": 9,
   "id": "4f73322f",
   "metadata": {
    "scrolled": true
   },
   "outputs": [
    {
     "data": {
      "text/plain": [
       "'cyclindependent kinases cdks regulate variety fundamental cellular processes cdk10 stands one last o'"
      ]
     },
     "execution_count": 9,
     "metadata": {},
     "output_type": "execute_result"
    }
   ],
   "source": [
    "preprocessing_text(data_text.TEXT[0])[:100]"
   ]
  },
  {
   "cell_type": "code",
   "execution_count": 10,
   "id": "0cceb520",
   "metadata": {
    "scrolled": true
   },
   "outputs": [
    {
     "data": {
      "text/html": [
       "<div>\n",
       "<style scoped>\n",
       "    .dataframe tbody tr th:only-of-type {\n",
       "        vertical-align: middle;\n",
       "    }\n",
       "\n",
       "    .dataframe tbody tr th {\n",
       "        vertical-align: top;\n",
       "    }\n",
       "\n",
       "    .dataframe thead th {\n",
       "        text-align: right;\n",
       "    }\n",
       "</style>\n",
       "<table border=\"1\" class=\"dataframe\">\n",
       "  <thead>\n",
       "    <tr style=\"text-align: right;\">\n",
       "      <th></th>\n",
       "      <th>ID</th>\n",
       "      <th>Gene</th>\n",
       "      <th>Variation</th>\n",
       "      <th>Class</th>\n",
       "      <th>TEXT</th>\n",
       "    </tr>\n",
       "  </thead>\n",
       "  <tbody>\n",
       "    <tr>\n",
       "      <th>0</th>\n",
       "      <td>0</td>\n",
       "      <td>FAM58A</td>\n",
       "      <td>Truncating Mutations</td>\n",
       "      <td>1</td>\n",
       "      <td>Cyclin-dependent kinases (CDKs) regulate a var...</td>\n",
       "    </tr>\n",
       "    <tr>\n",
       "      <th>1</th>\n",
       "      <td>1</td>\n",
       "      <td>CBL</td>\n",
       "      <td>W802*</td>\n",
       "      <td>2</td>\n",
       "      <td>Abstract Background  Non-small cell lung canc...</td>\n",
       "    </tr>\n",
       "    <tr>\n",
       "      <th>2</th>\n",
       "      <td>2</td>\n",
       "      <td>CBL</td>\n",
       "      <td>Q249E</td>\n",
       "      <td>2</td>\n",
       "      <td>Abstract Background  Non-small cell lung canc...</td>\n",
       "    </tr>\n",
       "    <tr>\n",
       "      <th>3</th>\n",
       "      <td>3</td>\n",
       "      <td>CBL</td>\n",
       "      <td>N454D</td>\n",
       "      <td>3</td>\n",
       "      <td>Recent evidence has demonstrated that acquired...</td>\n",
       "    </tr>\n",
       "    <tr>\n",
       "      <th>4</th>\n",
       "      <td>4</td>\n",
       "      <td>CBL</td>\n",
       "      <td>L399V</td>\n",
       "      <td>4</td>\n",
       "      <td>Oncogenic mutations in the monomeric Casitas B...</td>\n",
       "    </tr>\n",
       "  </tbody>\n",
       "</table>\n",
       "</div>"
      ],
      "text/plain": [
       "   ID    Gene             Variation  Class  \\\n",
       "0   0  FAM58A  Truncating Mutations      1   \n",
       "1   1     CBL                 W802*      2   \n",
       "2   2     CBL                 Q249E      2   \n",
       "3   3     CBL                 N454D      3   \n",
       "4   4     CBL                 L399V      4   \n",
       "\n",
       "                                                TEXT  \n",
       "0  Cyclin-dependent kinases (CDKs) regulate a var...  \n",
       "1   Abstract Background  Non-small cell lung canc...  \n",
       "2   Abstract Background  Non-small cell lung canc...  \n",
       "3  Recent evidence has demonstrated that acquired...  \n",
       "4  Oncogenic mutations in the monomeric Casitas B...  "
      ]
     },
     "execution_count": 10,
     "metadata": {},
     "output_type": "execute_result"
    }
   ],
   "source": [
    "df_train = pd.merge(data_variant, data_text, how = 'left', on = 'ID').fillna('')\n",
    "df_train.head()"
   ]
  },
  {
   "cell_type": "code",
   "execution_count": 11,
   "id": "586f83fd",
   "metadata": {
    "scrolled": true
   },
   "outputs": [
    {
     "data": {
      "text/plain": [
       "(3321, 5)"
      ]
     },
     "execution_count": 11,
     "metadata": {},
     "output_type": "execute_result"
    }
   ],
   "source": [
    "df_train.shape"
   ]
  },
  {
   "cell_type": "code",
   "execution_count": 12,
   "id": "a6bad130",
   "metadata": {
    "scrolled": true
   },
   "outputs": [
    {
     "name": "stdout",
     "output_type": "stream",
     "text": [
      "<class 'pandas.core.frame.DataFrame'>\n",
      "Int64Index: 3321 entries, 0 to 3320\n",
      "Data columns (total 5 columns):\n",
      " #   Column     Non-Null Count  Dtype \n",
      "---  ------     --------------  ----- \n",
      " 0   ID         3321 non-null   int32 \n",
      " 1   Gene       3321 non-null   object\n",
      " 2   Variation  3321 non-null   object\n",
      " 3   Class      3321 non-null   int32 \n",
      " 4   TEXT       3321 non-null   object\n",
      "dtypes: int32(2), object(3)\n",
      "memory usage: 129.7+ KB\n"
     ]
    }
   ],
   "source": [
    "#Full Information Of Dataset\n",
    "float_cols = df_train.select_dtypes('float64').columns\n",
    "for c in float_cols:\n",
    "    df_train[c] = df_train[c].astype('float32')\n",
    "    \n",
    "int_cols = df_train.select_dtypes('int64').columns\n",
    "for c in int_cols:\n",
    "    df_train[c] = df_train[c].astype('int32')\n",
    "    \n",
    "df_train.info()"
   ]
  },
  {
   "cell_type": "code",
   "execution_count": 13,
   "id": "3f7906a8",
   "metadata": {
    "scrolled": true
   },
   "outputs": [
    {
     "name": "stdout",
     "output_type": "stream",
     "text": [
      "CPU times: total: 1min 4s\n",
      "Wall time: 1min 5s\n"
     ]
    }
   ],
   "source": [
    "%%time\n",
    "df_train['clean_text'] = df_train.TEXT.apply(lambda x: preprocessing_text(x))"
   ]
  },
  {
   "cell_type": "code",
   "execution_count": 14,
   "id": "03ae2ec2",
   "metadata": {
    "scrolled": true
   },
   "outputs": [],
   "source": [
    "### Function for counting a word in a text, can be used as an additional feature generation\n",
    "\n",
    "def count_words(TEXT, Gene_Var):\n",
    "    wordlist = TEXT.split(' ')\n",
    "    cnt = 0\n",
    "    for s in wordlist:\n",
    "        if (Gene_Var==s):\n",
    "            cnt+=1\n",
    "    return cnt"
   ]
  },
  {
   "cell_type": "code",
   "execution_count": 15,
   "id": "aac116d8",
   "metadata": {
    "scrolled": true
   },
   "outputs": [],
   "source": [
    "#replacing Null values\n",
    "df_train.loc[df_train['TEXT'].isnull(),'TEXT'] = df_train['Gene'] +' '+df_train['Variation']"
   ]
  },
  {
   "cell_type": "code",
   "execution_count": 16,
   "id": "6bde5b4d",
   "metadata": {
    "scrolled": true
   },
   "outputs": [
    {
     "data": {
      "text/html": [
       "<div>\n",
       "<style scoped>\n",
       "    .dataframe tbody tr th:only-of-type {\n",
       "        vertical-align: middle;\n",
       "    }\n",
       "\n",
       "    .dataframe tbody tr th {\n",
       "        vertical-align: top;\n",
       "    }\n",
       "\n",
       "    .dataframe thead th {\n",
       "        text-align: right;\n",
       "    }\n",
       "</style>\n",
       "<table border=\"1\" class=\"dataframe\">\n",
       "  <thead>\n",
       "    <tr style=\"text-align: right;\">\n",
       "      <th></th>\n",
       "      <th>ID</th>\n",
       "      <th>Gene</th>\n",
       "      <th>Variation</th>\n",
       "      <th>Class</th>\n",
       "      <th>TEXT</th>\n",
       "      <th>clean_text</th>\n",
       "    </tr>\n",
       "  </thead>\n",
       "  <tbody>\n",
       "  </tbody>\n",
       "</table>\n",
       "</div>"
      ],
      "text/plain": [
       "Empty DataFrame\n",
       "Columns: [ID, Gene, Variation, Class, TEXT, clean_text]\n",
       "Index: []"
      ]
     },
     "execution_count": 16,
     "metadata": {},
     "output_type": "execute_result"
    }
   ],
   "source": [
    "#again checking for null values\n",
    "df_train[df_train.isnull().any(axis=1)]"
   ]
  },
  {
   "cell_type": "markdown",
   "id": "de467f40",
   "metadata": {},
   "source": [
    "##### We want to ensure that all spaces in Gene and Variation column to be replaced by _."
   ]
  },
  {
   "cell_type": "code",
   "execution_count": 17,
   "id": "41c42656",
   "metadata": {
    "scrolled": true
   },
   "outputs": [
    {
     "data": {
      "text/html": [
       "<div>\n",
       "<style scoped>\n",
       "    .dataframe tbody tr th:only-of-type {\n",
       "        vertical-align: middle;\n",
       "    }\n",
       "\n",
       "    .dataframe tbody tr th {\n",
       "        vertical-align: top;\n",
       "    }\n",
       "\n",
       "    .dataframe thead th {\n",
       "        text-align: right;\n",
       "    }\n",
       "</style>\n",
       "<table border=\"1\" class=\"dataframe\">\n",
       "  <thead>\n",
       "    <tr style=\"text-align: right;\">\n",
       "      <th></th>\n",
       "      <th>ID</th>\n",
       "      <th>Gene</th>\n",
       "      <th>Variation</th>\n",
       "      <th>Class</th>\n",
       "      <th>clean_text</th>\n",
       "    </tr>\n",
       "  </thead>\n",
       "  <tbody>\n",
       "    <tr>\n",
       "      <th>607</th>\n",
       "      <td>607</td>\n",
       "      <td>SMAD4</td>\n",
       "      <td>D357Y</td>\n",
       "      <td>4</td>\n",
       "      <td>introduction transforming growth factor tgf pl...</td>\n",
       "    </tr>\n",
       "    <tr>\n",
       "      <th>2068</th>\n",
       "      <td>2068</td>\n",
       "      <td>TET2</td>\n",
       "      <td>D1384V</td>\n",
       "      <td>6</td>\n",
       "      <td>tet proteins oxidize 5methylcytosine 5mc dna p...</td>\n",
       "    </tr>\n",
       "    <tr>\n",
       "      <th>653</th>\n",
       "      <td>653</td>\n",
       "      <td>CDKN2A</td>\n",
       "      <td>T77P</td>\n",
       "      <td>4</td>\n",
       "      <td>abstract germline mutations cdkn2a gene found ...</td>\n",
       "    </tr>\n",
       "    <tr>\n",
       "      <th>2023</th>\n",
       "      <td>2023</td>\n",
       "      <td>MAP2K1</td>\n",
       "      <td>E203K</td>\n",
       "      <td>7</td>\n",
       "      <td>mapkerk pathway ras raf mek erk pathway one ex...</td>\n",
       "    </tr>\n",
       "    <tr>\n",
       "      <th>313</th>\n",
       "      <td>313</td>\n",
       "      <td>ELF3</td>\n",
       "      <td>Truncating Mutations</td>\n",
       "      <td>1</td>\n",
       "      <td>previous studies shown promoter type ii tgf re...</td>\n",
       "    </tr>\n",
       "    <tr>\n",
       "      <th>3175</th>\n",
       "      <td>3175</td>\n",
       "      <td>RAB35</td>\n",
       "      <td>A151T</td>\n",
       "      <td>7</td>\n",
       "      <td>shrna screen genes affect akt phosphorylation ...</td>\n",
       "    </tr>\n",
       "    <tr>\n",
       "      <th>645</th>\n",
       "      <td>645</td>\n",
       "      <td>CDKN2A</td>\n",
       "      <td>G67R</td>\n",
       "      <td>4</td>\n",
       "      <td>inherited mutations affecting ink4aarf locus c...</td>\n",
       "    </tr>\n",
       "    <tr>\n",
       "      <th>2657</th>\n",
       "      <td>2657</td>\n",
       "      <td>BRCA1</td>\n",
       "      <td>S1715N</td>\n",
       "      <td>4</td>\n",
       "      <td>abstract brca1 gene individuals risk breast ov...</td>\n",
       "    </tr>\n",
       "    <tr>\n",
       "      <th>3015</th>\n",
       "      <td>3015</td>\n",
       "      <td>KIT</td>\n",
       "      <td>N564_Y578del</td>\n",
       "      <td>2</td>\n",
       "      <td>57yearold man gastrointestinal stromal tumor g...</td>\n",
       "    </tr>\n",
       "    <tr>\n",
       "      <th>651</th>\n",
       "      <td>651</td>\n",
       "      <td>CDKN2A</td>\n",
       "      <td>D84H</td>\n",
       "      <td>4</td>\n",
       "      <td>abstract tumor suppressor p16ink4a eight nterm...</td>\n",
       "    </tr>\n",
       "  </tbody>\n",
       "</table>\n",
       "</div>"
      ],
      "text/plain": [
       "        ID    Gene             Variation  Class  \\\n",
       "607    607   SMAD4                 D357Y      4   \n",
       "2068  2068    TET2                D1384V      6   \n",
       "653    653  CDKN2A                  T77P      4   \n",
       "2023  2023  MAP2K1                 E203K      7   \n",
       "313    313    ELF3  Truncating Mutations      1   \n",
       "3175  3175   RAB35                 A151T      7   \n",
       "645    645  CDKN2A                  G67R      4   \n",
       "2657  2657   BRCA1                S1715N      4   \n",
       "3015  3015     KIT          N564_Y578del      2   \n",
       "651    651  CDKN2A                  D84H      4   \n",
       "\n",
       "                                             clean_text  \n",
       "607   introduction transforming growth factor tgf pl...  \n",
       "2068  tet proteins oxidize 5methylcytosine 5mc dna p...  \n",
       "653   abstract germline mutations cdkn2a gene found ...  \n",
       "2023  mapkerk pathway ras raf mek erk pathway one ex...  \n",
       "313   previous studies shown promoter type ii tgf re...  \n",
       "3175  shrna screen genes affect akt phosphorylation ...  \n",
       "645   inherited mutations affecting ink4aarf locus c...  \n",
       "2657  abstract brca1 gene individuals risk breast ov...  \n",
       "3015  57yearold man gastrointestinal stromal tumor g...  \n",
       "651   abstract tumor suppressor p16ink4a eight nterm...  "
      ]
     },
     "execution_count": 17,
     "metadata": {},
     "output_type": "execute_result"
    }
   ],
   "source": [
    "final_df =df_train.drop(['TEXT'], axis=1)\n",
    "final_df.sample(10)"
   ]
  },
  {
   "cell_type": "code",
   "execution_count": 18,
   "id": "22ba21ea",
   "metadata": {
    "scrolled": true
   },
   "outputs": [
    {
     "name": "stderr",
     "output_type": "stream",
     "text": [
      "C:\\Users\\reetu raj harsh\\AppData\\Local\\Temp\\ipykernel_8304\\2083544810.py:2: FutureWarning: The default value of regex will change from True to False in a future version.\n",
      "  final_df.Gene      = final_df.Gene.str.replace('\\s+', '_')\n",
      "C:\\Users\\reetu raj harsh\\AppData\\Local\\Temp\\ipykernel_8304\\2083544810.py:3: FutureWarning: The default value of regex will change from True to False in a future version.\n",
      "  final_df.Variation = final_df.Variation.str.replace('\\s+', '_')\n"
     ]
    }
   ],
   "source": [
    "y_true = final_df['Class'].values\n",
    "final_df.Gene      = final_df.Gene.str.replace('\\s+', '_')\n",
    "final_df.Variation = final_df.Variation.str.replace('\\s+', '_')"
   ]
  },
  {
   "cell_type": "code",
   "execution_count": 19,
   "id": "4b6989f3",
   "metadata": {
    "scrolled": false
   },
   "outputs": [
    {
     "data": {
      "text/html": [
       "<div>\n",
       "<style scoped>\n",
       "    .dataframe tbody tr th:only-of-type {\n",
       "        vertical-align: middle;\n",
       "    }\n",
       "\n",
       "    .dataframe tbody tr th {\n",
       "        vertical-align: top;\n",
       "    }\n",
       "\n",
       "    .dataframe thead th {\n",
       "        text-align: right;\n",
       "    }\n",
       "</style>\n",
       "<table border=\"1\" class=\"dataframe\">\n",
       "  <thead>\n",
       "    <tr style=\"text-align: right;\">\n",
       "      <th></th>\n",
       "      <th>ID</th>\n",
       "      <th>Gene</th>\n",
       "      <th>Variation</th>\n",
       "      <th>Class</th>\n",
       "      <th>clean_text</th>\n",
       "    </tr>\n",
       "  </thead>\n",
       "  <tbody>\n",
       "    <tr>\n",
       "      <th>0</th>\n",
       "      <td>0</td>\n",
       "      <td>FAM58A</td>\n",
       "      <td>Truncating_Mutations</td>\n",
       "      <td>1</td>\n",
       "      <td>cyclindependent kinases cdks regulate variety ...</td>\n",
       "    </tr>\n",
       "    <tr>\n",
       "      <th>1</th>\n",
       "      <td>1</td>\n",
       "      <td>CBL</td>\n",
       "      <td>W802*</td>\n",
       "      <td>2</td>\n",
       "      <td>abstract background nonsmall cell lung cancer ...</td>\n",
       "    </tr>\n",
       "    <tr>\n",
       "      <th>2</th>\n",
       "      <td>2</td>\n",
       "      <td>CBL</td>\n",
       "      <td>Q249E</td>\n",
       "      <td>2</td>\n",
       "      <td>abstract background nonsmall cell lung cancer ...</td>\n",
       "    </tr>\n",
       "    <tr>\n",
       "      <th>3</th>\n",
       "      <td>3</td>\n",
       "      <td>CBL</td>\n",
       "      <td>N454D</td>\n",
       "      <td>3</td>\n",
       "      <td>recent evidence demonstrated acquired uniparen...</td>\n",
       "    </tr>\n",
       "    <tr>\n",
       "      <th>4</th>\n",
       "      <td>4</td>\n",
       "      <td>CBL</td>\n",
       "      <td>L399V</td>\n",
       "      <td>4</td>\n",
       "      <td>oncogenic mutations monomeric casitas blineage...</td>\n",
       "    </tr>\n",
       "  </tbody>\n",
       "</table>\n",
       "</div>"
      ],
      "text/plain": [
       "   ID    Gene             Variation  Class  \\\n",
       "0   0  FAM58A  Truncating_Mutations      1   \n",
       "1   1     CBL                 W802*      2   \n",
       "2   2     CBL                 Q249E      2   \n",
       "3   3     CBL                 N454D      3   \n",
       "4   4     CBL                 L399V      4   \n",
       "\n",
       "                                          clean_text  \n",
       "0  cyclindependent kinases cdks regulate variety ...  \n",
       "1  abstract background nonsmall cell lung cancer ...  \n",
       "2  abstract background nonsmall cell lung cancer ...  \n",
       "3  recent evidence demonstrated acquired uniparen...  \n",
       "4  oncogenic mutations monomeric casitas blineage...  "
      ]
     },
     "execution_count": 19,
     "metadata": {},
     "output_type": "execute_result"
    }
   ],
   "source": [
    "final_df.head()"
   ]
  },
  {
   "cell_type": "markdown",
   "id": "17b287d0",
   "metadata": {},
   "source": [
    "#### Splitting data into train, test and cross validation (64:20:16)"
   ]
  },
  {
   "cell_type": "code",
   "execution_count": 20,
   "id": "2303f2b4",
   "metadata": {
    "scrolled": true
   },
   "outputs": [],
   "source": [
    "from sklearn.model_selection import GridSearchCV, train_test_split, ShuffleSplit, KFold\n",
    "\n",
    "# split the data into test and train by maintaining same distribution of output varaible 'y_true' [stratify=y_true]\n",
    "X_train, test_df, y_train, y_test = train_test_split(df_train, y_true, stratify=y_true, test_size=0.2)\n",
    "\n",
    "# split the train data into train and cross validation by maintaining same distribution of output varaible 'y_train' [stratify=y_train]\n",
    "train_df, cv_df, y_train, y_cv = train_test_split(X_train, y_train, stratify=y_train, test_size=0.2)"
   ]
  },
  {
   "cell_type": "code",
   "execution_count": 21,
   "id": "af4ff736",
   "metadata": {
    "scrolled": true
   },
   "outputs": [
    {
     "data": {
      "text/plain": [
       "(2124, 6)"
      ]
     },
     "execution_count": 21,
     "metadata": {},
     "output_type": "execute_result"
    }
   ],
   "source": [
    "train_df.shape"
   ]
  },
  {
   "cell_type": "code",
   "execution_count": 22,
   "id": "dfacf636",
   "metadata": {
    "scrolled": true
   },
   "outputs": [
    {
     "data": {
      "text/plain": [
       "(665, 6)"
      ]
     },
     "execution_count": 22,
     "metadata": {},
     "output_type": "execute_result"
    }
   ],
   "source": [
    "test_df.shape"
   ]
  },
  {
   "cell_type": "code",
   "execution_count": 23,
   "id": "cb2e2ea2",
   "metadata": {
    "scrolled": true
   },
   "outputs": [
    {
     "data": {
      "text/plain": [
       "(532, 6)"
      ]
     },
     "execution_count": 23,
     "metadata": {},
     "output_type": "execute_result"
    }
   ],
   "source": [
    "cv_df.shape"
   ]
  },
  {
   "cell_type": "markdown",
   "id": "5e8a1d35",
   "metadata": {},
   "source": [
    "## 3.2 Distribution of class in diffrent dataset"
   ]
  },
  {
   "cell_type": "code",
   "execution_count": 24,
   "id": "4d7f12b9",
   "metadata": {
    "scrolled": true
   },
   "outputs": [
    {
     "data": {
      "image/png": "[encoded data removed]",
      "text/plain": [
       "<Figure size 576x360 with 1 Axes>"
      ]
     },
     "metadata": {
      "needs_background": "light"
     },
     "output_type": "display_data"
    }
   ],
   "source": [
    "train_class_distribution = train_df['Class'].value_counts().sort_index()\n",
    "plt.figure(figsize=(8,5))\n",
    "sns.countplot(x=\"Class\", data=train_df)\n",
    "plt.ylabel('Frequency', fontsize=12)\n",
    "plt.xlabel('Class Count', fontsize=12)\n",
    "plt.xticks(rotation='vertical')\n",
    "plt.title(\"Train Class Distribution\", fontsize=15)\n",
    "plt.show()"
   ]
  },
  {
   "cell_type": "code",
   "execution_count": 25,
   "id": "23a56355",
   "metadata": {
    "scrolled": false
   },
   "outputs": [
    {
     "name": "stdout",
     "output_type": "stream",
     "text": [
      "Number of data points in class 7 : 609 ( 28.672 %)\n",
      "Number of data points in class 4 : 439 ( 20.669 %)\n",
      "Number of data points in class 1 : 363 ( 17.09 %)\n",
      "Number of data points in class 2 : 289 ( 13.606 %)\n",
      "Number of data points in class 6 : 176 ( 8.286 %)\n",
      "Number of data points in class 5 : 155 ( 7.298 %)\n",
      "Number of data points in class 3 : 57 ( 2.684 %)\n",
      "Number of data points in class 9 : 24 ( 1.13 %)\n",
      "Number of data points in class 8 : 12 ( 0.565 %)\n"
     ]
    }
   ],
   "source": [
    "sorted_train = np.argsort(-train_class_distribution.values)\n",
    "for i in sorted_train:\n",
    "    print('Number of data points in class', i+1, ':',train_class_distribution.values[i],\n",
    "          '(', np.round((train_class_distribution.values[i]/train_df.shape[0]*100), 3), '%)')"
   ]
  },
  {
   "cell_type": "code",
   "execution_count": 26,
   "id": "747f8ec7",
   "metadata": {
    "scrolled": true
   },
   "outputs": [
    {
     "data": {
      "image/png": "[encoded data removed]",
      "text/plain": [
       "<Figure size 576x360 with 1 Axes>"
      ]
     },
     "metadata": {
      "needs_background": "light"
     },
     "output_type": "display_data"
    }
   ],
   "source": [
    "test_class_distribution = test_df['Class'].value_counts().sort_index()\n",
    "plt.figure(figsize=(8,5))\n",
    "sns.countplot(x=\"Class\", data=test_df)\n",
    "plt.ylabel('Frequency', fontsize=12)\n",
    "plt.xlabel('Class Count', fontsize=12)\n",
    "plt.xticks(rotation='vertical')\n",
    "plt.title(\"Test Class Distribution\", fontsize=15)\n",
    "plt.show()"
   ]
  },
  {
   "cell_type": "code",
   "execution_count": 27,
   "id": "cbd75dd5",
   "metadata": {
    "scrolled": true
   },
   "outputs": [
    {
     "name": "stdout",
     "output_type": "stream",
     "text": [
      "Number of data points in class 7 : 191 ( 28.722 %)\n",
      "Number of data points in class 4 : 137 ( 20.602 %)\n",
      "Number of data points in class 1 : 114 ( 17.143 %)\n",
      "Number of data points in class 2 : 91 ( 13.684 %)\n",
      "Number of data points in class 6 : 55 ( 8.271 %)\n",
      "Number of data points in class 5 : 48 ( 7.218 %)\n",
      "Number of data points in class 3 : 18 ( 2.707 %)\n",
      "Number of data points in class 9 : 7 ( 1.053 %)\n",
      "Number of data points in class 8 : 4 ( 0.602 %)\n"
     ]
    }
   ],
   "source": [
    "sorted_test = np.argsort(-test_class_distribution.values)\n",
    "for i in sorted_test:\n",
    "    print('Number of data points in class', i+1, ':',test_class_distribution.values[i],\n",
    "          '(', np.round((test_class_distribution.values[i]/test_df.shape[0]*100), 3), '%)')"
   ]
  },
  {
   "cell_type": "code",
   "execution_count": 28,
   "id": "9676f2de",
   "metadata": {
    "scrolled": true
   },
   "outputs": [
    {
     "data": {
      "image/png": "[encoded data removed]",
      "text/plain": [
       "<Figure size 576x360 with 1 Axes>"
      ]
     },
     "metadata": {
      "needs_background": "light"
     },
     "output_type": "display_data"
    }
   ],
   "source": [
    "cv_class_distribution = cv_df['Class'].value_counts().sort_index()\n",
    "plt.figure(figsize=(8,5))\n",
    "sns.countplot(x=\"Class\", data=test_df)\n",
    "plt.ylabel('Frequency', fontsize=12)\n",
    "plt.xlabel('Class Count', fontsize=12)\n",
    "plt.xticks(rotation='vertical')\n",
    "plt.title(\"Cross validation Class Distribution\", fontsize=15)\n",
    "plt.show()"
   ]
  },
  {
   "cell_type": "code",
   "execution_count": 29,
   "id": "f4d9de2a",
   "metadata": {
    "scrolled": true
   },
   "outputs": [
    {
     "name": "stdout",
     "output_type": "stream",
     "text": [
      "Number of data points in class 7 : 153 ( 28.759 %)\n",
      "Number of data points in class 4 : 110 ( 20.677 %)\n",
      "Number of data points in class 1 : 91 ( 17.105 %)\n",
      "Number of data points in class 2 : 72 ( 13.534 %)\n",
      "Number of data points in class 6 : 44 ( 8.271 %)\n",
      "Number of data points in class 5 : 39 ( 7.331 %)\n",
      "Number of data points in class 3 : 14 ( 2.632 %)\n",
      "Number of data points in class 9 : 6 ( 1.128 %)\n",
      "Number of data points in class 8 : 3 ( 0.564 %)\n"
     ]
    }
   ],
   "source": [
    "sorted_cv = np.argsort(-train_class_distribution.values)\n",
    "for i in sorted_cv:\n",
    "    print('Number of data points in class', i+1, ':',cv_class_distribution.values[i],\n",
    "          '(', np.round((cv_class_distribution.values[i]/cv_df.shape[0]*100), 3), '%)')"
   ]
  },
  {
   "cell_type": "markdown",
   "id": "f7aa7745",
   "metadata": {},
   "source": [
    "### 4. Random Model Generation"
   ]
  },
  {
   "cell_type": "markdown",
   "id": "25e73ec9",
   "metadata": {},
   "source": [
    "##### The idea behind random model is to create a reference error value (True - Generated), based on randomly generated value This reference error gives a sense of how well our build model performce against the randomly generated values\n",
    "\n",
    "#### How we construct random model for our multiclassification case:\n",
    "\n",
    "- Generate series filled with random probabilities\n",
    "- Probabilities a distribute randomly across classes (1-9)\n",
    "- Log_loss is used to measure the accuracy ( Submission requires log loss )\n",
    "\n",
    "<p>\n",
    "We shall create 9 random integers from 1 to 9 to represent the 9 output classes for this application. To indicate the probability for each class, we will add these nine values and divide them by the total. we will select the highest probability value, draw a confusion matrix, and compute the total log-loss.\n",
    "    \n",
    "The idea behind random model is to create a reference error value (True - Generated), based on randomly generated value This reference error gives a sense of how well our build model performce against the randomly generated values\n",
    "\n",
    "How we construct random model for our multiclassification case:\n",
    "\n",
    "Generate series filled with random probabilities\n",
    "Probabilities a distribute randomly across classes (1-9)\n",
    "Log_loss is used to measure the accuracy ( Submission requires log loss )\n",
    "\n",
    "We begin by defining a function for visualising the confusion matrix:\n",
    "The purpose of the random model is to generate a reference error value (True - Generated), which measures how well our built model performs in comparison to the randomly generated data.\n",
    "\n",
    "How we build a random model in our multiclassification example\n",
    "\n",
    "Create a series with random probabilities in it.\n",
    "Probabilities are randomly distributed throughout the classes (1-9)\n",
    "Accuracy is measured by log loss ( Submission requires log loss )</p>"
   ]
  },
  {
   "cell_type": "code",
   "execution_count": 30,
   "id": "71db1f61",
   "metadata": {
    "scrolled": true
   },
   "outputs": [
    {
     "name": "stdout",
     "output_type": "stream",
     "text": [
      "Log loss on Cross Validation Data using Random Model 2.5\n",
      "Log loss on Test Data using Random Model 2.52\n"
     ]
    }
   ],
   "source": [
    "from sklearn.metrics import log_loss\n",
    "test_data_len = test_df.shape[0]\n",
    "cv_len = cv_df.shape[0]\n",
    "\n",
    "#we establish an output array that has precisely same size as the CV data\n",
    "cv_predicted_y = np.zeros((cv_len,9))\n",
    "for i in range(cv_len):\n",
    "    random_prob = np.random.rand(1,9)\n",
    "    cv_predicted_y[i] = ((random_prob/random_prob.sum())[0])\n",
    "\n",
    "cv_log_loss = round(log_loss(y_cv,cv_predicted_y, eps=1e-15),2)\n",
    "\n",
    "print(\"Log loss on Cross Validation Data using Random Model\",cv_log_loss)\n",
    "\n",
    "\n",
    "test_predicted_y = np.zeros((test_data_len,9))\n",
    "for i in range(test_data_len):\n",
    "    random_prob = np.random.rand(1,9)\n",
    "    test_predicted_y[i] = ((random_prob/random_prob.sum())[0])\n",
    "test_log_loss = round(log_loss(y_test,test_predicted_y, eps=1e-15),2)\n",
    "\n",
    "print(\"Log loss on Test Data using Random Model\",test_log_loss)"
   ]
  },
  {
   "cell_type": "markdown",
   "id": "eea796ed",
   "metadata": {},
   "source": [
    "It appears that 2.5 will serve as our main basis. Our model performs poorly the closer its log loss is approaching 2.5!\n",
    "\n",
    "The following matrices will be used to assess the performance of random and subsequently actual ML models:\n",
    "\n",
    "- Confusion Matrix\n",
    "In plain language, the confusion matrix is used to gauge how accurately our model classifies input.\n",
    "Diagonally organised cells will have a stronger correlation if models are successful.\n",
    "- Recall Matrix\n",
    "In layman's terms, it refers to a model's capacity to locate all the relevant data points in a dataset.\n",
    "True Positive / (True Positive + False Negative) in mathematics\n",
    "- Precision Matrix\n",
    "In layman's terms, precision identifies the percentage of data items that the model qualifies as relevant as being relevant\n",
    "In mathematics, the formula is True Positive / (True Positive + False Positive)."
   ]
  },
  {
   "cell_type": "code",
   "execution_count": 31,
   "id": "f0a933e5",
   "metadata": {
    "scrolled": true
   },
   "outputs": [],
   "source": [
    "predicted_y =np.argmax(test_predicted_y, axis=1)\n",
    "# Because class values range from 0 to 8. Additionally, there are numbers 1 through 9. The n+1 formula will convert it to 1–9.\n",
    "predicted_y = predicted_y+1"
   ]
  },
  {
   "cell_type": "code",
   "execution_count": 32,
   "id": "bf190a8c",
   "metadata": {
    "scrolled": true
   },
   "outputs": [
    {
     "data": {
      "image/png": "[encoded data removed]",
      "text/plain": [
       "<Figure size 1584x432 with 4 Axes>"
      ]
     },
     "metadata": {
      "needs_background": "light"
     },
     "output_type": "display_data"
    }
   ],
   "source": [
    "from sklearn.metrics import confusion_matrix\n",
    "\n",
    "def plot_matrices(y_test,predicted_y):  \n",
    "\n",
    "    confusion = confusion_matrix(y_test, predicted_y)\n",
    "    precision =(confusion/confusion.sum(axis=0))\n",
    "    recall =(((confusion.T)/(confusion.sum(axis=1))).T)\n",
    "    \n",
    "    f,(ax1,ax2,ax3, axcb) = plt.subplots(1,4, \n",
    "                gridspec_kw={'width_ratios':[1,1,1,0.08]},figsize=(22,6))\n",
    "    \n",
    "    labels = [1,2,3,4,5,6,7,8,9]\n",
    "    \n",
    "    g1 = sns.heatmap(confusion,cbar=False,ax=ax1,annot=True, cmap=\"viridis\", fmt=\".3f\", xticklabels=labels, yticklabels=labels,)\n",
    "    g1.set_ylabel('Original Class')\n",
    "    g1.set_xlabel('Predicted Class')\n",
    "    g1.set_title('Confusion')\n",
    "    g2 = sns.heatmap(precision,cmap=\"viridis\",cbar=False,ax=ax2, annot=True,fmt=\".3f\", xticklabels=labels, yticklabels=labels)\n",
    "    g2.set_ylabel('Original Class')\n",
    "    g2.set_xlabel('Predicted Class')\n",
    "    g2.set_yticks(labels)\n",
    "    g2.set_title('Precision')\n",
    "    g3 = sns.heatmap(recall,cmap=\"viridis\",ax=ax3, cbar_ax=axcb, annot=True, fmt=\".3f\", xticklabels=labels, yticklabels=labels)\n",
    "    g3.set_ylabel('Original Class')\n",
    "    g3.set_xlabel('Predicted Class')\n",
    "    g3.set_title('Recall')\n",
    "    g3.set_yticks(labels)\n",
    "    \n",
    "    for ax in [g1,g2,g3]:\n",
    "        tl = ax.get_xticklabels()\n",
    "        ax.set_xticklabels(tl, rotation=0)\n",
    "        tly = ax.get_yticklabels()\n",
    "        ax.set_yticklabels(tly, rotation=0)\n",
    "    \n",
    "    plt.show()\n",
    "\n",
    "plot_matrices(y_test,predicted_y)"
   ]
  },
  {
   "cell_type": "markdown",
   "id": "78a27c7d",
   "metadata": {},
   "source": [
    "<p>\n",
    "In the present confusion matrix, three data points for class 1 correspond to the original and anticipated classes. There are 8 data points in class 2 that fit both the original and anticipated classes, and so on. As a result, utilising the confusion matrix provides a more accurate representation of the model's performance than simply looking at a single number of log loss. As you are aware, the model is regarded to be optimally adjusted if all diagonal values are high.</p>"
   ]
  },
  {
   "cell_type": "markdown",
   "id": "497763f7",
   "metadata": {},
   "source": [
    " # 5. Feature Evaluation"
   ]
  },
  {
   "cell_type": "markdown",
   "id": "e8898010",
   "metadata": {},
   "source": [
    "## Define Evaluating Functions:\n",
    " - Evaluation Model:\n",
    "- Stochastic Gradient Descent classifier\n",
    "- Logistic Regression (sigmoid)\n",
    "- Calibrated Classifier - Post Processing the model to improve probability estimates\n",
    "- Use onehotCoding\n",
    "- Penalty='l2'\n",
    "- Below are the functions that will help us with evaluating our features"
   ]
  },
  {
   "cell_type": "markdown",
   "id": "b938bd19",
   "metadata": {},
   "source": [
    "### 5.1Gene column evaluation\n",
    "- Examine the word distribution.\n",
    "- String data must be transformed to numeric data before the ML technique can be used.\n",
    "- Encoding Method: One-hot Encoding"
   ]
  },
  {
   "cell_type": "code",
   "execution_count": 33,
   "id": "d00ab26e",
   "metadata": {
    "scrolled": true
   },
   "outputs": [
    {
     "data": {
      "text/plain": [
       "array(['FGFR2', 'KIT', 'CCND1', 'ERBB2', 'NRAS', 'PTCH1', 'MET', 'MAP2K2',\n",
       "       'BRCA1', 'ERCC4', 'JAK1', 'EGFR', 'CBL', 'ERBB4', 'PIK3CA',\n",
       "       'BRCA2', 'BRD4', 'SRC', 'CDKN2A', 'CARD11', 'RAC1', 'PDGFRB',\n",
       "       'ALK', 'KDM5A', 'RHOA', 'BCL2', 'SF3B1', 'ARID2', 'MYCN', 'RAF1',\n",
       "       'PTEN', 'POLE', 'PIK3R1', 'MSH6', 'PTPN11', 'TP53', 'MTOR', 'FLT3',\n",
       "       'TSC2', 'ROS1', 'KMT2B', 'NTRK1', 'ESR1', 'STK11', 'AKT1', 'BRAF',\n",
       "       'H3F3A', 'NF2', 'DNMT3A', 'BAP1', 'ELF3', 'ERG', 'EPAS1', 'RET',\n",
       "       'SMAD4', 'PIK3CB', 'KRAS', 'EP300', 'RAD54L', 'FGFR3', 'PIK3R3',\n",
       "       'SOX9', 'ETV6', 'FBXW7', 'NFKBIA', 'HRAS', 'SMO', 'CEBPA', 'AKT2',\n",
       "       'RAD50', 'CDH1', 'VHL', 'MYC', 'SMAD2', 'FANCA', 'FGFR4', 'FAT1',\n",
       "       'RUNX1', 'PTPRT', 'TGFBR1', 'NOTCH1', 'RHEB', 'ABL1', 'SOS1',\n",
       "       'HNF1A', 'CDKN2B', 'EWSR1', 'DICER1', 'AR', 'TP53BP1', 'KDM5C',\n",
       "       'JAK2', 'PMS2', 'CTNNB1', 'TET2', 'KDR', 'MSH2', 'PDGFRA',\n",
       "       'NKX2-1', 'FGF3', 'SMARCA4', 'KNSTRN', 'AXIN1', 'JUN', 'RAD51C',\n",
       "       'ERCC2', 'PIM1', 'MAP2K1', 'FOXO1', 'WHSC1', 'NFE2L2', 'FGFR1',\n",
       "       'CDKN2C', 'YAP1', 'MLH1', 'RAD21', 'SETD2', 'INPP4B', 'CDKN1A',\n",
       "       'IGF1R', 'TSC1', 'PPP2R1A', 'MPL', 'MAP2K4', 'MYOD1', 'SMAD3',\n",
       "       'GNAS', 'MEF2B', 'IDH1', 'CHEK2', 'PIK3R2', 'SPOP', 'SHOC2',\n",
       "       'GATA3', 'TERT', 'ATM', 'ETV1', 'MED12', 'APC', 'CCND2', 'EZH2',\n",
       "       'DDR2', 'NTRK2', 'NUP93', 'RB1', 'KLF4', 'EIF1AX', 'FANCC',\n",
       "       'KMT2A', 'NPM1', 'RARA', 'CREBBP', 'FAM58A', 'CCND3', 'LATS1',\n",
       "       'ERBB3', 'TGFBR2', 'AXL', 'ARAF', 'NF1', 'CTCF', 'RAD51D', 'AGO2',\n",
       "       'XPO1', 'KMT2C', 'MAP3K1', 'HLA-A', 'STAT3', 'PMS1', 'PRDM1',\n",
       "       'CDKN1B', 'KEAP1', 'TMPRSS2', 'B2M', 'BCOR', 'NOTCH2', 'XRCC2',\n",
       "       'CCNE1', 'IL7R', 'MYD88', 'PTPRD', 'ATRX', 'SHQ1', 'RBM10',\n",
       "       'RRAS2', 'CASP8', 'ERRFI1', 'U2AF1', 'FOXP1', 'DNMT3B', 'IDH2',\n",
       "       'FLT1', 'PIK3CD', 'BRIP1', 'PAX8', 'FOXA1', 'CDK12', 'CIC', 'RIT1',\n",
       "       'CARM1', 'AKT3', 'EPCAM', 'SDHB', 'PAK1', 'ERCC3', 'AURKA',\n",
       "       'STAG2', 'PPP6C', 'NTRK3', 'TET1', 'MDM2', 'CDK6', 'NSD1', 'ASXL1',\n",
       "       'ARID1B', 'KMT2D', 'CDK4', 'ARID1A', 'PBRM1', 'MAPK1', 'TCF7L2',\n",
       "       'RASA1', 'RICTOR', 'MEN1', 'PPM1D', 'BCL10', 'MGA', 'RXRA', 'CDK8',\n",
       "       'SMARCB1', 'HLA-B', 'GLI1', 'IKBKE', 'ACVR1', 'KDM6A', 'AURKB',\n",
       "       'RAB35', 'GNAQ', 'ASXL2', 'BCL2L11'], dtype=object)"
      ]
     },
     "execution_count": 33,
     "metadata": {},
     "output_type": "execute_result"
    }
   ],
   "source": [
    "train_df.Gene.unique()"
   ]
  },
  {
   "cell_type": "code",
   "execution_count": 34,
   "id": "0cc27ca2",
   "metadata": {
    "scrolled": true
   },
   "outputs": [
    {
     "data": {
      "text/plain": [
       "BRCA1      163\n",
       "TP53       105\n",
       "BRCA2       88\n",
       "EGFR        84\n",
       "PTEN        76\n",
       "          ... \n",
       "HLA-A        1\n",
       "MAP3K1       1\n",
       "KMT2B        1\n",
       "RAD51D       1\n",
       "BCL2L11      1\n",
       "Name: Gene, Length: 240, dtype: int64"
      ]
     },
     "execution_count": 34,
     "metadata": {},
     "output_type": "execute_result"
    }
   ],
   "source": [
    "genecount =train_df['Gene'].value_counts()\n",
    "genecount"
   ]
  },
  {
   "cell_type": "code",
   "execution_count": 35,
   "id": "af164458",
   "metadata": {
    "scrolled": true
   },
   "outputs": [
    {
     "data": {
      "text/plain": [
       "(240,)"
      ]
     },
     "execution_count": 35,
     "metadata": {},
     "output_type": "execute_result"
    }
   ],
   "source": [
    "genecount.shape"
   ]
  },
  {
   "cell_type": "code",
   "execution_count": 36,
   "id": "fae9fc20",
   "metadata": {},
   "outputs": [
    {
     "data": {
      "image/png": "[encoded data removed]",
      "text/plain": [
       "<Figure size 864x432 with 1 Axes>"
      ]
     },
     "metadata": {
      "needs_background": "light"
     },
     "output_type": "display_data"
    }
   ],
   "source": [
    "total_unique_values = sum(genecount.values);\n",
    "percent_per_total = genecount.values/total_unique_values;\n",
    "cumulative = np.cumsum(percent_per_total)\n",
    "plt.plot(cumulative,label='Cumulative distribution of Genes',)\n",
    "\n",
    "plt.grid()\n",
    "plt.axhline(0.75, color='k')\n",
    "plt.legend()\n",
    "plt.tight_layout()\n",
    "plt.show()\n"
   ]
  },
  {
   "cell_type": "markdown",
   "id": "05b48acc",
   "metadata": {},
   "source": [
    "###### Looks like 75% of data consists of approximately 50 most common words."
   ]
  },
  {
   "cell_type": "code",
   "execution_count": 37,
   "id": "b47a1f90",
   "metadata": {
    "scrolled": true
   },
   "outputs": [],
   "source": [
    "# Gene' featureVectorizing \n",
    "from sklearn.feature_extraction.text import CountVectorizer\n",
    "\n",
    "g_vectorizer = CountVectorizer()\n",
    "train_gene_feature_onehotCoding =  g_vectorizer.fit_transform(train_df['Gene'])\n",
    "test_gene_feature_onehotCoding  =  g_vectorizer.transform(test_df['Gene'])\n",
    "cv_gene_feature_onehotCoding    =  g_vectorizer.transform(cv_df['Gene'])"
   ]
  },
  {
   "cell_type": "markdown",
   "id": "3a7c36cc",
   "metadata": {},
   "source": [
    "##### Evaluating Functions Definition:\n",
    "- Testing Framework:\n",
    "- Gradient Stochastic Classifier for descent\n",
    "- Calibrated Logistic Regression (sigmoid) Classifier - Post-processing the model to enhance probability estimations\n",
    "- Penalty='l2' for onehotCoding\n",
    "- The functions listed below will assist us in assessing our features."
   ]
  },
  {
   "cell_type": "code",
   "execution_count": 38,
   "id": "446e84c1",
   "metadata": {
    "scrolled": true
   },
   "outputs": [],
   "source": [
    "from sklearn.linear_model import SGDClassifier\n",
    "from sklearn.calibration import CalibratedClassifierCV\n",
    "\n",
    "def alpha_loss(alpha,train_feat_hotencode,cv_feat_hotencode):\n",
    "    \"\"\"\n",
    "    Input: Hyperparameter Alpha, Train_Feature_onehotencoded, CV_Feature_onehotencoded\n",
    "    Output: Hyperparameter Tunning DataFrame \n",
    "    \"\"\"\n",
    "    cv_log_error_array=[]\n",
    "    for i in alpha:\n",
    "        clf = SGDClassifier(alpha=i, penalty='l2', loss='log', random_state=42)\n",
    "        clf.fit(train_feat_hotencode, y_train)\n",
    "        sig_clf = CalibratedClassifierCV(clf, method=\"sigmoid\")\n",
    "    \n",
    "    # \n",
    "        sig_clf.fit(train_feat_hotencode, y_train)\n",
    "        predict_y = sig_clf.predict_proba(cv_feat_hotencode)\n",
    "    \n",
    "        cv_log_error_array.append(log_loss(y_cv, predict_y, labels=clf.classes_, eps=1e-15))\n",
    "\n",
    "    temp_df = pd.DataFrame(data={'alpha': np.round(alpha,5), \n",
    "                                 'cv_log_loss': np.round(cv_log_error_array,5)})\n",
    "    return temp_df"
   ]
  },
  {
   "cell_type": "code",
   "execution_count": 39,
   "id": "6f4cbf1a",
   "metadata": {
    "scrolled": true
   },
   "outputs": [],
   "source": [
    "def all_set(name,best_alpha,\n",
    "                 train_feat_hotencode,\n",
    "                 cv_feat_hotencode,\n",
    "                 test_feat_hotencode):\n",
    "    '''\n",
    "    Input: Feature name, Best Alpha, and All 3 OneHotEncoded Sets \n",
    "    Output: Log-Loss Report data frame\n",
    "    '''\n",
    "    # Model\n",
    "    clf = SGDClassifier(alpha=best_alpha, penalty='l2', loss='log', random_state=42)\n",
    "    clf.fit(train_feat_hotencode, y_train)\n",
    "    sigmoid_clf = CalibratedClassifierCV(clf, method=\"sigmoid\")\n",
    "    sigmoid_clf.fit(train_feat_hotencode, y_train)\n",
    "    \n",
    "    train_predict_y = sigmoid_clf.predict_proba(train_feat_hotencode)\n",
    "    train_log_loss = np.round(log_loss(y_train, train_predict_y, labels=clf.classes_, eps=1e-15),3)\n",
    "\n",
    "    cv_predict_y = sigmoid_clf.predict_proba(cv_feat_hotencode)\n",
    "    cv_log_loss = np.round(log_loss(y_cv, cv_predict_y, labels=clf.classes_, eps=1e-15),3)\n",
    "    \n",
    "    test_predict_y = sigmoid_clf.predict_proba(test_feat_hotencode)\n",
    "    test_log_loss = np.round(log_loss(y_test, test_predict_y, labels=clf.classes_, eps=1e-15),3)\n",
    "    \n",
    "    report_log_loss=[name,\n",
    "                     best_alpha,\n",
    "                     train_log_loss,\n",
    "                     cv_log_loss,\n",
    "                     test_log_loss]\n",
    "    \n",
    "    temp_df = pd.DataFrame([report_log_loss],columns=['Feature','best alpha','train_log_loss','cv_log_loss','test_log_loss' ])   \n",
    "    return temp_df"
   ]
  },
  {
   "cell_type": "code",
   "execution_count": 40,
   "id": "332c54a1",
   "metadata": {
    "scrolled": true
   },
   "outputs": [
    {
     "data": {
      "text/html": [
       "<div>\n",
       "<style scoped>\n",
       "    .dataframe tbody tr th:only-of-type {\n",
       "        vertical-align: middle;\n",
       "    }\n",
       "\n",
       "    .dataframe tbody tr th {\n",
       "        vertical-align: top;\n",
       "    }\n",
       "\n",
       "    .dataframe thead th {\n",
       "        text-align: right;\n",
       "    }\n",
       "</style>\n",
       "<table border=\"1\" class=\"dataframe\">\n",
       "  <thead>\n",
       "    <tr style=\"text-align: right;\">\n",
       "      <th></th>\n",
       "      <th>Feature</th>\n",
       "      <th>best alpha</th>\n",
       "      <th>train_log_loss</th>\n",
       "      <th>cv_log_loss</th>\n",
       "      <th>test_log_loss</th>\n",
       "      <th>Test-Train Data Overlap[%]</th>\n",
       "      <th>CV-Train Data Overlap[%]</th>\n",
       "    </tr>\n",
       "  </thead>\n",
       "  <tbody>\n",
       "    <tr>\n",
       "      <th>0</th>\n",
       "      <td>Gene</td>\n",
       "      <td>0.0001</td>\n",
       "      <td>0.981</td>\n",
       "      <td>1.21</td>\n",
       "      <td>1.197</td>\n",
       "      <td>97.7</td>\n",
       "      <td>97.7</td>\n",
       "    </tr>\n",
       "  </tbody>\n",
       "</table>\n",
       "</div>"
      ],
      "text/plain": [
       "  Feature  best alpha  train_log_loss  cv_log_loss  test_log_loss  \\\n",
       "0    Gene      0.0001           0.981         1.21          1.197   \n",
       "\n",
       "   Test-Train Data Overlap[%]  CV-Train Data Overlap[%]  \n",
       "0                        97.7                      97.7  "
      ]
     },
     "execution_count": 40,
     "metadata": {},
     "output_type": "execute_result"
    }
   ],
   "source": [
    "test_train_cover=test_df[test_df['Gene'].isin(list(set(train_df['Gene'])))].shape[0]\n",
    "cv_train_cover=cv_df[cv_df['Gene'].isin(list(set(train_df['Gene'])))].shape[0]\n",
    "test_train_olap = np.round(test_train_cover*100/test_df.shape[0],1)\n",
    "cv_train_olap =  np.round(cv_train_cover*100/cv_df.shape[0],1)\n",
    "\n",
    "\n",
    "olap= pd.DataFrame(data=[[test_train_olap,cv_train_olap]],columns=['Test-Train Data Overlap[%]','CV-Train Data Overlap[%]'])\n",
    "\n",
    "# Evaluating Gene Feature\n",
    "alpha = [10 ** x for x in range(-5, 1)]\n",
    "# Tunning Hyper Parameter (Alpha)\n",
    "tunning_df = alpha_loss(alpha,train_gene_feature_onehotCoding,cv_gene_feature_onehotCoding)\n",
    "# Selecting Best Alpha\n",
    "best_alpha = tunning_df.loc[tunning_df['cv_log_loss'] == tunning_df['cv_log_loss'].min(), 'alpha'].item()\n",
    "\n",
    "# Calculating Log_Loss for all test sets\n",
    "gene_feat = all_set('Gene',best_alpha,\n",
    "                         train_gene_feature_onehotCoding,\n",
    "                         cv_gene_feature_onehotCoding,\n",
    "                         test_gene_feature_onehotCoding)\n",
    "\n",
    "# Combining Report\n",
    "gene_report=pd.concat([gene_feat,olap],axis=1)\n",
    "gene_report\n"
   ]
  },
  {
   "cell_type": "markdown",
   "id": "167b8ef9",
   "metadata": {},
   "source": [
    "###### Great. Our log loss performed better than our Random Model (2.50). It appears that the lowest error occurs when Alpha = 0.0001.\n"
   ]
  },
  {
   "cell_type": "markdown",
   "id": "4741da5e",
   "metadata": {},
   "source": [
    "## 5.2 'Variation' Column Evaluation"
   ]
  },
  {
   "cell_type": "code",
   "execution_count": 41,
   "id": "26ee3cb8",
   "metadata": {
    "scrolled": true
   },
   "outputs": [
    {
     "data": {
      "text/plain": [
       "array(['P253R', 'Amplification', 'CCND1-IGH Fusion', ..., 'S501_A502dup',\n",
       "       'G697C', 'S505N'], dtype=object)"
      ]
     },
     "execution_count": 41,
     "metadata": {},
     "output_type": "execute_result"
    }
   ],
   "source": [
    "train_df.Variation.unique()"
   ]
  },
  {
   "cell_type": "code",
   "execution_count": 42,
   "id": "74a05183",
   "metadata": {
    "scrolled": true
   },
   "outputs": [
    {
     "data": {
      "text/plain": [
       "Truncating Mutations    56\n",
       "Deletion                52\n",
       "Amplification           40\n",
       "Fusions                 21\n",
       "Overexpression           6\n",
       "                        ..\n",
       "C1156F                   1\n",
       "L181P                    1\n",
       "P387S                    1\n",
       "E207K                    1\n",
       "S505N                    1\n",
       "Name: Variation, Length: 1925, dtype: int64"
      ]
     },
     "execution_count": 42,
     "metadata": {},
     "output_type": "execute_result"
    }
   ],
   "source": [
    "varcount =train_df['Variation'].value_counts()\n",
    "varcount"
   ]
  },
  {
   "cell_type": "code",
   "execution_count": 43,
   "id": "8493b9dd",
   "metadata": {
    "scrolled": true
   },
   "outputs": [
    {
     "data": {
      "text/plain": [
       "(1925,)"
      ]
     },
     "execution_count": 43,
     "metadata": {},
     "output_type": "execute_result"
    }
   ],
   "source": [
    "varcount.shape"
   ]
  },
  {
   "cell_type": "code",
   "execution_count": 44,
   "id": "0c7282ca",
   "metadata": {},
   "outputs": [
    {
     "data": {
      "image/png": "[encoded data removed]",
      "text/plain": [
       "<Figure size 864x432 with 1 Axes>"
      ]
     },
     "metadata": {
      "needs_background": "light"
     },
     "output_type": "display_data"
    }
   ],
   "source": [
    "total_unique_values = sum(varcount.values);\n",
    "percent_per_total = varcount.values/total_unique_values;\n",
    "cumulative = np.cumsum(percent_per_total)\n",
    "plt.plot(cumulative,label='Cumulative distribution of Genes',)\n",
    "\n",
    "plt.grid()\n",
    "plt.axhline(0.80, color='k')\n",
    "plt.legend()\n",
    "plt.tight_layout()\n",
    "plt.show()\n"
   ]
  },
  {
   "cell_type": "code",
   "execution_count": 45,
   "id": "e1f43aa1",
   "metadata": {
    "scrolled": true
   },
   "outputs": [],
   "source": [
    "var_vectorizer = CountVectorizer()\n",
    "\n",
    "train_variation_feature_onehotCoding =  var_vectorizer.fit_transform(train_df['Variation'])\n",
    "test_variation_feature_onehotCoding  =  var_vectorizer.transform(test_df['Variation'])\n",
    "cv_variation_feature_onehotCoding    =  var_vectorizer.transform(cv_df['Variation'])"
   ]
  },
  {
   "cell_type": "code",
   "execution_count": 46,
   "id": "f65ecfc3",
   "metadata": {
    "scrolled": true
   },
   "outputs": [
    {
     "data": {
      "text/html": [
       "<div>\n",
       "<style scoped>\n",
       "    .dataframe tbody tr th:only-of-type {\n",
       "        vertical-align: middle;\n",
       "    }\n",
       "\n",
       "    .dataframe tbody tr th {\n",
       "        vertical-align: top;\n",
       "    }\n",
       "\n",
       "    .dataframe thead th {\n",
       "        text-align: right;\n",
       "    }\n",
       "</style>\n",
       "<table border=\"1\" class=\"dataframe\">\n",
       "  <thead>\n",
       "    <tr style=\"text-align: right;\">\n",
       "      <th></th>\n",
       "      <th>Feature</th>\n",
       "      <th>best alpha</th>\n",
       "      <th>train_log_loss</th>\n",
       "      <th>cv_log_loss</th>\n",
       "      <th>test_log_loss</th>\n",
       "      <th>Test-Train Data Overlap[%]</th>\n",
       "      <th>CV-Train Data Overlap[%]</th>\n",
       "    </tr>\n",
       "  </thead>\n",
       "  <tbody>\n",
       "    <tr>\n",
       "      <th>0</th>\n",
       "      <td>Variation</td>\n",
       "      <td>0.0001</td>\n",
       "      <td>0.731</td>\n",
       "      <td>1.692</td>\n",
       "      <td>1.687</td>\n",
       "      <td>9.8</td>\n",
       "      <td>10.5</td>\n",
       "    </tr>\n",
       "  </tbody>\n",
       "</table>\n",
       "</div>"
      ],
      "text/plain": [
       "     Feature  best alpha  train_log_loss  cv_log_loss  test_log_loss  \\\n",
       "0  Variation      0.0001           0.731        1.692          1.687   \n",
       "\n",
       "   Test-Train Data Overlap[%]  CV-Train Data Overlap[%]  \n",
       "0                         9.8                      10.5  "
      ]
     },
     "execution_count": 46,
     "metadata": {},
     "output_type": "execute_result"
    }
   ],
   "source": [
    "test_train_cover=test_df[test_df['Variation'].isin(list(set(train_df['Variation'])))].shape[0]\n",
    "cv_train_cover=cv_df[cv_df['Variation'].isin(list(set(train_df['Variation'])))].shape[0]\n",
    "test_train_ol = np.round(test_train_cover*100/test_df.shape[0],1)\n",
    "cv_train_ol =  np.round(cv_train_cover*100/cv_df.shape[0],1)\n",
    "\n",
    "overlapped= pd.DataFrame(data=[[test_train_ol,cv_train_ol]],columns=['Test-Train Data Overlap[%]','CV-Train Data Overlap[%]'])\n",
    "\n",
    "alpha = [10 ** x for x in range(-5, 1)]\n",
    "\n",
    "tunning_df = alpha_loss(alpha,train_gene_feature_onehotCoding,cv_gene_feature_onehotCoding)\n",
    "\n",
    "best_alpha = tunning_df.loc[tunning_df['cv_log_loss'] == tunning_df['cv_log_loss'].min(), 'alpha'].item()\n",
    "\n",
    "\n",
    "feat_rep = all_set('Variation',best_alpha,\n",
    "                         train_variation_feature_onehotCoding,\n",
    "                         cv_variation_feature_onehotCoding,\n",
    "                         test_variation_feature_onehotCoding)\n",
    "\n",
    "variation_report=pd.concat([feat_rep,overlapped],axis=1)\n",
    "variation_report"
   ]
  },
  {
   "cell_type": "markdown",
   "id": "a2648ab0",
   "metadata": {},
   "source": [
    "### In compared to the train, the CV and Test log loss is significantly larger. The coverage of variation data is most likely poor. Let's see what happens."
   ]
  },
  {
   "cell_type": "markdown",
   "id": "64c0ab91",
   "metadata": {},
   "source": [
    "### 5.3Evaluating Text column"
   ]
  },
  {
   "cell_type": "code",
   "execution_count": 47,
   "id": "edffa3b9",
   "metadata": {
    "scrolled": true
   },
   "outputs": [
    {
     "name": "stdout",
     "output_type": "stream",
     "text": [
      "Total number of unique words in train data : 72165\n"
     ]
    },
    {
     "name": "stderr",
     "output_type": "stream",
     "text": [
      "C:\\Users\\reetu raj harsh\\anaconda3\\lib\\site-packages\\sklearn\\utils\\deprecation.py:87: FutureWarning: Function get_feature_names is deprecated; get_feature_names is deprecated in 1.0 and will be removed in 1.2. Please use get_feature_names_out instead.\n",
      "  warnings.warn(msg, category=FutureWarning)\n"
     ]
    }
   ],
   "source": [
    "# building a CountVectorizer with all the words that occured minimum 3 times in train data\n",
    "text_vectorizer = CountVectorizer(min_df=3)\n",
    "train_text_feature_onehotCoding = text_vectorizer.fit_transform(train_df['clean_text'])\n",
    "\n",
    "# getting all the feature names (words)\n",
    "train_text_features= text_vectorizer.get_feature_names()\n",
    "print(\"Total number of unique words in train data :\", len(train_text_features))"
   ]
  },
  {
   "cell_type": "code",
   "execution_count": 48,
   "id": "363505a6",
   "metadata": {
    "scrolled": true
   },
   "outputs": [],
   "source": [
    "# Normalizing One_Hot_Encoding\n",
    "from sklearn.preprocessing import normalize\n",
    "\n",
    "# we use the same vectorizer that was trained on train data\n",
    "train_text_feature_onehotCoding = normalize(train_text_feature_onehotCoding, axis=0)\n",
    "\n",
    "test_text_feature_onehotCoding = text_vectorizer.transform(test_df['TEXT'])\n",
    "test_text_feature_onehotCoding = normalize(test_text_feature_onehotCoding, axis=0)\n",
    "\n",
    "cv_text_feature_onehotCoding = text_vectorizer.transform(cv_df['TEXT'])\n",
    "cv_text_feature_onehotCoding = normalize(cv_text_feature_onehotCoding, axis=0)"
   ]
  },
  {
   "cell_type": "markdown",
   "id": "5d54fd8d",
   "metadata": {},
   "source": [
    "### Below is code used to find an overal of words between sets"
   ]
  },
  {
   "cell_type": "code",
   "execution_count": 49,
   "id": "d3d79b21",
   "metadata": {
    "scrolled": true
   },
   "outputs": [],
   "source": [
    "# train_text_feature_onehotCoding.sum(axis=0).A1 will sum every row and returns (1*number of features) vector\n",
    "# .A1 turns(compresses) Matrix into Array\n",
    "train_text_fea_counts = train_text_feature_onehotCoding.sum(axis=0).A1\n",
    "\n",
    "# We will use it to check overlaps between data sets\n",
    "text_fea_dict = dict(zip(list(train_text_features),train_text_fea_counts))\n",
    "\n",
    "# Sorting dictionary based on the value ( not key ) \n",
    "sorted_text_fea_dict = dict(sorted(text_fea_dict.items(), key=lambda x: x[1] , reverse=True))\n",
    "sorted_text_occur = np.array(list(sorted_text_fea_dict.values()))\n",
    "\n",
    "def get_intersec_text(df):\n",
    "    df_text_vec = CountVectorizer(min_df=3)\n",
    "    df_text_fea = df_text_vec.fit_transform(df['TEXT'])\n",
    "    df_text_features = df_text_vec.get_feature_names()\n",
    "\n",
    "    df_text_fea_counts = df_text_fea.sum(axis=0).A1\n",
    "    df_text_fea_dict = dict(zip(list(df_text_features),df_text_fea_counts))\n",
    "    len1 = len(set(df_text_features))\n",
    "    len2 = len(set(train_text_features) & set(df_text_features))\n",
    "    return len1,len2\n",
    "len1,len2 = get_intersec_text(test_df)\n",
    "test_train_overlap =np.round((len2/len1)*100, 1)\n",
    "len1,len2 = get_intersec_text(cv_df)\n",
    "cv_train_overlap = np.round((len2/len1)*100, 1)"
   ]
  },
  {
   "cell_type": "code",
   "execution_count": 50,
   "id": "ecd29c9b",
   "metadata": {
    "scrolled": true
   },
   "outputs": [],
   "source": [
    "overlap= pd.DataFrame(data=[[test_train_overlap, cv_train_overlap]],columns=['Test-Train Data Overlap[%]','CV-Train Data Overlap[%]'])\n",
    "\n",
    "# Evaluating Gene Feature\n",
    "alpha = [10 ** x for x in range(-5, 1)]\n",
    "# Tunning Hyper Parameter (Alpha)\n",
    "tunning_df = alpha_loss(alpha,train_gene_feature_onehotCoding,cv_gene_feature_onehotCoding)\n",
    "# Selecting Best Alpha\n",
    "best_alpha = tunning_df.loc[tunning_df['cv_log_loss'] == tunning_df['cv_log_loss'].min(), 'alpha'].item()\n",
    "\n",
    "# Calculating Log_Loss for all test sets\n",
    "feat_rep = all_set('TEXT',best_alpha,\n",
    "                         train_text_feature_onehotCoding,\n",
    "                         cv_text_feature_onehotCoding,\n",
    "                         test_text_feature_onehotCoding)\n",
    "\n",
    "# Combining Report\n",
    "text_report=pd.concat([feat_rep,overlap],axis=1)"
   ]
  },
  {
   "cell_type": "code",
   "execution_count": 51,
   "id": "abbcfd0b",
   "metadata": {
    "scrolled": true
   },
   "outputs": [
    {
     "data": {
      "text/html": [
       "<div>\n",
       "<style scoped>\n",
       "    .dataframe tbody tr th:only-of-type {\n",
       "        vertical-align: middle;\n",
       "    }\n",
       "\n",
       "    .dataframe tbody tr th {\n",
       "        vertical-align: top;\n",
       "    }\n",
       "\n",
       "    .dataframe thead th {\n",
       "        text-align: right;\n",
       "    }\n",
       "</style>\n",
       "<table border=\"1\" class=\"dataframe\">\n",
       "  <thead>\n",
       "    <tr style=\"text-align: right;\">\n",
       "      <th></th>\n",
       "      <th>Feature</th>\n",
       "      <th>best alpha</th>\n",
       "      <th>train_log_loss</th>\n",
       "      <th>cv_log_loss</th>\n",
       "      <th>test_log_loss</th>\n",
       "      <th>Test-Train Data Overlap[%]</th>\n",
       "      <th>CV-Train Data Overlap[%]</th>\n",
       "    </tr>\n",
       "  </thead>\n",
       "  <tbody>\n",
       "    <tr>\n",
       "      <th>0</th>\n",
       "      <td>Gene</td>\n",
       "      <td>0.0001</td>\n",
       "      <td>0.981</td>\n",
       "      <td>1.210</td>\n",
       "      <td>1.197</td>\n",
       "      <td>97.7</td>\n",
       "      <td>97.7</td>\n",
       "    </tr>\n",
       "    <tr>\n",
       "      <th>0</th>\n",
       "      <td>Variation</td>\n",
       "      <td>0.0001</td>\n",
       "      <td>0.731</td>\n",
       "      <td>1.692</td>\n",
       "      <td>1.687</td>\n",
       "      <td>9.8</td>\n",
       "      <td>10.5</td>\n",
       "    </tr>\n",
       "    <tr>\n",
       "      <th>0</th>\n",
       "      <td>TEXT</td>\n",
       "      <td>0.0001</td>\n",
       "      <td>0.715</td>\n",
       "      <td>1.209</td>\n",
       "      <td>1.263</td>\n",
       "      <td>90.8</td>\n",
       "      <td>91.7</td>\n",
       "    </tr>\n",
       "  </tbody>\n",
       "</table>\n",
       "</div>"
      ],
      "text/plain": [
       "     Feature  best alpha  train_log_loss  cv_log_loss  test_log_loss  \\\n",
       "0       Gene      0.0001           0.981        1.210          1.197   \n",
       "0  Variation      0.0001           0.731        1.692          1.687   \n",
       "0       TEXT      0.0001           0.715        1.209          1.263   \n",
       "\n",
       "   Test-Train Data Overlap[%]  CV-Train Data Overlap[%]  \n",
       "0                        97.7                      97.7  \n",
       "0                         9.8                      10.5  \n",
       "0                        90.8                      91.7  "
      ]
     },
     "execution_count": 51,
     "metadata": {},
     "output_type": "execute_result"
    }
   ],
   "source": [
    "all_features = pd.concat([gene_report,variation_report,text_report],axis=0)\n",
    "all_features"
   ]
  },
  {
   "cell_type": "markdown",
   "id": "76385df2",
   "metadata": {},
   "source": [
    "#### Seems like Variation column can be an issues, since the there is a small overalap between data sets"
   ]
  },
  {
   "cell_type": "markdown",
   "id": "361a468a",
   "metadata": {},
   "source": [
    "### 6. Feature Prepation for Machine Learning"
   ]
  },
  {
   "cell_type": "markdown",
   "id": "a0648823",
   "metadata": {},
   "source": [
    "### 6.1 Definning Model Evaluation Function"
   ]
  },
  {
   "cell_type": "code",
   "execution_count": 52,
   "id": "7fd9e637",
   "metadata": {
    "scrolled": true
   },
   "outputs": [],
   "source": [
    "def report_log_loss(train_x, train_y, test_x, test_y,  clf):\n",
    "    clf.fit(train_x, train_y)\n",
    "    sig_clf = CalibratedClassifierCV(clf, method=\"sigmoid\")\n",
    "    sig_clf.fit(train_x, train_y)\n",
    "    sig_clf_probs = sig_clf.predict_proba(test_x)\n",
    "    return log_loss(test_y, sig_clf_probs, eps=1e-15)\n",
    "\n",
    "\n",
    "\n",
    "\n",
    "def eval_alpha_model_loss(alpha,train_feat_hotencode,cv_feat_hotencode):\n",
    "    \"\"\"\n",
    "    IN: Hyperparameter Alpha, Train_Feature_onehotencoded, CV_Feature_onehotencoded\n",
    "    OUT: Hyperparameter Tunning DataFrame \n",
    "    \"\"\"\n",
    "    cv_log_error_array=[]\n",
    "    for i in alpha:\n",
    "        clf = SGDClassifier(alpha=i, penalty='l2', loss='log', random_state=42)\n",
    "        clf.fit(train_feat_hotencode, y_train)\n",
    "        sig_clf = CalibratedClassifierCV(clf, method=\"sigmoid\")\n",
    "        sig_clf.fit(train_feat_hotencode, y_train)\n",
    "        predict_y = sig_clf.predict_proba(cv_feat_hotencode)\n",
    "    \n",
    "        cv_log_error_array.append(log_loss(y_cv, predict_y, labels=clf.classes_, eps=1e-15))\n",
    "\n",
    "    temp_df = pd.DataFrame(data={'alpha': np.round(alpha,5), \n",
    "                                 'cv_log_loss': np.round(cv_log_error_array,5)})\n",
    "    return temp_df"
   ]
  },
  {
   "cell_type": "code",
   "execution_count": 53,
   "id": "b03e3be8",
   "metadata": {
    "scrolled": true
   },
   "outputs": [],
   "source": [
    "def plot_matrices(y_test,predicted_y):  \n",
    "\n",
    "    confusion = confusion_matrix(y_test, predicted_y)\n",
    "    precision =(confusion/confusion.sum(axis=0))\n",
    "    recall =(((confusion.T)/(confusion.sum(axis=1))).T)\n",
    "    \n",
    "    \n",
    "    f,(ax1,ax2,ax3, axcb) = plt.subplots(1,4, \n",
    "                gridspec_kw={'width_ratios':[1,1,1,0.08]},figsize=(22,6))\n",
    "    \n",
    "    labels = [1,2,3,4,5,6,7,8,9]\n",
    "    \n",
    "    g1 = sns.heatmap(confusion,cbar=False,ax=ax1,annot=True, cmap=\"Blues\", fmt=\".3f\", xticklabels=labels, yticklabels=labels,)\n",
    "    g1.set_ylabel('Class')\n",
    "    g1.set_xlabel('Class')\n",
    "    g1.set_title('Confusion')\n",
    "    g2 = sns.heatmap(precision,cmap=\"Blues\",cbar=False,ax=ax2, annot=True,fmt=\".3f\", xticklabels=labels, yticklabels=labels)\n",
    "    g2.set_ylabel('Class')\n",
    "    g2.set_xlabel('Class')\n",
    "    g2.set_yticks(labels)\n",
    "    g2.set_title('Precision')\n",
    "    g3 = sns.heatmap(recall,cmap=\"Blues\",ax=ax3, cbar_ax=axcb, annot=True, fmt=\".3f\", xticklabels=labels, yticklabels=labels)\n",
    "    g3.set_ylabel('Class')\n",
    "    g3.set_xlabel('Class')\n",
    "    g3.set_title('Recall')\n",
    "    g3.set_yticks(labels)\n",
    "    \n",
    "    for ax in [g1,g2,g3]:\n",
    "        tl = ax.get_xticklabels()\n",
    "        ax.set_xticklabels(tl, rotation=0)\n",
    "        tly = ax.get_yticklabels()\n",
    "        ax.set_yticklabels(tly, rotation=0)  \n",
    "    plt.show()   \n",
    "\n",
    "def predict_and_plot_confusion_matrix(train_x, train_y,test_x, test_y, clf):\n",
    "    clf.fit(train_x, train_y)\n",
    "    sig_clf = CalibratedClassifierCV(clf, method=\"sigmoid\")\n",
    "    sig_clf.fit(train_x, train_y)\n",
    "    pred_y = sig_clf.predict(test_x)\n",
    "\n",
    "    # for calculating log_loss we willl provide the array of probabilities belongs to each class\n",
    "    # calculating the number of data points that are misclassified\n",
    "    plot_matrices(test_y, pred_y)    \n",
    "\n",
    "def model_performance(name,clf,best_alpha,\n",
    "                 train_X_hotencode,\n",
    "                 cv_X_hotencode,\n",
    "                 test_X_hotencode):\n",
    "    '''\n",
    "    IN: Model name, Classifier, Best Alpha, and All 3 OneHotEncoded Sets \n",
    "    OUT: Log-Loss Report data frame\n",
    "    '''\n",
    "    # Model\n",
    "    clf = clf\n",
    "    clf.fit(train_X_hotencode, train_y)\n",
    "    sig_clf = CalibratedClassifierCV(clf, method=\"sigmoid\")\n",
    "    sig_clf.fit(train_X_hotencode, train_y)\n",
    "    \n",
    "    train_predict_y = sig_clf.predict_proba(train_X_hotencode)\n",
    "    train_log_loss = np.round(log_loss(y_train, train_predict_y, labels=clf.classes_, eps=1e-15),3)\n",
    "\n",
    "    cv_predict_y = sig_clf.predict_proba(cv_X_hotencode)\n",
    "    cv_log_loss = np.round(log_loss(y_cv, cv_predict_y, labels=clf.classes_, eps=1e-15),3)\n",
    "    \n",
    "    test_predict_y = sig_clf.predict_proba(test_X_hotencode)\n",
    "    test_log_loss = np.round(log_loss(y_test, test_predict_y, labels=clf.classes_, eps=1e-15),3)\n",
    "    \n",
    "    pred_y = sig_clf.predict(test_X_hotencode)\n",
    "    \n",
    "    miss_class = np.count_nonzero((pred_y- test_y))/test_y.shape[0]\n",
    "    \n",
    "    \n",
    "    report_log_loss=[name,\n",
    "                     best_alpha,\n",
    "                     train_log_loss,\n",
    "                     cv_log_loss,\n",
    "                     test_log_loss,\n",
    "                     miss_class]\n",
    "    \n",
    "    temp_df = pd.DataFrame([report_log_loss],columns=['Model','best alpha','train_log_loss','cv_log_loss','test_log_loss','Miss_classified(%)' ])   \n",
    "    return temp_df"
   ]
  },
  {
   "cell_type": "markdown",
   "id": "2748f9b5",
   "metadata": {},
   "source": [
    "### 6.2 Feature Stacking\n",
    "- All three hot encoded features are stacked together"
   ]
  },
  {
   "cell_type": "code",
   "execution_count": 54,
   "id": "45e83310",
   "metadata": {
    "scrolled": true
   },
   "outputs": [],
   "source": [
    "from scipy.sparse import hstack\n",
    "\n",
    "train_gene_var_onehotCoding = hstack((train_gene_feature_onehotCoding,train_variation_feature_onehotCoding))\n",
    "test_gene_var_onehotCoding = hstack((test_gene_feature_onehotCoding,test_variation_feature_onehotCoding))\n",
    "cv_gene_var_onehotCoding = hstack((cv_gene_feature_onehotCoding,cv_variation_feature_onehotCoding))\n",
    "\n",
    "train_x_onehotCoding = hstack((train_gene_var_onehotCoding, train_text_feature_onehotCoding)).tocsr()\n",
    "train_y = np.array(list(train_df['Class']))\n",
    "\n",
    "test_x_onehotCoding = hstack((test_gene_var_onehotCoding, test_text_feature_onehotCoding)).tocsr()\n",
    "test_y = np.array(list(test_df['Class']))\n",
    "\n",
    "cv_x_onehotCoding = hstack((cv_gene_var_onehotCoding, cv_text_feature_onehotCoding)).tocsr()\n",
    "cv_y = np.array(list(cv_df['Class']))"
   ]
  },
  {
   "cell_type": "markdown",
   "id": "2ad6a221",
   "metadata": {},
   "source": [
    "### 6.3 TI_DF"
   ]
  },
  {
   "cell_type": "code",
   "execution_count": 55,
   "id": "e50b76b3",
   "metadata": {
    "scrolled": true
   },
   "outputs": [
    {
     "data": {
      "text/plain": [
       "TfidfVectorizer(max_features=16000, min_df=5, ngram_range=(1, 3),\n",
       "                stop_words='english', strip_accents='unicode',\n",
       "                sublinear_tf=True, token_pattern='\\\\w+')"
      ]
     },
     "execution_count": 55,
     "metadata": {},
     "output_type": "execute_result"
    }
   ],
   "source": [
    "from sklearn.feature_extraction.text import TfidfVectorizer\n",
    "tfidf_vectorizer = TfidfVectorizer(\n",
    "    min_df=5, max_features=16000, strip_accents='unicode', lowercase=True,\n",
    "    analyzer='word', token_pattern=r'\\w+', ngram_range=(1, 3), use_idf=True, \n",
    "    smooth_idf=True, sublinear_tf=True, stop_words = 'english'\n",
    ")\n",
    "\n",
    "tfidf_vectorizer.fit(train_df['clean_text'])\n",
    "\n"
   ]
  },
  {
   "cell_type": "code",
   "execution_count": 56,
   "id": "2fd9b148",
   "metadata": {
    "scrolled": true
   },
   "outputs": [],
   "source": [
    "X_train_tfidfmatrix = tfidf_vectorizer.transform(train_df ['clean_text'].values)\n",
    "y_train = train_df['Class'].values"
   ]
  },
  {
   "cell_type": "code",
   "execution_count": 57,
   "id": "16ad40fd",
   "metadata": {
    "scrolled": true
   },
   "outputs": [
    {
     "data": {
      "text/plain": [
       "TfidfVectorizer(max_features=16000, min_df=5, ngram_range=(1, 3),\n",
       "                stop_words='english', strip_accents='unicode',\n",
       "                sublinear_tf=True, token_pattern='\\\\w+')"
      ]
     },
     "execution_count": 57,
     "metadata": {},
     "output_type": "execute_result"
    }
   ],
   "source": [
    "tfidf_vectorizer.fit(test_df['clean_text'])"
   ]
  },
  {
   "cell_type": "code",
   "execution_count": 58,
   "id": "8b2dc0aa",
   "metadata": {
    "scrolled": true
   },
   "outputs": [],
   "source": [
    "X_test_tfidfmatrix = tfidf_vectorizer.transform(test_df['clean_text'].values)\n"
   ]
  },
  {
   "cell_type": "markdown",
   "id": "008816e6",
   "metadata": {},
   "source": [
    "# 7 Model Evaluation"
   ]
  },
  {
   "cell_type": "code",
   "execution_count": 59,
   "id": "27e86bf0",
   "metadata": {
    "scrolled": true
   },
   "outputs": [],
   "source": [
    "from sklearn.linear_model import LogisticRegression\n",
    "from sklearn.naive_bayes import MultinomialNB\n",
    "from sklearn.model_selection import StratifiedKFold\n",
    "from sklearn.metrics import log_loss, accuracy_score\n",
    "from sklearn.model_selection import cross_val_predict\n",
    "\n",
    "\n",
    "\n",
    "def model(X, y, clf=None):\n",
    "    prob = cross_val_predict(clf, X, y, cv=StratifiedKFold(n_splits=5, random_state=8,shuffle=True), \n",
    "                              n_jobs=-1, method='predict_proba', verbose=2)\n",
    "    predi_indices = np.argmax(prob, axis=1)\n",
    "    classes = np.unique(y)\n",
    "    predi = classes[predi_indices]\n",
    "    print('Log loss: {}'.format(log_loss(y, prob)))\n",
    "    print('Accuracy: {}'.format(accuracy_score(y, predi)))"
   ]
  },
  {
   "cell_type": "markdown",
   "id": "ac5102e5",
   "metadata": {},
   "source": [
    "## 7.1 Logistic Regression"
   ]
  },
  {
   "cell_type": "code",
   "execution_count": 60,
   "id": "e5444b77",
   "metadata": {
    "scrolled": true
   },
   "outputs": [
    {
     "name": "stderr",
     "output_type": "stream",
     "text": [
      "[Parallel(n_jobs=-1)]: Using backend LokyBackend with 8 concurrent workers.\n",
      "[Parallel(n_jobs=-1)]: Done   2 out of   5 | elapsed:  1.0min remaining:  1.6min\n",
      "[Parallel(n_jobs=-1)]: Done   5 out of   5 | elapsed:  1.1min remaining:    0.0s\n",
      "[Parallel(n_jobs=-1)]: Done   5 out of   5 | elapsed:  1.1min finished\n"
     ]
    },
    {
     "name": "stdout",
     "output_type": "stream",
     "text": [
      "Log loss: 1.1514598608529307\n",
      "Accuracy: 0.6351224105461394\n"
     ]
    }
   ],
   "source": [
    "model(X_train_tfidfmatrix, y_train, clf=LogisticRegression())"
   ]
  },
  {
   "cell_type": "code",
   "execution_count": 61,
   "id": "f547293b",
   "metadata": {
    "scrolled": true
   },
   "outputs": [
    {
     "name": "stderr",
     "output_type": "stream",
     "text": [
      "[Parallel(n_jobs=-1)]: Using backend LokyBackend with 8 concurrent workers.\n",
      "[Parallel(n_jobs=-1)]: Done   2 out of   5 | elapsed:  1.0min remaining:  1.5min\n",
      "[Parallel(n_jobs=-1)]: Done   5 out of   5 | elapsed:  1.1min remaining:    0.0s\n",
      "[Parallel(n_jobs=-1)]: Done   5 out of   5 | elapsed:  1.1min finished\n"
     ]
    },
    {
     "name": "stdout",
     "output_type": "stream",
     "text": [
      "Log loss: 1.122440529214119\n",
      "Accuracy: 0.6581920903954802\n"
     ]
    }
   ],
   "source": [
    "model(train_x_onehotCoding, train_y, clf=LogisticRegression())"
   ]
  },
  {
   "cell_type": "markdown",
   "id": "43508af4",
   "metadata": {},
   "source": [
    "## 7.2 Naive Bayes"
   ]
  },
  {
   "cell_type": "code",
   "execution_count": 62,
   "id": "4f1e64e0",
   "metadata": {
    "scrolled": false
   },
   "outputs": [
    {
     "name": "stderr",
     "output_type": "stream",
     "text": [
      "[Parallel(n_jobs=-1)]: Using backend LokyBackend with 8 concurrent workers.\n",
      "[Parallel(n_jobs=-1)]: Done   2 out of   5 | elapsed:    1.4s remaining:    2.2s\n",
      "[Parallel(n_jobs=-1)]: Done   5 out of   5 | elapsed:    1.4s remaining:    0.0s\n",
      "[Parallel(n_jobs=-1)]: Done   5 out of   5 | elapsed:    1.4s finished\n"
     ]
    },
    {
     "name": "stdout",
     "output_type": "stream",
     "text": [
      "Log loss: 2.0940192708141665\n",
      "Accuracy: 0.5315442561205274\n"
     ]
    }
   ],
   "source": [
    "model(X_train_tfidfmatrix, y_train, clf=MultinomialNB() )"
   ]
  },
  {
   "cell_type": "code",
   "execution_count": 63,
   "id": "36ffde61",
   "metadata": {
    "scrolled": true
   },
   "outputs": [
    {
     "name": "stderr",
     "output_type": "stream",
     "text": [
      "[Parallel(n_jobs=-1)]: Using backend LokyBackend with 8 concurrent workers.\n",
      "[Parallel(n_jobs=-1)]: Done   2 out of   5 | elapsed:    0.5s remaining:    0.8s\n",
      "[Parallel(n_jobs=-1)]: Done   5 out of   5 | elapsed:    0.5s remaining:    0.0s\n",
      "[Parallel(n_jobs=-1)]: Done   5 out of   5 | elapsed:    0.5s finished\n"
     ]
    },
    {
     "name": "stdout",
     "output_type": "stream",
     "text": [
      "Log loss: 6.825323592674892\n",
      "Accuracy: 0.6195856873822976\n"
     ]
    }
   ],
   "source": [
    "model(train_x_onehotCoding, train_y, clf=MultinomialNB())"
   ]
  },
  {
   "cell_type": "code",
   "execution_count": null,
   "id": "bfdab8b1",
   "metadata": {
    "scrolled": true
   },
   "outputs": [],
   "source": []
  }
 ],
 "metadata": {
  "kernelspec": {
   "display_name": "Python 3 (ipykernel)",
   "language": "python",
   "name": "python3"
  },
  "language_info": {
   "codemirror_mode": {
    "name": "ipython",
    "version": 3
   },
   "file_extension": ".py",
   "mimetype": "text/x-python",
   "name": "python",
   "nbconvert_exporter": "python",
   "pygments_lexer": "ipython3",
   "version": "3.9.12"
  }
 },
 "nbformat": 4,
 "nbformat_minor": 5
}
